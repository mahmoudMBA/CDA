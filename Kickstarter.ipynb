{
 "cells": [
  {
   "cell_type": "markdown",
   "metadata": {},
   "source": [
    "# Kickstarter: Exploration & Prediction\n",
    "By:\n",
    "* Cen Liang\n",
    "* Mahmoud Belhaj\n",
    "* Jonas Cristens"
   ]
  },
  {
   "cell_type": "markdown",
   "metadata": {},
   "source": [
    "### Description:"
   ]
  },
  {
   "cell_type": "markdown",
   "metadata": {},
   "source": [
    "\n",
    "\n",
    "Kickstarter Is an American public-benefit corporation based in Brooklyn, New York, that maintains a global crowdfunding platform focused on creativity The company's stated mission is to \"help bring creative projects to life\". Kickstarter has reportedly received more than $1.9 billion in pledges from 9.4 million backers to fund 257,000 creative projects, such as films, music, stage shows, comics, journalism, video games, technology and food-related projects.\n",
    "\n",
    "People who back Kickstarter projects are offered tangible rewards or experiences in exchange for their pledges. This model traces its roots to subscription model of arts patronage, where artists would go directly to their audiences to fund their work.\n"
   ]
  },
  {
   "cell_type": "markdown",
   "metadata": {},
   "source": [
    "### Columns:"
   ]
  },
  {
   "cell_type": "markdown",
   "metadata": {},
   "source": [
    "ID\n",
    "* internal kickstarter id\n",
    "\n",
    "name\n",
    "* name of project - A project is a finite work with a clear goal that you’d like to bring to life. Think albums, books, or films.\n",
    "\n",
    "category\n",
    "* category\n",
    "\n",
    "main_category\n",
    "* category of campaign\n",
    "\n",
    "currency\n",
    "* currency used to support\n",
    "\n",
    "deadline\n",
    "* deadline for crowdfunding\n",
    "\n",
    "goal\n",
    "* fundraising goal - The funding goal is the amount of money that a creator needs to complete their project.\n",
    "\n",
    "launched\n",
    "* date launched\n",
    "\n",
    "pledged\n",
    "* amount pledged by \"crowd\"\n",
    "\n",
    "state\n",
    "* Current condition the project is in\n",
    "\n",
    "backers\n",
    "* number of backers\n",
    "\n",
    "country\n",
    "* country pledged from\n",
    "\n",
    "usd pledged\n",
    "* amount of money pledged\n",
    "\n",
    "Goal\n",
    "* amount in USD "
   ]
  },
  {
   "cell_type": "markdown",
   "metadata": {},
   "source": [
    "### Load the required packages"
   ]
  },
  {
   "cell_type": "code",
   "execution_count": 11,
   "metadata": {
    "ExecuteTime": {
     "end_time": "2019-05-09T09:57:33.120737Z",
     "start_time": "2019-05-09T09:57:33.114379Z"
    }
   },
   "outputs": [],
   "source": [
    "import pandas as pd\n",
    "import numpy as np\n",
    "import matplotlib.pyplot as plt\n",
    "import seaborn as sns\n",
    "from sklearn.model_selection import train_test_split\n",
    "from sklearn.linear_model import LogisticRegression\n",
    "from sklearn.preprocessing import normalize\n",
    "from sklearn.metrics import accuracy_score\n",
    "from sklearn.ensemble import ExtraTreesClassifier\n",
    "from sklearn.metrics import silhouette_score\n",
    "from sklearn.svm import SVC\n",
    "from sklearn.decomposition import PCA\n",
    "from sklearn.metrics import roc_curve\n",
    "\n",
    "from scikitplot.metrics import plot_confusion_matrix\n",
    "from scikitplot.estimators import plot_feature_importances\n",
    "from scikitplot.estimators import plot_learning_curve\n",
    "from scikitplot.cluster import plot_elbow_curve\n",
    "from scikitplot.metrics import plot_silhouette\n",
    "from scikitplot.decomposition import plot_pca_component_variance\n",
    "from scikitplot.metrics import plot_roc\n",
    "\n",
    "from imblearn.over_sampling import SMOTE, RandomOverSampler\n",
    "from sklearn.neural_network import MLPClassifier\n",
    "from scipy import stats\n",
    "import textstat\n",
    "\n",
    "from sklearn.cluster import KMeans\n",
    "import warnings\n",
    "warnings.filterwarnings('ignore')"
   ]
  },
  {
   "cell_type": "markdown",
   "metadata": {},
   "source": [
    "### Read the Kickstarter projects file 201801 csv and parse the dates and change the categorical columns to categories"
   ]
  },
  {
   "cell_type": "code",
   "execution_count": 12,
   "metadata": {
    "ExecuteTime": {
     "end_time": "2019-05-09T09:57:35.154551Z",
     "start_time": "2019-05-09T09:57:33.513572Z"
    }
   },
   "outputs": [
    {
     "data": {
      "text/html": [
       "<div>\n",
       "<style scoped>\n",
       "    .dataframe tbody tr th:only-of-type {\n",
       "        vertical-align: middle;\n",
       "    }\n",
       "\n",
       "    .dataframe tbody tr th {\n",
       "        vertical-align: top;\n",
       "    }\n",
       "\n",
       "    .dataframe thead th {\n",
       "        text-align: right;\n",
       "    }\n",
       "</style>\n",
       "<table border=\"1\" class=\"dataframe\">\n",
       "  <thead>\n",
       "    <tr style=\"text-align: right;\">\n",
       "      <th></th>\n",
       "      <th>name</th>\n",
       "      <th>category</th>\n",
       "      <th>main_category</th>\n",
       "      <th>currency</th>\n",
       "      <th>deadline</th>\n",
       "      <th>goal</th>\n",
       "      <th>launched</th>\n",
       "      <th>pledged</th>\n",
       "      <th>state</th>\n",
       "      <th>backers</th>\n",
       "      <th>country</th>\n",
       "      <th>usd pledged</th>\n",
       "      <th>usd_pledged_real</th>\n",
       "      <th>usd_goal_real</th>\n",
       "    </tr>\n",
       "    <tr>\n",
       "      <th>ID</th>\n",
       "      <th></th>\n",
       "      <th></th>\n",
       "      <th></th>\n",
       "      <th></th>\n",
       "      <th></th>\n",
       "      <th></th>\n",
       "      <th></th>\n",
       "      <th></th>\n",
       "      <th></th>\n",
       "      <th></th>\n",
       "      <th></th>\n",
       "      <th></th>\n",
       "      <th></th>\n",
       "      <th></th>\n",
       "    </tr>\n",
       "  </thead>\n",
       "  <tbody>\n",
       "    <tr>\n",
       "      <th>1000002330</th>\n",
       "      <td>The Songs of Adelaide &amp; Abullah</td>\n",
       "      <td>Poetry</td>\n",
       "      <td>Publishing</td>\n",
       "      <td>GBP</td>\n",
       "      <td>2015-10-09</td>\n",
       "      <td>1000.0</td>\n",
       "      <td>2015-08-11 12:12:28</td>\n",
       "      <td>0.0</td>\n",
       "      <td>failed</td>\n",
       "      <td>0</td>\n",
       "      <td>GB</td>\n",
       "      <td>0.0</td>\n",
       "      <td>0.0</td>\n",
       "      <td>1533.95</td>\n",
       "    </tr>\n",
       "    <tr>\n",
       "      <th>1000003930</th>\n",
       "      <td>Greeting From Earth: ZGAC Arts Capsule For ET</td>\n",
       "      <td>Narrative Film</td>\n",
       "      <td>Film &amp; Video</td>\n",
       "      <td>USD</td>\n",
       "      <td>2017-11-01</td>\n",
       "      <td>30000.0</td>\n",
       "      <td>2017-09-02 04:43:57</td>\n",
       "      <td>2421.0</td>\n",
       "      <td>failed</td>\n",
       "      <td>15</td>\n",
       "      <td>US</td>\n",
       "      <td>100.0</td>\n",
       "      <td>2421.0</td>\n",
       "      <td>30000.00</td>\n",
       "    </tr>\n",
       "    <tr>\n",
       "      <th>1000004038</th>\n",
       "      <td>Where is Hank?</td>\n",
       "      <td>Narrative Film</td>\n",
       "      <td>Film &amp; Video</td>\n",
       "      <td>USD</td>\n",
       "      <td>2013-02-26</td>\n",
       "      <td>45000.0</td>\n",
       "      <td>2013-01-12 00:20:50</td>\n",
       "      <td>220.0</td>\n",
       "      <td>failed</td>\n",
       "      <td>3</td>\n",
       "      <td>US</td>\n",
       "      <td>220.0</td>\n",
       "      <td>220.0</td>\n",
       "      <td>45000.00</td>\n",
       "    </tr>\n",
       "    <tr>\n",
       "      <th>1000007540</th>\n",
       "      <td>ToshiCapital Rekordz Needs Help to Complete Album</td>\n",
       "      <td>Music</td>\n",
       "      <td>Music</td>\n",
       "      <td>USD</td>\n",
       "      <td>2012-04-16</td>\n",
       "      <td>5000.0</td>\n",
       "      <td>2012-03-17 03:24:11</td>\n",
       "      <td>1.0</td>\n",
       "      <td>failed</td>\n",
       "      <td>1</td>\n",
       "      <td>US</td>\n",
       "      <td>1.0</td>\n",
       "      <td>1.0</td>\n",
       "      <td>5000.00</td>\n",
       "    </tr>\n",
       "    <tr>\n",
       "      <th>1000011046</th>\n",
       "      <td>Community Film Project: The Art of Neighborhoo...</td>\n",
       "      <td>Film &amp; Video</td>\n",
       "      <td>Film &amp; Video</td>\n",
       "      <td>USD</td>\n",
       "      <td>2015-08-29</td>\n",
       "      <td>19500.0</td>\n",
       "      <td>2015-07-04 08:35:03</td>\n",
       "      <td>1283.0</td>\n",
       "      <td>canceled</td>\n",
       "      <td>14</td>\n",
       "      <td>US</td>\n",
       "      <td>1283.0</td>\n",
       "      <td>1283.0</td>\n",
       "      <td>19500.00</td>\n",
       "    </tr>\n",
       "  </tbody>\n",
       "</table>\n",
       "</div>"
      ],
      "text/plain": [
       "                                                         name        category  \\\n",
       "ID                                                                              \n",
       "1000002330                    The Songs of Adelaide & Abullah          Poetry   \n",
       "1000003930      Greeting From Earth: ZGAC Arts Capsule For ET  Narrative Film   \n",
       "1000004038                                     Where is Hank?  Narrative Film   \n",
       "1000007540  ToshiCapital Rekordz Needs Help to Complete Album           Music   \n",
       "1000011046  Community Film Project: The Art of Neighborhoo...    Film & Video   \n",
       "\n",
       "           main_category currency   deadline     goal            launched  \\\n",
       "ID                                                                          \n",
       "1000002330    Publishing      GBP 2015-10-09   1000.0 2015-08-11 12:12:28   \n",
       "1000003930  Film & Video      USD 2017-11-01  30000.0 2017-09-02 04:43:57   \n",
       "1000004038  Film & Video      USD 2013-02-26  45000.0 2013-01-12 00:20:50   \n",
       "1000007540         Music      USD 2012-04-16   5000.0 2012-03-17 03:24:11   \n",
       "1000011046  Film & Video      USD 2015-08-29  19500.0 2015-07-04 08:35:03   \n",
       "\n",
       "            pledged     state  backers country  usd pledged  usd_pledged_real  \\\n",
       "ID                                                                              \n",
       "1000002330      0.0    failed        0      GB          0.0               0.0   \n",
       "1000003930   2421.0    failed       15      US        100.0            2421.0   \n",
       "1000004038    220.0    failed        3      US        220.0             220.0   \n",
       "1000007540      1.0    failed        1      US          1.0               1.0   \n",
       "1000011046   1283.0  canceled       14      US       1283.0            1283.0   \n",
       "\n",
       "            usd_goal_real  \n",
       "ID                         \n",
       "1000002330        1533.95  \n",
       "1000003930       30000.00  \n",
       "1000004038       45000.00  \n",
       "1000007540        5000.00  \n",
       "1000011046       19500.00  "
      ]
     },
     "execution_count": 12,
     "metadata": {},
     "output_type": "execute_result"
    }
   ],
   "source": [
    "df = pd.read_csv('ks-projects-201801.csv', parse_dates = ['launched', 'deadline'], index_col = 'ID')\n",
    "df = df.astype({\"category\": 'category',\n",
    "                \"main_category\": 'category', \n",
    "                \"currency\": 'category', \n",
    "                'state' : 'category', \n",
    "                'country' : 'category',\n",
    "               })\n",
    "df.head()"
   ]
  },
  {
   "cell_type": "markdown",
   "metadata": {},
   "source": [
    "### Check if there is data missing"
   ]
  },
  {
   "cell_type": "code",
   "execution_count": 13,
   "metadata": {
    "ExecuteTime": {
     "end_time": "2019-05-09T09:57:35.261682Z",
     "start_time": "2019-05-09T09:57:35.156745Z"
    }
   },
   "outputs": [
    {
     "name": "stdout",
     "output_type": "stream",
     "text": [
      "<class 'pandas.core.frame.DataFrame'>\n",
      "Int64Index: 378661 entries, 1000002330 to 999988282\n",
      "Data columns (total 14 columns):\n",
      "name                378657 non-null object\n",
      "category            378661 non-null category\n",
      "main_category       378661 non-null category\n",
      "currency            378661 non-null category\n",
      "deadline            378661 non-null datetime64[ns]\n",
      "goal                378661 non-null float64\n",
      "launched            378661 non-null datetime64[ns]\n",
      "pledged             378661 non-null float64\n",
      "state               378661 non-null category\n",
      "backers             378661 non-null int64\n",
      "country             378661 non-null category\n",
      "usd pledged         374864 non-null float64\n",
      "usd_pledged_real    378661 non-null float64\n",
      "usd_goal_real       378661 non-null float64\n",
      "dtypes: category(5), datetime64[ns](2), float64(5), int64(1), object(1)\n",
      "memory usage: 31.1+ MB\n"
     ]
    }
   ],
   "source": [
    "df.info()"
   ]
  },
  {
   "cell_type": "markdown",
   "metadata": {},
   "source": [
    "There are 3797 missing values for the column `usd_plegded` and 4 missing for the column `name`, there in total 378661 rows and 16 columns. \n",
    "\n",
    "`usd_plegded` is a conversion made by KS which sometime is the `usd_pledged_real` or sometimes a calculation which we don't understand."
   ]
  },
  {
   "cell_type": "code",
   "execution_count": 14,
   "metadata": {
    "ExecuteTime": {
     "end_time": "2019-05-09T09:57:35.418482Z",
     "start_time": "2019-05-09T09:57:35.263197Z"
    }
   },
   "outputs": [
    {
     "data": {
      "text/html": [
       "<div>\n",
       "<style scoped>\n",
       "    .dataframe tbody tr th:only-of-type {\n",
       "        vertical-align: middle;\n",
       "    }\n",
       "\n",
       "    .dataframe tbody tr th {\n",
       "        vertical-align: top;\n",
       "    }\n",
       "\n",
       "    .dataframe thead th {\n",
       "        text-align: right;\n",
       "    }\n",
       "</style>\n",
       "<table border=\"1\" class=\"dataframe\">\n",
       "  <thead>\n",
       "    <tr style=\"text-align: right;\">\n",
       "      <th></th>\n",
       "      <th>goal</th>\n",
       "      <th>pledged</th>\n",
       "      <th>backers</th>\n",
       "      <th>usd pledged</th>\n",
       "      <th>usd_pledged_real</th>\n",
       "      <th>usd_goal_real</th>\n",
       "    </tr>\n",
       "  </thead>\n",
       "  <tbody>\n",
       "    <tr>\n",
       "      <th>count</th>\n",
       "      <td>3.786610e+05</td>\n",
       "      <td>3.786610e+05</td>\n",
       "      <td>378661.000000</td>\n",
       "      <td>3.748640e+05</td>\n",
       "      <td>3.786610e+05</td>\n",
       "      <td>3.786610e+05</td>\n",
       "    </tr>\n",
       "    <tr>\n",
       "      <th>mean</th>\n",
       "      <td>4.908079e+04</td>\n",
       "      <td>9.682979e+03</td>\n",
       "      <td>105.617476</td>\n",
       "      <td>7.036729e+03</td>\n",
       "      <td>9.058924e+03</td>\n",
       "      <td>4.545440e+04</td>\n",
       "    </tr>\n",
       "    <tr>\n",
       "      <th>std</th>\n",
       "      <td>1.183391e+06</td>\n",
       "      <td>9.563601e+04</td>\n",
       "      <td>907.185035</td>\n",
       "      <td>7.863975e+04</td>\n",
       "      <td>9.097334e+04</td>\n",
       "      <td>1.152950e+06</td>\n",
       "    </tr>\n",
       "    <tr>\n",
       "      <th>min</th>\n",
       "      <td>1.000000e-02</td>\n",
       "      <td>0.000000e+00</td>\n",
       "      <td>0.000000</td>\n",
       "      <td>0.000000e+00</td>\n",
       "      <td>0.000000e+00</td>\n",
       "      <td>1.000000e-02</td>\n",
       "    </tr>\n",
       "    <tr>\n",
       "      <th>25%</th>\n",
       "      <td>2.000000e+03</td>\n",
       "      <td>3.000000e+01</td>\n",
       "      <td>2.000000</td>\n",
       "      <td>1.698000e+01</td>\n",
       "      <td>3.100000e+01</td>\n",
       "      <td>2.000000e+03</td>\n",
       "    </tr>\n",
       "    <tr>\n",
       "      <th>50%</th>\n",
       "      <td>5.200000e+03</td>\n",
       "      <td>6.200000e+02</td>\n",
       "      <td>12.000000</td>\n",
       "      <td>3.947200e+02</td>\n",
       "      <td>6.243300e+02</td>\n",
       "      <td>5.500000e+03</td>\n",
       "    </tr>\n",
       "    <tr>\n",
       "      <th>75%</th>\n",
       "      <td>1.600000e+04</td>\n",
       "      <td>4.076000e+03</td>\n",
       "      <td>56.000000</td>\n",
       "      <td>3.034090e+03</td>\n",
       "      <td>4.050000e+03</td>\n",
       "      <td>1.550000e+04</td>\n",
       "    </tr>\n",
       "    <tr>\n",
       "      <th>max</th>\n",
       "      <td>1.000000e+08</td>\n",
       "      <td>2.033899e+07</td>\n",
       "      <td>219382.000000</td>\n",
       "      <td>2.033899e+07</td>\n",
       "      <td>2.033899e+07</td>\n",
       "      <td>1.663614e+08</td>\n",
       "    </tr>\n",
       "  </tbody>\n",
       "</table>\n",
       "</div>"
      ],
      "text/plain": [
       "               goal       pledged        backers   usd pledged  \\\n",
       "count  3.786610e+05  3.786610e+05  378661.000000  3.748640e+05   \n",
       "mean   4.908079e+04  9.682979e+03     105.617476  7.036729e+03   \n",
       "std    1.183391e+06  9.563601e+04     907.185035  7.863975e+04   \n",
       "min    1.000000e-02  0.000000e+00       0.000000  0.000000e+00   \n",
       "25%    2.000000e+03  3.000000e+01       2.000000  1.698000e+01   \n",
       "50%    5.200000e+03  6.200000e+02      12.000000  3.947200e+02   \n",
       "75%    1.600000e+04  4.076000e+03      56.000000  3.034090e+03   \n",
       "max    1.000000e+08  2.033899e+07  219382.000000  2.033899e+07   \n",
       "\n",
       "       usd_pledged_real  usd_goal_real  \n",
       "count      3.786610e+05   3.786610e+05  \n",
       "mean       9.058924e+03   4.545440e+04  \n",
       "std        9.097334e+04   1.152950e+06  \n",
       "min        0.000000e+00   1.000000e-02  \n",
       "25%        3.100000e+01   2.000000e+03  \n",
       "50%        6.243300e+02   5.500000e+03  \n",
       "75%        4.050000e+03   1.550000e+04  \n",
       "max        2.033899e+07   1.663614e+08  "
      ]
     },
     "execution_count": 14,
     "metadata": {},
     "output_type": "execute_result"
    }
   ],
   "source": [
    "df.describe()"
   ]
  },
  {
   "cell_type": "markdown",
   "metadata": {},
   "source": [
    "The standard deviation in goal, pledged, usd_pledged, usd_pledged_real and usd_goal_real is high. This indicates\n",
    "that the data is spread out."
   ]
  },
  {
   "cell_type": "markdown",
   "metadata": {},
   "source": [
    "### Check the data types"
   ]
  },
  {
   "cell_type": "code",
   "execution_count": 15,
   "metadata": {
    "ExecuteTime": {
     "end_time": "2019-05-09T09:57:35.425452Z",
     "start_time": "2019-05-09T09:57:35.420802Z"
    }
   },
   "outputs": [
    {
     "data": {
      "text/plain": [
       "name                        object\n",
       "category                  category\n",
       "main_category             category\n",
       "currency                  category\n",
       "deadline            datetime64[ns]\n",
       "goal                       float64\n",
       "launched            datetime64[ns]\n",
       "pledged                    float64\n",
       "state                     category\n",
       "backers                      int64\n",
       "country                   category\n",
       "usd pledged                float64\n",
       "usd_pledged_real           float64\n",
       "usd_goal_real              float64\n",
       "dtype: object"
      ]
     },
     "execution_count": 15,
     "metadata": {},
     "output_type": "execute_result"
    }
   ],
   "source": [
    "df.dtypes"
   ]
  },
  {
   "cell_type": "markdown",
   "metadata": {},
   "source": [
    "The dtypes are correct now we can calculate the difference in days between `launced` and `deadline`."
   ]
  },
  {
   "cell_type": "markdown",
   "metadata": {},
   "source": [
    "### Plot the distribution of the numerical variables"
   ]
  },
  {
   "cell_type": "code",
   "execution_count": 16,
   "metadata": {
    "ExecuteTime": {
     "end_time": "2019-05-09T09:57:36.284360Z",
     "start_time": "2019-05-09T09:57:35.478707Z"
    }
   },
   "outputs": [
    {
     "data": {
      "image/png": "[encoded data removed]",
      "text/plain": [
       "<Figure size 1080x720 with 6 Axes>"
      ]
     },
     "metadata": {
      "needs_background": "light"
     },
     "output_type": "display_data"
    }
   ],
   "source": [
    "df.hist(figsize=(15,10));"
   ]
  },
  {
   "cell_type": "markdown",
   "metadata": {},
   "source": [
    "The difference between the average and max value is huge. This means that there are serious outliers which we decided to delete (this will be done in the next step). The outliers will be removed by removing the data which is 3 or more standard deviations away from the mean."
   ]
  },
  {
   "cell_type": "code",
   "execution_count": 17,
   "metadata": {
    "ExecuteTime": {
     "end_time": "2019-05-09T09:57:36.289403Z",
     "start_time": "2019-05-09T09:57:36.286743Z"
    }
   },
   "outputs": [],
   "source": [
    "cols = ['goal', 'pledged', 'backers', 'usd pledged', 'usd_pledged_real',\n",
    "       'usd_goal_real']"
   ]
  },
  {
   "cell_type": "code",
   "execution_count": 18,
   "metadata": {
    "ExecuteTime": {
     "end_time": "2019-05-09T09:57:36.538616Z",
     "start_time": "2019-05-09T09:57:36.291220Z"
    }
   },
   "outputs": [],
   "source": [
    "df[cols] = df[cols].mask((df[cols] - df[cols].mean()).abs() > 3 * df[cols].std())\n",
    "df = df.dropna()"
   ]
  },
  {
   "cell_type": "markdown",
   "metadata": {},
   "source": [
    "Now all the data which is more than 3 standard devations away from the mean is removed."
   ]
  },
  {
   "cell_type": "code",
   "execution_count": 19,
   "metadata": {
    "ExecuteTime": {
     "end_time": "2019-05-09T09:57:37.668919Z",
     "start_time": "2019-05-09T09:57:36.913300Z"
    }
   },
   "outputs": [
    {
     "data": {
      "image/png": "[encoded data removed]",
      "text/plain": [
       "<Figure size 1080x720 with 6 Axes>"
      ]
     },
     "metadata": {
      "needs_background": "light"
     },
     "output_type": "display_data"
    }
   ],
   "source": [
    "df.hist(figsize=(15,10));"
   ]
  },
  {
   "cell_type": "markdown",
   "metadata": {},
   "source": [
    "### Number of words and characters in name"
   ]
  },
  {
   "cell_type": "markdown",
   "metadata": {},
   "source": [
    "Calculate the lenght of the name of the Kickstarter project."
   ]
  },
  {
   "cell_type": "code",
   "execution_count": 20,
   "metadata": {
    "ExecuteTime": {
     "end_time": "2019-05-09T09:57:38.308359Z",
     "start_time": "2019-05-09T09:57:38.160206Z"
    }
   },
   "outputs": [],
   "source": [
    "df['number_of_chars'] = df['name'].str.len()"
   ]
  },
  {
   "cell_type": "markdown",
   "metadata": {},
   "source": [
    "Split the name of the Kickstarter project based on a space and count how many splits there are."
   ]
  },
  {
   "cell_type": "code",
   "execution_count": 21,
   "metadata": {
    "ExecuteTime": {
     "end_time": "2019-05-09T09:57:39.071394Z",
     "start_time": "2019-05-09T09:57:38.786224Z"
    }
   },
   "outputs": [],
   "source": [
    "df['number_of_words'] = df['name'].apply(lambda x: len(str(x).split()))"
   ]
  },
  {
   "cell_type": "markdown",
   "metadata": {},
   "source": [
    "### Syllable count"
   ]
  },
  {
   "cell_type": "code",
   "execution_count": 22,
   "metadata": {
    "ExecuteTime": {
     "end_time": "2019-05-09T09:57:54.532488Z",
     "start_time": "2019-05-09T09:57:39.486458Z"
    }
   },
   "outputs": [],
   "source": [
    "df[\"syllable_count\"] = df[\"name\"].apply(lambda x: textstat.syllable_count(str(x)))"
   ]
  },
  {
   "cell_type": "markdown",
   "metadata": {},
   "source": [
    "### Launched dates"
   ]
  },
  {
   "cell_type": "markdown",
   "metadata": {},
   "source": [
    "Calculate the number of week, month and weekday when the campaign was launched."
   ]
  },
  {
   "cell_type": "code",
   "execution_count": 23,
   "metadata": {
    "ExecuteTime": {
     "end_time": "2019-05-09T09:57:54.607375Z",
     "start_time": "2019-05-09T09:57:54.534472Z"
    }
   },
   "outputs": [],
   "source": [
    "df[\"launched_week\"] = df[\"launched\"].dt.week\n",
    "\n",
    "df[\"launched_month\"] = df[\"launched\"].dt.month\n",
    "\n",
    "df[\"launched_day\"] = df[\"launched\"].dt.weekday"
   ]
  },
  {
   "cell_type": "markdown",
   "metadata": {},
   "source": [
    "### Days to collect"
   ]
  },
  {
   "cell_type": "markdown",
   "metadata": {},
   "source": [
    "Calculate the number of days difference between the deadline and launch date."
   ]
  },
  {
   "cell_type": "code",
   "execution_count": 24,
   "metadata": {
    "ExecuteTime": {
     "end_time": "2019-05-09T09:57:54.626467Z",
     "start_time": "2019-05-09T09:57:54.609181Z"
    }
   },
   "outputs": [
    {
     "data": {
      "text/plain": [
       "ID\n",
       "1000002330    58\n",
       "1000003930    59\n",
       "1000004038    44\n",
       "1000007540    29\n",
       "1000011046    55\n",
       "Name: days_to_collect, dtype: int64"
      ]
     },
     "execution_count": 24,
     "metadata": {},
     "output_type": "execute_result"
    }
   ],
   "source": [
    "df['days_to_collect'] = (df['deadline'] - df['launched']).dt.days\n",
    "df['days_to_collect'].head(5)"
   ]
  },
  {
   "cell_type": "markdown",
   "metadata": {},
   "source": [
    "### Average amount per day needed to reach the goal"
   ]
  },
  {
   "cell_type": "code",
   "execution_count": 25,
   "metadata": {
    "ExecuteTime": {
     "end_time": "2019-05-09T09:57:54.639850Z",
     "start_time": "2019-05-09T09:57:54.629383Z"
    }
   },
   "outputs": [],
   "source": [
    "# replace the inf values with 0 (0/something) = np.inf) \n",
    "df['usd_needed_per_day'] = (df['usd_goal_real'] / df['days_to_collect']).replace([np.inf, -np.inf], 0)"
   ]
  },
  {
   "cell_type": "markdown",
   "metadata": {},
   "source": [
    "### What are the different Kickstarter states?"
   ]
  },
  {
   "cell_type": "code",
   "execution_count": 26,
   "metadata": {
    "ExecuteTime": {
     "end_time": "2019-05-09T09:57:54.649215Z",
     "start_time": "2019-05-09T09:57:54.642790Z"
    }
   },
   "outputs": [
    {
     "data": {
      "text/plain": [
       "[failed, canceled, successful, live, suspended]\n",
       "Categories (5, object): [failed, canceled, successful, live, suspended]"
      ]
     },
     "execution_count": 26,
     "metadata": {},
     "output_type": "execute_result"
    }
   ],
   "source": [
    "df['state'].unique()"
   ]
  },
  {
   "cell_type": "markdown",
   "metadata": {},
   "source": [
    "We define \n",
    "* `failed`, `canceled`, `undefined` and `suspended` as failed.\n",
    "* `successful` as success.\n",
    "* `live` not relevant ==> will be deleted since our goal is to predict if it will fail or succeed"
   ]
  },
  {
   "cell_type": "code",
   "execution_count": 27,
   "metadata": {
    "ExecuteTime": {
     "end_time": "2019-05-09T09:57:54.666647Z",
     "start_time": "2019-05-09T09:57:54.650704Z"
    }
   },
   "outputs": [],
   "source": [
    "conditions = [df['state'].isin(['failed', 'canceled', 'undefined', 'suspended']),\n",
    "             df['state'].isin(['successful'])]\n",
    "df['cln_state'] = np.select(conditions, [-1, 1])"
   ]
  },
  {
   "cell_type": "markdown",
   "metadata": {},
   "source": [
    "### Calculate the average contribution per backer"
   ]
  },
  {
   "cell_type": "code",
   "execution_count": 28,
   "metadata": {
    "ExecuteTime": {
     "end_time": "2019-05-09T09:57:54.678032Z",
     "start_time": "2019-05-09T09:57:54.668333Z"
    }
   },
   "outputs": [],
   "source": [
    "# replace the inf values with 0 (0/something) = np.inf) \n",
    "df['usd_per_backer'] = (df['usd_goal_real'] / df['backers']).replace([np.inf, -np.inf], 0)"
   ]
  },
  {
   "cell_type": "markdown",
   "metadata": {},
   "source": [
    "### Average `usd_needed_per_day` per state"
   ]
  },
  {
   "cell_type": "code",
   "execution_count": 29,
   "metadata": {
    "ExecuteTime": {
     "end_time": "2019-05-09T09:57:54.718260Z",
     "start_time": "2019-05-09T09:57:54.679677Z"
    }
   },
   "outputs": [],
   "source": [
    "usd_pd = df.groupby('state')['usd_needed_per_day'].mean()"
   ]
  },
  {
   "cell_type": "code",
   "execution_count": 30,
   "metadata": {
    "ExecuteTime": {
     "end_time": "2019-05-09T09:57:54.867102Z",
     "start_time": "2019-05-09T09:57:54.720028Z"
    }
   },
   "outputs": [
    {
     "data": {
      "image/png": "[encoded data removed]",
      "text/plain": [
       "<Figure size 432x288 with 1 Axes>"
      ]
     },
     "metadata": {
      "needs_background": "light"
     },
     "output_type": "display_data"
    }
   ],
   "source": [
    "ax = usd_pd.sort_values().plot.barh(color='green', title='Average usd needed per day to succeed')\n",
    "ax.set_xlabel('USD needed per day to succeed');"
   ]
  },
  {
   "cell_type": "code",
   "execution_count": 31,
   "metadata": {
    "ExecuteTime": {
     "end_time": "2019-05-09T09:57:54.889596Z",
     "start_time": "2019-05-09T09:57:54.869172Z"
    }
   },
   "outputs": [
    {
     "data": {
      "text/plain": [
       "Ttest_indResult(statistic=-45.94229674770667, pvalue=0.0)"
      ]
     },
     "execution_count": 31,
     "metadata": {},
     "output_type": "execute_result"
    }
   ],
   "source": [
    "stats.ttest_ind(df.loc[df['state']=='successful' ,'usd_needed_per_day'].values,\n",
    "                df.loc[df['state']=='failed' ,'usd_needed_per_day'].values)"
   ]
  },
  {
   "cell_type": "markdown",
   "metadata": {},
   "source": [
    "The difference between `failed` and `successful` is significantly different for the column `usd_needed_per_day`. So the `usd_needed_per_day` really makes a difference."
   ]
  },
  {
   "cell_type": "markdown",
   "metadata": {},
   "source": [
    "### Does the length of the project make a difference (0 - 30 days and 31 - 60 days)"
   ]
  },
  {
   "cell_type": "code",
   "execution_count": 32,
   "metadata": {
    "ExecuteTime": {
     "end_time": "2019-05-09T09:57:54.916301Z",
     "start_time": "2019-05-09T09:57:54.891136Z"
    }
   },
   "outputs": [],
   "source": [
    "# add 2 bins ranging from 0 - 30 (short) and 31 - 60 (long)\n",
    "df['days_bins'] = pd.cut(df['days_to_collect'], \n",
    "                         bins = [0,30,60], \n",
    "                         labels=['short', 'long'])\n",
    "\n",
    "# add 4 bins ranging from 0 - 100 (small), 101 - 500 (medium), 501 - 1000 (big), 1001 - 10000 (huge)\n",
    "df['usd_bins_per_day'] = pd.cut(df['usd_needed_per_day'], \n",
    "                                bins = [0,100, 500, 1000, 10_000], \n",
    "                                labels = ['small', 'medium', 'big', 'huge'])"
   ]
  },
  {
   "cell_type": "code",
   "execution_count": 33,
   "metadata": {
    "ExecuteTime": {
     "end_time": "2019-05-09T09:57:54.933769Z",
     "start_time": "2019-05-09T09:57:54.917551Z"
    }
   },
   "outputs": [],
   "source": [
    "# caculate the number of occurences by 'state', 'days_bins', 'usd_bins_per_day'\n",
    "length_diff = df.groupby(['state', 'days_bins', 'usd_bins_per_day'])['goal'].count()"
   ]
  },
  {
   "cell_type": "code",
   "execution_count": 34,
   "metadata": {
    "ExecuteTime": {
     "end_time": "2019-05-09T09:57:54.953639Z",
     "start_time": "2019-05-09T09:57:54.934960Z"
    }
   },
   "outputs": [],
   "source": [
    "# caculate the sum of occurences grouped by usd_bins_per_day for the period short\n",
    "sum_count_short = length_diff[['failed', 'successful']]\\\n",
    "    .xs('short', level=1)\\\n",
    "    .reset_index()\\\n",
    "    .groupby('usd_bins_per_day')\\\n",
    "    .sum()\n",
    "\n",
    "# caculate the sum of occurences grouped by usd_bins_per_day for the period long\n",
    "sum_count_long = length_diff[['failed', 'successful']]\\\n",
    "    .xs('long', level=1).reset_index()\\\n",
    "    .groupby('usd_bins_per_day')\\\n",
    "    .sum()"
   ]
  },
  {
   "cell_type": "code",
   "execution_count": 35,
   "metadata": {
    "ExecuteTime": {
     "end_time": "2019-05-09T09:57:54.979319Z",
     "start_time": "2019-05-09T09:57:54.955829Z"
    }
   },
   "outputs": [],
   "source": [
    "# caculate the sum of successful occurences grouped by usd_bins_per_day for the period short\n",
    "sum_count_short_succ = length_diff[['successful']]\\\n",
    "    .xs('short', level=1)\\\n",
    "    .reset_index()\\\n",
    "    .groupby('usd_bins_per_day')\\\n",
    "    .sum()\n",
    "\n",
    "# caculate the sum of successful occurences grouped by usd_bins_per_day for the period long\n",
    "sum_count_long_succ = length_diff[['successful']]\\\n",
    "    .xs('long', level=1)\\\n",
    "    .reset_index()\\\n",
    "    .groupby('usd_bins_per_day')\\\n",
    "    .sum()"
   ]
  },
  {
   "cell_type": "code",
   "execution_count": 36,
   "metadata": {
    "ExecuteTime": {
     "end_time": "2019-05-09T09:57:54.984696Z",
     "start_time": "2019-05-09T09:57:54.980668Z"
    }
   },
   "outputs": [],
   "source": [
    "# calculate the probability of being successful short term\n",
    "succ_short_prob = sum_count_short_succ / sum_count_short\n",
    "# calculate the probability of being successful long term\n",
    "succ_long_prob = sum_count_long_succ / sum_count_long"
   ]
  },
  {
   "cell_type": "code",
   "execution_count": 37,
   "metadata": {
    "ExecuteTime": {
     "end_time": "2019-05-09T09:57:54.989746Z",
     "start_time": "2019-05-09T09:57:54.986131Z"
    }
   },
   "outputs": [],
   "source": [
    "# rename the columns to short and long\n",
    "succ_short_prob = succ_short_prob.rename(columns = {'goal':'short'})\n",
    "succ_long_prob = succ_long_prob.rename(columns = {'goal':'long'})"
   ]
  },
  {
   "cell_type": "code",
   "execution_count": 38,
   "metadata": {
    "ExecuteTime": {
     "end_time": "2019-05-09T09:57:55.134006Z",
     "start_time": "2019-05-09T09:57:54.991375Z"
    }
   },
   "outputs": [
    {
     "data": {
      "image/png": "[encoded data removed]",
      "text/plain": [
       "<Figure size 432x288 with 1 Axes>"
      ]
     },
     "metadata": {
      "needs_background": "light"
     },
     "output_type": "display_data"
    }
   ],
   "source": [
    "# plot the probability of being successful for short and long term per usd_bins_per_day\n",
    "ax = pd.concat([succ_long_prob, succ_short_prob], axis=1)\\\n",
    "    .sort_values(by='short')\\\n",
    "    .plot\\\n",
    "    .barh(title = 'Probabilty of success by lenght')\n",
    "\n",
    "ax.set_xlabel('probability of success');"
   ]
  },
  {
   "cell_type": "markdown",
   "metadata": {},
   "source": [
    "### Check the probability of success per `main_category`"
   ]
  },
  {
   "cell_type": "code",
   "execution_count": 39,
   "metadata": {
    "ExecuteTime": {
     "end_time": "2019-05-09T09:57:55.153787Z",
     "start_time": "2019-05-09T09:57:55.138254Z"
    }
   },
   "outputs": [],
   "source": [
    "# caculate the probability of being successful per main_category\n",
    "proba_state_main = df.groupby(['main_category', 'state'])['launched'].count()\\\n",
    "    / \\\n",
    "    df.groupby('main_category')['launched'].count()"
   ]
  },
  {
   "cell_type": "code",
   "execution_count": 40,
   "metadata": {
    "ExecuteTime": {
     "end_time": "2019-05-09T09:57:55.412480Z",
     "start_time": "2019-05-09T09:57:55.155864Z"
    }
   },
   "outputs": [
    {
     "data": {
      "image/png": "[encoded data removed]",
      "text/plain": [
       "<Figure size 432x288 with 1 Axes>"
      ]
     },
     "metadata": {
      "needs_background": "light"
     },
     "output_type": "display_data"
    }
   ],
   "source": [
    "proba_state_main.xs('successful', level=1)\\\n",
    "    .sort_values(ascending=True)\\\n",
    "    .plot\\\n",
    "    .barh(color='green', title='Probability of succes per main_category');"
   ]
  },
  {
   "cell_type": "markdown",
   "metadata": {},
   "source": [
    "### Top 5 most successful projects (the onces with most USD money pledged)"
   ]
  },
  {
   "cell_type": "code",
   "execution_count": 41,
   "metadata": {
    "ExecuteTime": {
     "end_time": "2019-05-09T09:57:55.506774Z",
     "start_time": "2019-05-09T09:57:55.414236Z"
    }
   },
   "outputs": [
    {
     "data": {
      "text/html": [
       "<div>\n",
       "<style scoped>\n",
       "    .dataframe tbody tr th:only-of-type {\n",
       "        vertical-align: middle;\n",
       "    }\n",
       "\n",
       "    .dataframe tbody tr th {\n",
       "        vertical-align: top;\n",
       "    }\n",
       "\n",
       "    .dataframe thead th {\n",
       "        text-align: right;\n",
       "    }\n",
       "</style>\n",
       "<table border=\"1\" class=\"dataframe\">\n",
       "  <thead>\n",
       "    <tr style=\"text-align: right;\">\n",
       "      <th></th>\n",
       "      <th>name</th>\n",
       "      <th>category</th>\n",
       "      <th>main_category</th>\n",
       "      <th>currency</th>\n",
       "      <th>deadline</th>\n",
       "      <th>goal</th>\n",
       "      <th>launched</th>\n",
       "      <th>pledged</th>\n",
       "      <th>state</th>\n",
       "      <th>backers</th>\n",
       "      <th>...</th>\n",
       "      <th>syllable_count</th>\n",
       "      <th>launched_week</th>\n",
       "      <th>launched_month</th>\n",
       "      <th>launched_day</th>\n",
       "      <th>days_to_collect</th>\n",
       "      <th>usd_needed_per_day</th>\n",
       "      <th>cln_state</th>\n",
       "      <th>usd_per_backer</th>\n",
       "      <th>days_bins</th>\n",
       "      <th>usd_bins_per_day</th>\n",
       "    </tr>\n",
       "    <tr>\n",
       "      <th>ID</th>\n",
       "      <th></th>\n",
       "      <th></th>\n",
       "      <th></th>\n",
       "      <th></th>\n",
       "      <th></th>\n",
       "      <th></th>\n",
       "      <th></th>\n",
       "      <th></th>\n",
       "      <th></th>\n",
       "      <th></th>\n",
       "      <th></th>\n",
       "      <th></th>\n",
       "      <th></th>\n",
       "      <th></th>\n",
       "      <th></th>\n",
       "      <th></th>\n",
       "      <th></th>\n",
       "      <th></th>\n",
       "      <th></th>\n",
       "      <th></th>\n",
       "      <th></th>\n",
       "    </tr>\n",
       "  </thead>\n",
       "  <tbody>\n",
       "    <tr>\n",
       "      <th>1980077146</th>\n",
       "      <td>WT2 Real-time Earphone Translator</td>\n",
       "      <td>Hardware</td>\n",
       "      <td>Technology</td>\n",
       "      <td>USD</td>\n",
       "      <td>2017-10-27</td>\n",
       "      <td>50000.0</td>\n",
       "      <td>2017-09-19 18:58:05</td>\n",
       "      <td>276869.00</td>\n",
       "      <td>successful</td>\n",
       "      <td>1640.0</td>\n",
       "      <td>...</td>\n",
       "      <td>9</td>\n",
       "      <td>38</td>\n",
       "      <td>9</td>\n",
       "      <td>1</td>\n",
       "      <td>37</td>\n",
       "      <td>1351.351351</td>\n",
       "      <td>1</td>\n",
       "      <td>30.487805</td>\n",
       "      <td>long</td>\n",
       "      <td>huge</td>\n",
       "    </tr>\n",
       "    <tr>\n",
       "      <th>959639403</th>\n",
       "      <td>Herbert – Grow fresh organic food at home</td>\n",
       "      <td>Hardware</td>\n",
       "      <td>Technology</td>\n",
       "      <td>EUR</td>\n",
       "      <td>2017-03-27</td>\n",
       "      <td>50000.0</td>\n",
       "      <td>2017-02-13 12:03:16</td>\n",
       "      <td>258089.77</td>\n",
       "      <td>successful</td>\n",
       "      <td>709.0</td>\n",
       "      <td>...</td>\n",
       "      <td>11</td>\n",
       "      <td>7</td>\n",
       "      <td>2</td>\n",
       "      <td>0</td>\n",
       "      <td>41</td>\n",
       "      <td>1303.775122</td>\n",
       "      <td>1</td>\n",
       "      <td>75.394612</td>\n",
       "      <td>long</td>\n",
       "      <td>huge</td>\n",
       "    </tr>\n",
       "    <tr>\n",
       "      <th>1023757999</th>\n",
       "      <td>Publish two coffee table books by Michael Stokes</td>\n",
       "      <td>Photobooks</td>\n",
       "      <td>Photography</td>\n",
       "      <td>USD</td>\n",
       "      <td>2016-08-24</td>\n",
       "      <td>48250.0</td>\n",
       "      <td>2016-08-03 15:36:30</td>\n",
       "      <td>275269.00</td>\n",
       "      <td>successful</td>\n",
       "      <td>1860.0</td>\n",
       "      <td>...</td>\n",
       "      <td>11</td>\n",
       "      <td>31</td>\n",
       "      <td>8</td>\n",
       "      <td>2</td>\n",
       "      <td>20</td>\n",
       "      <td>2412.500000</td>\n",
       "      <td>1</td>\n",
       "      <td>25.940860</td>\n",
       "      <td>short</td>\n",
       "      <td>huge</td>\n",
       "    </tr>\n",
       "    <tr>\n",
       "      <th>428344111</th>\n",
       "      <td>MIOPS MOBILE: The World's Most Versatile Camer...</td>\n",
       "      <td>Camera Equipment</td>\n",
       "      <td>Technology</td>\n",
       "      <td>USD</td>\n",
       "      <td>2016-10-23</td>\n",
       "      <td>50000.0</td>\n",
       "      <td>2016-09-13 18:17:30</td>\n",
       "      <td>275188.00</td>\n",
       "      <td>successful</td>\n",
       "      <td>2548.0</td>\n",
       "      <td>...</td>\n",
       "      <td>13</td>\n",
       "      <td>37</td>\n",
       "      <td>9</td>\n",
       "      <td>1</td>\n",
       "      <td>39</td>\n",
       "      <td>1282.051282</td>\n",
       "      <td>1</td>\n",
       "      <td>19.623234</td>\n",
       "      <td>long</td>\n",
       "      <td>huge</td>\n",
       "    </tr>\n",
       "    <tr>\n",
       "      <th>1946322213</th>\n",
       "      <td>The Best Hot Weather Pants With 16 Travel Feat...</td>\n",
       "      <td>Apparel</td>\n",
       "      <td>Fashion</td>\n",
       "      <td>USD</td>\n",
       "      <td>2016-07-11</td>\n",
       "      <td>50000.0</td>\n",
       "      <td>2016-06-01 23:30:29</td>\n",
       "      <td>273765.00</td>\n",
       "      <td>successful</td>\n",
       "      <td>1793.0</td>\n",
       "      <td>...</td>\n",
       "      <td>12</td>\n",
       "      <td>22</td>\n",
       "      <td>6</td>\n",
       "      <td>2</td>\n",
       "      <td>39</td>\n",
       "      <td>1282.051282</td>\n",
       "      <td>1</td>\n",
       "      <td>27.886224</td>\n",
       "      <td>long</td>\n",
       "      <td>huge</td>\n",
       "    </tr>\n",
       "  </tbody>\n",
       "</table>\n",
       "<p>5 rows × 26 columns</p>\n",
       "</div>"
      ],
      "text/plain": [
       "                                                         name  \\\n",
       "ID                                                              \n",
       "1980077146                  WT2 Real-time Earphone Translator   \n",
       "959639403           Herbert – Grow fresh organic food at home   \n",
       "1023757999   Publish two coffee table books by Michael Stokes   \n",
       "428344111   MIOPS MOBILE: The World's Most Versatile Camer...   \n",
       "1946322213  The Best Hot Weather Pants With 16 Travel Feat...   \n",
       "\n",
       "                    category main_category currency   deadline     goal  \\\n",
       "ID                                                                        \n",
       "1980077146          Hardware    Technology      USD 2017-10-27  50000.0   \n",
       "959639403           Hardware    Technology      EUR 2017-03-27  50000.0   \n",
       "1023757999        Photobooks   Photography      USD 2016-08-24  48250.0   \n",
       "428344111   Camera Equipment    Technology      USD 2016-10-23  50000.0   \n",
       "1946322213           Apparel       Fashion      USD 2016-07-11  50000.0   \n",
       "\n",
       "                      launched    pledged       state  backers  \\\n",
       "ID                                                               \n",
       "1980077146 2017-09-19 18:58:05  276869.00  successful   1640.0   \n",
       "959639403  2017-02-13 12:03:16  258089.77  successful    709.0   \n",
       "1023757999 2016-08-03 15:36:30  275269.00  successful   1860.0   \n",
       "428344111  2016-09-13 18:17:30  275188.00  successful   2548.0   \n",
       "1946322213 2016-06-01 23:30:29  273765.00  successful   1793.0   \n",
       "\n",
       "                  ...        syllable_count  launched_week  launched_month  \\\n",
       "ID                ...                                                        \n",
       "1980077146        ...                     9             38               9   \n",
       "959639403         ...                    11              7               2   \n",
       "1023757999        ...                    11             31               8   \n",
       "428344111         ...                    13             37               9   \n",
       "1946322213        ...                    12             22               6   \n",
       "\n",
       "            launched_day  days_to_collect  usd_needed_per_day  cln_state  \\\n",
       "ID                                                                         \n",
       "1980077146             1               37         1351.351351          1   \n",
       "959639403              0               41         1303.775122          1   \n",
       "1023757999             2               20         2412.500000          1   \n",
       "428344111              1               39         1282.051282          1   \n",
       "1946322213             2               39         1282.051282          1   \n",
       "\n",
       "            usd_per_backer  days_bins  usd_bins_per_day  \n",
       "ID                                                       \n",
       "1980077146       30.487805       long              huge  \n",
       "959639403        75.394612       long              huge  \n",
       "1023757999       25.940860      short              huge  \n",
       "428344111        19.623234       long              huge  \n",
       "1946322213       27.886224       long              huge  \n",
       "\n",
       "[5 rows x 26 columns]"
      ]
     },
     "execution_count": 41,
     "metadata": {},
     "output_type": "execute_result"
    }
   ],
   "source": [
    "df.loc[df['state'] == 'successful'].sort_values(by='usd_pledged_real', ascending=False).iloc[:5]"
   ]
  },
  {
   "cell_type": "markdown",
   "metadata": {},
   "source": [
    "### Top 5 most successful where `goal > 100` projects (the onces with the highest ratio `usd_pledged_real` / `goal`)"
   ]
  },
  {
   "cell_type": "code",
   "execution_count": 42,
   "metadata": {
    "ExecuteTime": {
     "end_time": "2019-05-09T09:57:55.514708Z",
     "start_time": "2019-05-09T09:57:55.508676Z"
    }
   },
   "outputs": [],
   "source": [
    "df['goal_ratio'] = df['usd_pledged_real'] / df['goal']"
   ]
  },
  {
   "cell_type": "code",
   "execution_count": 43,
   "metadata": {
    "ExecuteTime": {
     "end_time": "2019-05-09T09:57:55.645415Z",
     "start_time": "2019-05-09T09:57:55.516983Z"
    }
   },
   "outputs": [
    {
     "data": {
      "text/html": [
       "<div>\n",
       "<style scoped>\n",
       "    .dataframe tbody tr th:only-of-type {\n",
       "        vertical-align: middle;\n",
       "    }\n",
       "\n",
       "    .dataframe tbody tr th {\n",
       "        vertical-align: top;\n",
       "    }\n",
       "\n",
       "    .dataframe thead th {\n",
       "        text-align: right;\n",
       "    }\n",
       "</style>\n",
       "<table border=\"1\" class=\"dataframe\">\n",
       "  <thead>\n",
       "    <tr style=\"text-align: right;\">\n",
       "      <th></th>\n",
       "      <th>name</th>\n",
       "      <th>category</th>\n",
       "      <th>main_category</th>\n",
       "      <th>currency</th>\n",
       "      <th>deadline</th>\n",
       "      <th>goal</th>\n",
       "      <th>launched</th>\n",
       "      <th>pledged</th>\n",
       "      <th>state</th>\n",
       "      <th>backers</th>\n",
       "      <th>...</th>\n",
       "      <th>launched_week</th>\n",
       "      <th>launched_month</th>\n",
       "      <th>launched_day</th>\n",
       "      <th>days_to_collect</th>\n",
       "      <th>usd_needed_per_day</th>\n",
       "      <th>cln_state</th>\n",
       "      <th>usd_per_backer</th>\n",
       "      <th>days_bins</th>\n",
       "      <th>usd_bins_per_day</th>\n",
       "      <th>goal_ratio</th>\n",
       "    </tr>\n",
       "    <tr>\n",
       "      <th>ID</th>\n",
       "      <th></th>\n",
       "      <th></th>\n",
       "      <th></th>\n",
       "      <th></th>\n",
       "      <th></th>\n",
       "      <th></th>\n",
       "      <th></th>\n",
       "      <th></th>\n",
       "      <th></th>\n",
       "      <th></th>\n",
       "      <th></th>\n",
       "      <th></th>\n",
       "      <th></th>\n",
       "      <th></th>\n",
       "      <th></th>\n",
       "      <th></th>\n",
       "      <th></th>\n",
       "      <th></th>\n",
       "      <th></th>\n",
       "      <th></th>\n",
       "      <th></th>\n",
       "    </tr>\n",
       "  </thead>\n",
       "  <tbody>\n",
       "    <tr>\n",
       "      <th>1176482851</th>\n",
       "      <td>TREVOR HALL presents... The Fruitful Darkness</td>\n",
       "      <td>Music</td>\n",
       "      <td>Music</td>\n",
       "      <td>USD</td>\n",
       "      <td>2017-09-06</td>\n",
       "      <td>108.0</td>\n",
       "      <td>2017-08-07 20:17:39</td>\n",
       "      <td>137570.93</td>\n",
       "      <td>successful</td>\n",
       "      <td>2254.0</td>\n",
       "      <td>...</td>\n",
       "      <td>32</td>\n",
       "      <td>8</td>\n",
       "      <td>0</td>\n",
       "      <td>29</td>\n",
       "      <td>3.724138</td>\n",
       "      <td>1</td>\n",
       "      <td>0.047915</td>\n",
       "      <td>short</td>\n",
       "      <td>small</td>\n",
       "      <td>1273.804907</td>\n",
       "    </tr>\n",
       "    <tr>\n",
       "      <th>902047561</th>\n",
       "      <td>YOGA : TIME  |  The best way to practice yoga</td>\n",
       "      <td>Apps</td>\n",
       "      <td>Technology</td>\n",
       "      <td>USD</td>\n",
       "      <td>2015-03-11</td>\n",
       "      <td>108.0</td>\n",
       "      <td>2015-01-16 13:10:17</td>\n",
       "      <td>86944.00</td>\n",
       "      <td>successful</td>\n",
       "      <td>1620.0</td>\n",
       "      <td>...</td>\n",
       "      <td>3</td>\n",
       "      <td>1</td>\n",
       "      <td>4</td>\n",
       "      <td>53</td>\n",
       "      <td>2.037736</td>\n",
       "      <td>1</td>\n",
       "      <td>0.066667</td>\n",
       "      <td>long</td>\n",
       "      <td>small</td>\n",
       "      <td>805.037037</td>\n",
       "    </tr>\n",
       "    <tr>\n",
       "      <th>1538025770</th>\n",
       "      <td>MC YOGI: ONLY LOVE IS REAL</td>\n",
       "      <td>Hip-Hop</td>\n",
       "      <td>Music</td>\n",
       "      <td>USD</td>\n",
       "      <td>2014-12-20</td>\n",
       "      <td>108.0</td>\n",
       "      <td>2014-11-05 01:46:40</td>\n",
       "      <td>86506.00</td>\n",
       "      <td>successful</td>\n",
       "      <td>1440.0</td>\n",
       "      <td>...</td>\n",
       "      <td>45</td>\n",
       "      <td>11</td>\n",
       "      <td>2</td>\n",
       "      <td>44</td>\n",
       "      <td>2.454545</td>\n",
       "      <td>1</td>\n",
       "      <td>0.075000</td>\n",
       "      <td>long</td>\n",
       "      <td>small</td>\n",
       "      <td>800.981481</td>\n",
       "    </tr>\n",
       "    <tr>\n",
       "      <th>968166384</th>\n",
       "      <td>Modern Map Art Prints</td>\n",
       "      <td>Graphic Design</td>\n",
       "      <td>Design</td>\n",
       "      <td>GBP</td>\n",
       "      <td>2017-09-23</td>\n",
       "      <td>250.0</td>\n",
       "      <td>2017-08-24 01:17:10</td>\n",
       "      <td>94711.00</td>\n",
       "      <td>successful</td>\n",
       "      <td>1942.0</td>\n",
       "      <td>...</td>\n",
       "      <td>34</td>\n",
       "      <td>8</td>\n",
       "      <td>3</td>\n",
       "      <td>29</td>\n",
       "      <td>11.542069</td>\n",
       "      <td>1</td>\n",
       "      <td>0.172358</td>\n",
       "      <td>short</td>\n",
       "      <td>small</td>\n",
       "      <td>507.228640</td>\n",
       "    </tr>\n",
       "    <tr>\n",
       "      <th>1379224227</th>\n",
       "      <td>DRAGONLOCK 3: Dangerous Lairs</td>\n",
       "      <td>Tabletop Games</td>\n",
       "      <td>Games</td>\n",
       "      <td>USD</td>\n",
       "      <td>2017-10-25</td>\n",
       "      <td>500.0</td>\n",
       "      <td>2017-09-19 15:58:58</td>\n",
       "      <td>191738.00</td>\n",
       "      <td>successful</td>\n",
       "      <td>1442.0</td>\n",
       "      <td>...</td>\n",
       "      <td>38</td>\n",
       "      <td>9</td>\n",
       "      <td>1</td>\n",
       "      <td>35</td>\n",
       "      <td>14.285714</td>\n",
       "      <td>1</td>\n",
       "      <td>0.346741</td>\n",
       "      <td>long</td>\n",
       "      <td>small</td>\n",
       "      <td>383.476000</td>\n",
       "    </tr>\n",
       "  </tbody>\n",
       "</table>\n",
       "<p>5 rows × 27 columns</p>\n",
       "</div>"
      ],
      "text/plain": [
       "                                                     name        category  \\\n",
       "ID                                                                          \n",
       "1176482851  TREVOR HALL presents... The Fruitful Darkness           Music   \n",
       "902047561   YOGA : TIME  |  The best way to practice yoga            Apps   \n",
       "1538025770                     MC YOGI: ONLY LOVE IS REAL         Hip-Hop   \n",
       "968166384                           Modern Map Art Prints  Graphic Design   \n",
       "1379224227                  DRAGONLOCK 3: Dangerous Lairs  Tabletop Games   \n",
       "\n",
       "           main_category currency   deadline   goal            launched  \\\n",
       "ID                                                                        \n",
       "1176482851         Music      USD 2017-09-06  108.0 2017-08-07 20:17:39   \n",
       "902047561     Technology      USD 2015-03-11  108.0 2015-01-16 13:10:17   \n",
       "1538025770         Music      USD 2014-12-20  108.0 2014-11-05 01:46:40   \n",
       "968166384         Design      GBP 2017-09-23  250.0 2017-08-24 01:17:10   \n",
       "1379224227         Games      USD 2017-10-25  500.0 2017-09-19 15:58:58   \n",
       "\n",
       "              pledged       state  backers     ...      launched_week  \\\n",
       "ID                                             ...                      \n",
       "1176482851  137570.93  successful   2254.0     ...                 32   \n",
       "902047561    86944.00  successful   1620.0     ...                  3   \n",
       "1538025770   86506.00  successful   1440.0     ...                 45   \n",
       "968166384    94711.00  successful   1942.0     ...                 34   \n",
       "1379224227  191738.00  successful   1442.0     ...                 38   \n",
       "\n",
       "            launched_month  launched_day  days_to_collect  usd_needed_per_day  \\\n",
       "ID                                                                              \n",
       "1176482851               8             0               29            3.724138   \n",
       "902047561                1             4               53            2.037736   \n",
       "1538025770              11             2               44            2.454545   \n",
       "968166384                8             3               29           11.542069   \n",
       "1379224227               9             1               35           14.285714   \n",
       "\n",
       "            cln_state  usd_per_backer  days_bins  usd_bins_per_day  \\\n",
       "ID                                                                   \n",
       "1176482851          1        0.047915      short             small   \n",
       "902047561           1        0.066667       long             small   \n",
       "1538025770          1        0.075000       long             small   \n",
       "968166384           1        0.172358      short             small   \n",
       "1379224227          1        0.346741       long             small   \n",
       "\n",
       "             goal_ratio  \n",
       "ID                       \n",
       "1176482851  1273.804907  \n",
       "902047561    805.037037  \n",
       "1538025770   800.981481  \n",
       "968166384    507.228640  \n",
       "1379224227   383.476000  \n",
       "\n",
       "[5 rows x 27 columns]"
      ]
     },
     "execution_count": 43,
     "metadata": {},
     "output_type": "execute_result"
    }
   ],
   "source": [
    "df.loc[(df['state'] == 'successful') & (df['goal']>100)]\\\n",
    "    .sort_values(\n",
    "        by='goal_ratio', \n",
    "        ascending=False)\\\n",
    "    .iloc[:5]"
   ]
  },
  {
   "cell_type": "markdown",
   "metadata": {},
   "source": [
    "### Most successful projects over 100 dollar goal  by main_category"
   ]
  },
  {
   "cell_type": "code",
   "execution_count": 44,
   "metadata": {
    "ExecuteTime": {
     "end_time": "2019-05-09T09:57:55.853532Z",
     "start_time": "2019-05-09T09:57:55.647549Z"
    }
   },
   "outputs": [
    {
     "data": {
      "image/png": "[encoded data removed]",
      "text/plain": [
       "<Figure size 432x288 with 1 Axes>"
      ]
     },
     "metadata": {
      "needs_background": "light"
     },
     "output_type": "display_data"
    }
   ],
   "source": [
    "df[(df['state'] == 'successful') & (df['goal']>100)]\\\n",
    "    .groupby('main_category')['goal_ratio']\\\n",
    "    .mean()\\\n",
    "    .sort_values()\\\n",
    "    .plot.barh(color='green', title = 'Most successful projects over 100 dollar goal by main_category');"
   ]
  },
  {
   "cell_type": "markdown",
   "metadata": {},
   "source": [
    "### Evolution of succes ratio over time"
   ]
  },
  {
   "cell_type": "code",
   "execution_count": 45,
   "metadata": {
    "ExecuteTime": {
     "end_time": "2019-05-09T09:57:56.350170Z",
     "start_time": "2019-05-09T09:57:55.855680Z"
    }
   },
   "outputs": [
    {
     "data": {
      "image/png": "[encoded data removed]",
      "text/plain": [
       "<Figure size 1080x720 with 1 Axes>"
      ]
     },
     "metadata": {
      "needs_background": "light"
     },
     "output_type": "display_data"
    }
   ],
   "source": [
    "# caculate the number of launches per day\n",
    "total_time = df.groupby([df['launched'].dt.date])['name'].count()\n",
    "# caculate the number of launches per day and per state\n",
    "over_time = df.groupby([df['launched'].dt.date, df['state']])['name'].count()\n",
    "# caculate the probability of being successful over time\n",
    "per_suc_over_time = (over_time/total_time).xs('successful', level=1)\n",
    "# plot the rolling 30 day mean of the success rate\n",
    "ax = per_suc_over_time.rolling(30).mean().plot(figsize = (15,10))\n",
    "ax.set_ylabel('success probability')\n",
    "plt.title('Probability of being successful over time (30 day moving average)');"
   ]
  },
  {
   "cell_type": "markdown",
   "metadata": {},
   "source": [
    "### Diff mean category goal"
   ]
  },
  {
   "cell_type": "code",
   "execution_count": 46,
   "metadata": {
    "ExecuteTime": {
     "end_time": "2019-05-09T09:57:56.361644Z",
     "start_time": "2019-05-09T09:57:56.352427Z"
    }
   },
   "outputs": [],
   "source": [
    "# caculate the mean goal per category\n",
    "mean_cat_goal = df.groupby('category')['goal'].mean().rename('mean_cat_goal')\n",
    "# caculate the mean goal per main_category\n",
    "mean_main_cat_goal = df.groupby('main_category')['goal'].mean().rename('mean_main_cat_goal')"
   ]
  },
  {
   "cell_type": "code",
   "execution_count": 47,
   "metadata": {
    "ExecuteTime": {
     "end_time": "2019-05-09T09:57:56.658533Z",
     "start_time": "2019-05-09T09:57:56.363183Z"
    }
   },
   "outputs": [],
   "source": [
    "df = df.merge(mean_cat_goal.to_frame(), how = 'left', left_on='category', right_on=mean_cat_goal.index)\n",
    "df = df.merge(mean_main_cat_goal.to_frame(), how = 'left', left_on='main_category', \\\n",
    "              right_on=mean_main_cat_goal.index)"
   ]
  },
  {
   "cell_type": "code",
   "execution_count": 48,
   "metadata": {
    "ExecuteTime": {
     "end_time": "2019-05-09T09:57:56.667137Z",
     "start_time": "2019-05-09T09:57:56.660876Z"
    },
    "scrolled": true
   },
   "outputs": [],
   "source": [
    "df[\"diff_mean_category_goal\"] = df[\"goal\"] - df[\"mean_cat_goal\"]\n",
    "df[\"diff_mean_main_category_goal\"] = df[\"goal\"] - df[\"mean_main_cat_goal\"]"
   ]
  },
  {
   "cell_type": "code",
   "execution_count": 49,
   "metadata": {
    "ExecuteTime": {
     "end_time": "2019-05-09T09:57:56.696074Z",
     "start_time": "2019-05-09T09:57:56.668663Z"
    }
   },
   "outputs": [
    {
     "data": {
      "text/html": [
       "<div>\n",
       "<style scoped>\n",
       "    .dataframe tbody tr th:only-of-type {\n",
       "        vertical-align: middle;\n",
       "    }\n",
       "\n",
       "    .dataframe tbody tr th {\n",
       "        vertical-align: top;\n",
       "    }\n",
       "\n",
       "    .dataframe thead th {\n",
       "        text-align: right;\n",
       "    }\n",
       "</style>\n",
       "<table border=\"1\" class=\"dataframe\">\n",
       "  <thead>\n",
       "    <tr style=\"text-align: right;\">\n",
       "      <th></th>\n",
       "      <th>name</th>\n",
       "      <th>category</th>\n",
       "      <th>main_category</th>\n",
       "      <th>currency</th>\n",
       "      <th>deadline</th>\n",
       "      <th>goal</th>\n",
       "      <th>launched</th>\n",
       "      <th>pledged</th>\n",
       "      <th>state</th>\n",
       "      <th>backers</th>\n",
       "      <th>...</th>\n",
       "      <th>usd_needed_per_day</th>\n",
       "      <th>cln_state</th>\n",
       "      <th>usd_per_backer</th>\n",
       "      <th>days_bins</th>\n",
       "      <th>usd_bins_per_day</th>\n",
       "      <th>goal_ratio</th>\n",
       "      <th>mean_cat_goal</th>\n",
       "      <th>mean_main_cat_goal</th>\n",
       "      <th>diff_mean_category_goal</th>\n",
       "      <th>diff_mean_main_category_goal</th>\n",
       "    </tr>\n",
       "  </thead>\n",
       "  <tbody>\n",
       "    <tr>\n",
       "      <th>0</th>\n",
       "      <td>The Songs of Adelaide &amp; Abullah</td>\n",
       "      <td>Poetry</td>\n",
       "      <td>Publishing</td>\n",
       "      <td>GBP</td>\n",
       "      <td>2015-10-09</td>\n",
       "      <td>1000.0</td>\n",
       "      <td>2015-08-11 12:12:28</td>\n",
       "      <td>0.0</td>\n",
       "      <td>failed</td>\n",
       "      <td>0.0</td>\n",
       "      <td>...</td>\n",
       "      <td>26.447414</td>\n",
       "      <td>-1</td>\n",
       "      <td>0.000000</td>\n",
       "      <td>long</td>\n",
       "      <td>small</td>\n",
       "      <td>0.000000</td>\n",
       "      <td>5350.440657</td>\n",
       "      <td>12456.530502</td>\n",
       "      <td>-4350.440657</td>\n",
       "      <td>-11456.530502</td>\n",
       "    </tr>\n",
       "    <tr>\n",
       "      <th>1</th>\n",
       "      <td>Greeting From Earth: ZGAC Arts Capsule For ET</td>\n",
       "      <td>Narrative Film</td>\n",
       "      <td>Film &amp; Video</td>\n",
       "      <td>USD</td>\n",
       "      <td>2017-11-01</td>\n",
       "      <td>30000.0</td>\n",
       "      <td>2017-09-02 04:43:57</td>\n",
       "      <td>2421.0</td>\n",
       "      <td>failed</td>\n",
       "      <td>15.0</td>\n",
       "      <td>...</td>\n",
       "      <td>508.474576</td>\n",
       "      <td>-1</td>\n",
       "      <td>2000.000000</td>\n",
       "      <td>long</td>\n",
       "      <td>big</td>\n",
       "      <td>0.080700</td>\n",
       "      <td>45678.064533</td>\n",
       "      <td>33491.222933</td>\n",
       "      <td>-15678.064533</td>\n",
       "      <td>-3491.222933</td>\n",
       "    </tr>\n",
       "    <tr>\n",
       "      <th>2</th>\n",
       "      <td>Where is Hank?</td>\n",
       "      <td>Narrative Film</td>\n",
       "      <td>Film &amp; Video</td>\n",
       "      <td>USD</td>\n",
       "      <td>2013-02-26</td>\n",
       "      <td>45000.0</td>\n",
       "      <td>2013-01-12 00:20:50</td>\n",
       "      <td>220.0</td>\n",
       "      <td>failed</td>\n",
       "      <td>3.0</td>\n",
       "      <td>...</td>\n",
       "      <td>1022.727273</td>\n",
       "      <td>-1</td>\n",
       "      <td>15000.000000</td>\n",
       "      <td>long</td>\n",
       "      <td>huge</td>\n",
       "      <td>0.004889</td>\n",
       "      <td>45678.064533</td>\n",
       "      <td>33491.222933</td>\n",
       "      <td>-678.064533</td>\n",
       "      <td>11508.777067</td>\n",
       "    </tr>\n",
       "    <tr>\n",
       "      <th>3</th>\n",
       "      <td>ToshiCapital Rekordz Needs Help to Complete Album</td>\n",
       "      <td>Music</td>\n",
       "      <td>Music</td>\n",
       "      <td>USD</td>\n",
       "      <td>2012-04-16</td>\n",
       "      <td>5000.0</td>\n",
       "      <td>2012-03-17 03:24:11</td>\n",
       "      <td>1.0</td>\n",
       "      <td>failed</td>\n",
       "      <td>1.0</td>\n",
       "      <td>...</td>\n",
       "      <td>172.413793</td>\n",
       "      <td>-1</td>\n",
       "      <td>5000.000000</td>\n",
       "      <td>short</td>\n",
       "      <td>medium</td>\n",
       "      <td>0.000200</td>\n",
       "      <td>15644.221188</td>\n",
       "      <td>11782.856730</td>\n",
       "      <td>-10644.221188</td>\n",
       "      <td>-6782.856730</td>\n",
       "    </tr>\n",
       "    <tr>\n",
       "      <th>4</th>\n",
       "      <td>Community Film Project: The Art of Neighborhoo...</td>\n",
       "      <td>Film &amp; Video</td>\n",
       "      <td>Film &amp; Video</td>\n",
       "      <td>USD</td>\n",
       "      <td>2015-08-29</td>\n",
       "      <td>19500.0</td>\n",
       "      <td>2015-07-04 08:35:03</td>\n",
       "      <td>1283.0</td>\n",
       "      <td>canceled</td>\n",
       "      <td>14.0</td>\n",
       "      <td>...</td>\n",
       "      <td>354.545455</td>\n",
       "      <td>-1</td>\n",
       "      <td>1392.857143</td>\n",
       "      <td>long</td>\n",
       "      <td>medium</td>\n",
       "      <td>0.065795</td>\n",
       "      <td>49944.167084</td>\n",
       "      <td>33491.222933</td>\n",
       "      <td>-30444.167084</td>\n",
       "      <td>-13991.222933</td>\n",
       "    </tr>\n",
       "  </tbody>\n",
       "</table>\n",
       "<p>5 rows × 31 columns</p>\n",
       "</div>"
      ],
      "text/plain": [
       "                                                name        category  \\\n",
       "0                    The Songs of Adelaide & Abullah          Poetry   \n",
       "1      Greeting From Earth: ZGAC Arts Capsule For ET  Narrative Film   \n",
       "2                                     Where is Hank?  Narrative Film   \n",
       "3  ToshiCapital Rekordz Needs Help to Complete Album           Music   \n",
       "4  Community Film Project: The Art of Neighborhoo...    Film & Video   \n",
       "\n",
       "  main_category currency   deadline     goal            launched  pledged  \\\n",
       "0    Publishing      GBP 2015-10-09   1000.0 2015-08-11 12:12:28      0.0   \n",
       "1  Film & Video      USD 2017-11-01  30000.0 2017-09-02 04:43:57   2421.0   \n",
       "2  Film & Video      USD 2013-02-26  45000.0 2013-01-12 00:20:50    220.0   \n",
       "3         Music      USD 2012-04-16   5000.0 2012-03-17 03:24:11      1.0   \n",
       "4  Film & Video      USD 2015-08-29  19500.0 2015-07-04 08:35:03   1283.0   \n",
       "\n",
       "      state  backers              ...              usd_needed_per_day  \\\n",
       "0    failed      0.0              ...                       26.447414   \n",
       "1    failed     15.0              ...                      508.474576   \n",
       "2    failed      3.0              ...                     1022.727273   \n",
       "3    failed      1.0              ...                      172.413793   \n",
       "4  canceled     14.0              ...                      354.545455   \n",
       "\n",
       "   cln_state  usd_per_backer  days_bins  usd_bins_per_day  goal_ratio  \\\n",
       "0         -1        0.000000       long             small    0.000000   \n",
       "1         -1     2000.000000       long               big    0.080700   \n",
       "2         -1    15000.000000       long              huge    0.004889   \n",
       "3         -1     5000.000000      short            medium    0.000200   \n",
       "4         -1     1392.857143       long            medium    0.065795   \n",
       "\n",
       "   mean_cat_goal  mean_main_cat_goal  diff_mean_category_goal  \\\n",
       "0    5350.440657        12456.530502             -4350.440657   \n",
       "1   45678.064533        33491.222933            -15678.064533   \n",
       "2   45678.064533        33491.222933              -678.064533   \n",
       "3   15644.221188        11782.856730            -10644.221188   \n",
       "4   49944.167084        33491.222933            -30444.167084   \n",
       "\n",
       "   diff_mean_main_category_goal  \n",
       "0                 -11456.530502  \n",
       "1                  -3491.222933  \n",
       "2                  11508.777067  \n",
       "3                  -6782.856730  \n",
       "4                 -13991.222933  \n",
       "\n",
       "[5 rows x 31 columns]"
      ]
     },
     "execution_count": 49,
     "metadata": {},
     "output_type": "execute_result"
    }
   ],
   "source": [
    "df.head()"
   ]
  },
  {
   "cell_type": "markdown",
   "metadata": {},
   "source": [
    "### Check the unique states"
   ]
  },
  {
   "cell_type": "code",
   "execution_count": 50,
   "metadata": {
    "ExecuteTime": {
     "end_time": "2019-05-09T09:57:56.809169Z",
     "start_time": "2019-05-09T09:57:56.697820Z"
    },
    "scrolled": true
   },
   "outputs": [],
   "source": [
    "# remove where cln_state = 0\n",
    "df = df[df['cln_state'] !=0 ]"
   ]
  },
  {
   "cell_type": "code",
   "execution_count": 51,
   "metadata": {
    "ExecuteTime": {
     "end_time": "2019-05-09T09:57:56.816690Z",
     "start_time": "2019-05-09T09:57:56.810946Z"
    }
   },
   "outputs": [
    {
     "data": {
      "text/plain": [
       "array([-1,  1])"
      ]
     },
     "execution_count": 51,
     "metadata": {},
     "output_type": "execute_result"
    }
   ],
   "source": [
    "df['cln_state'].unique()"
   ]
  },
  {
   "cell_type": "markdown",
   "metadata": {},
   "source": [
    "### Drop the columns which we can't use for the prediction"
   ]
  },
  {
   "cell_type": "code",
   "execution_count": 52,
   "metadata": {
    "ExecuteTime": {
     "end_time": "2019-05-09T09:58:38.612631Z",
     "start_time": "2019-05-09T09:58:38.590048Z"
    }
   },
   "outputs": [],
   "source": [
    "df = df.drop(columns=['name', \n",
    "                      'deadline', \n",
    "                      'launched', \n",
    "                      'state', \n",
    "                      'pledged',\n",
    "                      'usd pledged', \n",
    "                      'usd_pledged_real', \n",
    "                      'usd_per_backer',\n",
    "                      'backers',\n",
    "                      'goal_ratio'\n",
    "                     ])"
   ]
  },
  {
   "cell_type": "markdown",
   "metadata": {},
   "source": [
    "### Standardization the data"
   ]
  },
  {
   "cell_type": "markdown",
   "metadata": {},
   "source": [
    "Standardization of datasets is a common requirement for many machine learning estimators implemented in scikit-learn; they might behave badly if the individual features do not more or less look like standard normally distributed data: Gaussian with zero mean and unit variance.\n",
    "\n",
    "This is why we standardize the data. We choose to use the PowerTransFormer from sklearn. After apply PCA this yields less components than just normalizing the data. (188 components using PowerTransFormer vs 208 using normalization).\n",
    "\n",
    "PowerTransFromer method tries to model the continuous numerical features as gaussian distribution when they are skewed.\n",
    "\n",
    "Ref: https://scikit-learn.org/stable/modules/preprocessing.html#preprocessing-normalization"
   ]
  },
  {
   "cell_type": "code",
   "execution_count": 53,
   "metadata": {
    "ExecuteTime": {
     "end_time": "2019-05-09T09:58:39.175267Z",
     "start_time": "2019-05-09T09:58:39.172733Z"
    }
   },
   "outputs": [],
   "source": [
    "from sklearn.preprocessing import PowerTransformer"
   ]
  },
  {
   "cell_type": "markdown",
   "metadata": {
    "ExecuteTime": {
     "end_time": "2019-04-27T10:30:17.419475Z",
     "start_time": "2019-04-27T10:30:17.389730Z"
    }
   },
   "source": [
    "cols = df.select_dtypes([np.number]).drop(columns = 'cln_state').columns"
   ]
  },
  {
   "cell_type": "code",
   "execution_count": 54,
   "metadata": {
    "ExecuteTime": {
     "end_time": "2019-05-09T09:58:40.210502Z",
     "start_time": "2019-05-09T09:58:39.577171Z"
    }
   },
   "outputs": [
    {
     "data": {
      "image/png": "[encoded data removed]",
      "text/plain": [
       "<Figure size 432x288 with 6 Axes>"
      ]
     },
     "metadata": {
      "needs_background": "light"
     },
     "output_type": "display_data"
    }
   ],
   "source": [
    "df[['goal', 'usd_needed_per_day'\n",
    "    , 'mean_cat_goal', 'mean_main_cat_goal'\\\n",
    "    , 'diff_mean_category_goal', 'diff_mean_main_category_goal']].hist();"
   ]
  },
  {
   "cell_type": "code",
   "execution_count": 55,
   "metadata": {
    "ExecuteTime": {
     "end_time": "2019-05-09T09:58:42.786272Z",
     "start_time": "2019-05-09T09:58:40.213050Z"
    }
   },
   "outputs": [],
   "source": [
    "trans = PowerTransformer().fit_transform(X = df[['goal', 'usd_needed_per_day'\\\n",
    "                                                 , 'mean_cat_goal', 'mean_main_cat_goal'\\\n",
    "                                                 , 'diff_mean_category_goal', 'diff_mean_main_category_goal']])"
   ]
  },
  {
   "cell_type": "code",
   "execution_count": 56,
   "metadata": {
    "ExecuteTime": {
     "end_time": "2019-05-09T09:58:42.790948Z",
     "start_time": "2019-05-09T09:58:42.787830Z"
    }
   },
   "outputs": [],
   "source": [
    "trans_df = pd.DataFrame(trans, columns=['goal', 'usd_needed_per_day', 'mean_cat_goal', 'mean_main_cat_goal'\\\n",
    "                                        , 'diff_mean_category_goal', \\\n",
    "                                        'diff_mean_main_category_goal'], index=df.index)"
   ]
  },
  {
   "cell_type": "code",
   "execution_count": 57,
   "metadata": {
    "ExecuteTime": {
     "end_time": "2019-05-09T09:58:43.420004Z",
     "start_time": "2019-05-09T09:58:42.793492Z"
    }
   },
   "outputs": [
    {
     "data": {
      "image/png": "[encoded data removed]",
      "text/plain": [
       "<Figure size 432x288 with 6 Axes>"
      ]
     },
     "metadata": {
      "needs_background": "light"
     },
     "output_type": "display_data"
    }
   ],
   "source": [
    "trans_df.hist();"
   ]
  },
  {
   "cell_type": "markdown",
   "metadata": {},
   "source": [
    "### Dummies & PCA"
   ]
  },
  {
   "cell_type": "markdown",
   "metadata": {},
   "source": [
    "Get the dummies of the categorical columns. Keeping them as continious features doesn't make sense since the correlation between then would mean nothing. e.g. month = 12 and y = 1 which would be a high correlation vs month = 1 and y = 1 would be a inverse correlation. This applies to all the categorical columns."
   ]
  },
  {
   "cell_type": "code",
   "execution_count": 58,
   "metadata": {
    "ExecuteTime": {
     "end_time": "2019-05-09T09:58:43.610449Z",
     "start_time": "2019-05-09T09:58:43.422017Z"
    }
   },
   "outputs": [],
   "source": [
    "months = pd.get_dummies(df['launched_month'], drop_first=True)\n",
    "days = pd.get_dummies(df['launched_day'], drop_first=True)\n",
    "weeks = pd.get_dummies(df['launched_week'], drop_first=True)\n",
    "chars = pd.get_dummies(df['number_of_chars'], drop_first=True)\n",
    "words = pd.get_dummies(df['number_of_words'], drop_first=True)\n",
    "days_to_col = pd.get_dummies(df['days_to_collect'], drop_first=True)\n",
    "currency = pd.get_dummies(df['currency'], drop_first=True)\n",
    "main_cat = pd.get_dummies(df['main_category'], drop_first=True)\n",
    "cat = pd.get_dummies(df['category'], drop_first=True)\n",
    "days_bins = pd.get_dummies(df['days_bins'], drop_first=True)\n",
    "usd_bins_per_day = pd.get_dummies(df['usd_bins_per_day'], drop_first=True)\n",
    "syllable_count = pd.get_dummies(df['syllable_count'], drop_first=True)"
   ]
  },
  {
   "cell_type": "markdown",
   "metadata": {},
   "source": [
    "Merge the dummies and the standerdized features."
   ]
  },
  {
   "cell_type": "code",
   "execution_count": 59,
   "metadata": {
    "ExecuteTime": {
     "end_time": "2019-05-09T09:58:44.628057Z",
     "start_time": "2019-05-09T09:58:43.612357Z"
    }
   },
   "outputs": [],
   "source": [
    "df_dums = pd.concat([weeks, months, days, chars, words, days_to_col, currency, \\\n",
    "                      main_cat, cat, trans_df, syllable_count \\\n",
    "          , usd_bins_per_day, days_bins], axis=1)"
   ]
  },
  {
   "cell_type": "code",
   "execution_count": 60,
   "metadata": {
    "ExecuteTime": {
     "end_time": "2019-05-09T09:58:44.632261Z",
     "start_time": "2019-05-09T09:58:44.629603Z"
    }
   },
   "outputs": [],
   "source": [
    "X = df_dums\n",
    "y = df['cln_state']"
   ]
  },
  {
   "cell_type": "markdown",
   "metadata": {},
   "source": [
    "The dataset is imbalanced as you can see below. That's why we will apply oversampling to equal the classes out."
   ]
  },
  {
   "cell_type": "code",
   "execution_count": 61,
   "metadata": {
    "ExecuteTime": {
     "end_time": "2019-05-09T09:58:44.814396Z",
     "start_time": "2019-05-09T09:58:44.634047Z"
    }
   },
   "outputs": [
    {
     "data": {
      "image/png": "[encoded data removed]",
      "text/plain": [
       "<Figure size 432x288 with 1 Axes>"
      ]
     },
     "metadata": {
      "needs_background": "light"
     },
     "output_type": "display_data"
    }
   ],
   "source": [
    "df['cln_state'].plot.hist();"
   ]
  },
  {
   "cell_type": "markdown",
   "metadata": {
    "ExecuteTime": {
     "end_time": "2019-04-10T15:33:20.021223Z",
     "start_time": "2019-04-10T15:33:20.017179Z"
    }
   },
   "source": [
    "Apply oversampling because the dataset is imbalanced."
   ]
  },
  {
   "cell_type": "code",
   "execution_count": 62,
   "metadata": {
    "ExecuteTime": {
     "end_time": "2019-05-09T09:58:48.843714Z",
     "start_time": "2019-05-09T09:58:44.816497Z"
    }
   },
   "outputs": [],
   "source": [
    "X_train, X_test, y_train, y_test = train_test_split(X, y, test_size=0.33, random_state=42, stratify=y)\n",
    "X_train, y_train = RandomOverSampler(0.775).fit_resample(X_train, y_train)"
   ]
  },
  {
   "cell_type": "code",
   "execution_count": 63,
   "metadata": {
    "ExecuteTime": {
     "end_time": "2019-05-09T09:58:48.849482Z",
     "start_time": "2019-05-09T09:58:48.845353Z"
    }
   },
   "outputs": [
    {
     "data": {
      "text/plain": [
       "(282691, 517)"
      ]
     },
     "execution_count": 63,
     "metadata": {},
     "output_type": "execute_result"
    }
   ],
   "source": [
    "X_train.shape"
   ]
  },
  {
   "cell_type": "markdown",
   "metadata": {},
   "source": [
    "Since we have 477 features we are going to apply PCA to reduce the number of dimensions and keep as much variance as possible. We decided to put the threshold at 99% (keep 99% of the variance in the data). "
   ]
  },
  {
   "cell_type": "markdown",
   "metadata": {},
   "source": [
    "### PCA"
   ]
  },
  {
   "cell_type": "code",
   "execution_count": 64,
   "metadata": {
    "ExecuteTime": {
     "end_time": "2019-05-09T09:59:01.986015Z",
     "start_time": "2019-05-09T09:58:48.854555Z"
    }
   },
   "outputs": [
    {
     "data": {
      "text/plain": [
       "PCA(copy=True, iterated_power='auto', n_components=None, random_state=None,\n",
       "  svd_solver='auto', tol=0.0, whiten=False)"
      ]
     },
     "execution_count": 64,
     "metadata": {},
     "output_type": "execute_result"
    }
   ],
   "source": [
    "pca = PCA()\n",
    "pca.fit(X_train)"
   ]
  },
  {
   "cell_type": "markdown",
   "metadata": {},
   "source": [
    "We keep 99% percent of the variance in the data with 286 components."
   ]
  },
  {
   "cell_type": "code",
   "execution_count": 65,
   "metadata": {
    "ExecuteTime": {
     "end_time": "2019-05-09T09:59:02.176332Z",
     "start_time": "2019-05-09T09:59:01.988912Z"
    },
    "scrolled": false
   },
   "outputs": [
    {
     "data": {
      "text/plain": [
       "<matplotlib.axes._subplots.AxesSubplot at 0x1a30fa8898>"
      ]
     },
     "execution_count": 65,
     "metadata": {},
     "output_type": "execute_result"
    },
    {
     "data": {
      "image/png": "[encoded data removed]",
      "text/plain": [
       "<Figure size 432x288 with 1 Axes>"
      ]
     },
     "metadata": {
      "needs_background": "light"
     },
     "output_type": "display_data"
    }
   ],
   "source": [
    "plot_pca_component_variance(pca, target_explained_variance=0.99)"
   ]
  },
  {
   "cell_type": "code",
   "execution_count": 66,
   "metadata": {
    "ExecuteTime": {
     "end_time": "2019-05-09T09:59:15.283684Z",
     "start_time": "2019-05-09T09:59:02.178631Z"
    }
   },
   "outputs": [
    {
     "data": {
      "text/plain": [
       "PCA(copy=True, iterated_power='auto', n_components=0.99, random_state=None,\n",
       "  svd_solver='auto', tol=0.0, whiten=False)"
      ]
     },
     "execution_count": 66,
     "metadata": {},
     "output_type": "execute_result"
    }
   ],
   "source": [
    "pca = PCA(n_components= 0.99)\n",
    "pca.fit(X_train)"
   ]
  },
  {
   "cell_type": "code",
   "execution_count": 67,
   "metadata": {
    "ExecuteTime": {
     "end_time": "2019-05-09T09:59:18.179250Z",
     "start_time": "2019-05-09T09:59:15.285245Z"
    }
   },
   "outputs": [],
   "source": [
    "X_train = pca.transform(X_train)\n",
    "X_test = pca.transform(X_test)"
   ]
  },
  {
   "cell_type": "markdown",
   "metadata": {},
   "source": [
    "### LogisticRegression"
   ]
  },
  {
   "cell_type": "markdown",
   "metadata": {},
   "source": [
    "As a base classifier we have chosen to use LogisticRegression."
   ]
  },
  {
   "cell_type": "code",
   "execution_count": 68,
   "metadata": {
    "ExecuteTime": {
     "end_time": "2019-05-09T09:59:18.183779Z",
     "start_time": "2019-05-09T09:59:18.181057Z"
    }
   },
   "outputs": [],
   "source": [
    "from sklearn.model_selection import cross_val_score\n",
    "from sklearn.metrics import classification_report"
   ]
  },
  {
   "cell_type": "markdown",
   "metadata": {},
   "source": [
    "We modified the `C` parameter which is the inverse of regularization strenght. This means that there will be a stronger regularization than the default 1. In this case we use `l2` regularization which means that high weights will be punished more than small weights. We have chosen to use `l2` regularization because it had the best performance after applying gridsearch."
   ]
  },
  {
   "cell_type": "code",
   "execution_count": 69,
   "metadata": {
    "ExecuteTime": {
     "end_time": "2019-05-09T09:59:18.188844Z",
     "start_time": "2019-05-09T09:59:18.185809Z"
    }
   },
   "outputs": [],
   "source": [
    "clf = LogisticRegression(C=0.01, n_jobs=-1)"
   ]
  },
  {
   "cell_type": "code",
   "execution_count": 70,
   "metadata": {
    "ExecuteTime": {
     "end_time": "2019-05-09T09:59:35.084752Z",
     "start_time": "2019-05-09T09:59:18.190697Z"
    },
    "scrolled": true
   },
   "outputs": [
    {
     "data": {
      "text/plain": [
       "LogisticRegression(C=0.01, class_weight=None, dual=False, fit_intercept=True,\n",
       "          intercept_scaling=1, max_iter=100, multi_class='warn', n_jobs=-1,\n",
       "          penalty='l2', random_state=None, solver='warn', tol=0.0001,\n",
       "          verbose=0, warm_start=False)"
      ]
     },
     "execution_count": 70,
     "metadata": {},
     "output_type": "execute_result"
    }
   ],
   "source": [
    "clf.fit(X_train, y_train)"
   ]
  },
  {
   "cell_type": "markdown",
   "metadata": {},
   "source": [
    "Now we apply cross validation on the train data to check the accuracy. The average accuracy turns out to be 68% after 5 cross validations."
   ]
  },
  {
   "cell_type": "code",
   "execution_count": 71,
   "metadata": {
    "ExecuteTime": {
     "end_time": "2019-05-09T10:00:39.111390Z",
     "start_time": "2019-05-09T09:59:35.086984Z"
    }
   },
   "outputs": [
    {
     "name": "stdout",
     "output_type": "stream",
     "text": [
      "Accuracy: 0.68 (+/- 0.00)\n"
     ]
    }
   ],
   "source": [
    "scores = cross_val_score(clf, X_train, y_train, cv=5)\n",
    "print(\"Accuracy: %0.2f (+/- %0.2f)\" % (scores.mean(), scores.std() * 2))"
   ]
  },
  {
   "cell_type": "code",
   "execution_count": 72,
   "metadata": {
    "ExecuteTime": {
     "end_time": "2019-05-09T10:00:39.162690Z",
     "start_time": "2019-05-09T10:00:39.113308Z"
    }
   },
   "outputs": [],
   "source": [
    "y_pred = clf.predict(X_test)"
   ]
  },
  {
   "cell_type": "markdown",
   "metadata": {},
   "source": [
    "The accuracy score on the test data set is 69% percent."
   ]
  },
  {
   "cell_type": "code",
   "execution_count": 73,
   "metadata": {
    "ExecuteTime": {
     "end_time": "2019-05-09T10:00:39.177324Z",
     "start_time": "2019-05-09T10:00:39.164713Z"
    }
   },
   "outputs": [
    {
     "data": {
      "text/plain": [
       "0.6889618652764665"
      ]
     },
     "execution_count": 73,
     "metadata": {},
     "output_type": "execute_result"
    }
   ],
   "source": [
    "accuracy_score(y_test, y_pred)"
   ]
  },
  {
   "cell_type": "markdown",
   "metadata": {},
   "source": [
    "The prcision of -1 is 0.76 which means that 76% of the predicted -1(failed projects) are correct and the precision for 1(successful projects) is 0.56 which means that 56% of the predicted values are correct.\n",
    "\n",
    "The recall for -1 is 0.75 which means that we predicted 75% of the -1 and the recall for 1 is 0.58 which means that we identified 58% of the 1.\n",
    "\n"
   ]
  },
  {
   "cell_type": "code",
   "execution_count": 74,
   "metadata": {
    "ExecuteTime": {
     "end_time": "2019-05-09T10:00:39.276520Z",
     "start_time": "2019-05-09T10:00:39.179089Z"
    }
   },
   "outputs": [
    {
     "name": "stdout",
     "output_type": "stream",
     "text": [
      "              precision    recall  f1-score   support\n",
      "\n",
      "          -1       0.76      0.75      0.76     78444\n",
      "           1       0.56      0.58      0.57     43361\n",
      "\n",
      "   micro avg       0.69      0.69      0.69    121805\n",
      "   macro avg       0.66      0.66      0.66    121805\n",
      "weighted avg       0.69      0.69      0.69    121805\n",
      "\n"
     ]
    }
   ],
   "source": [
    "print(classification_report(y_test, y_pred))"
   ]
  },
  {
   "cell_type": "markdown",
   "metadata": {},
   "source": [
    "The diagonal of the matrix is darker than the rest which means that the true positives are more than the false positives and the true negatives are more than the false negatives and that explains that our model is performing good in both cases."
   ]
  },
  {
   "cell_type": "code",
   "execution_count": 75,
   "metadata": {
    "ExecuteTime": {
     "end_time": "2019-05-09T10:00:39.518324Z",
     "start_time": "2019-05-09T10:00:39.278044Z"
    }
   },
   "outputs": [
    {
     "data": {
      "image/png": "[encoded data removed]",
      "text/plain": [
       "<Figure size 432x288 with 2 Axes>"
      ]
     },
     "metadata": {
      "needs_background": "light"
     },
     "output_type": "display_data"
    }
   ],
   "source": [
    "plot_confusion_matrix(y_test, y_pred);"
   ]
  },
  {
   "cell_type": "markdown",
   "metadata": {},
   "source": [
    "We can see the learning curve of our LogisticRegression model and what we can say is that the training score and the cross validation score are converging."
   ]
  },
  {
   "cell_type": "code",
   "execution_count": 66,
   "metadata": {
    "ExecuteTime": {
     "end_time": "2019-05-01T12:35:04.312895Z",
     "start_time": "2019-05-01T12:34:46.752612Z"
    }
   },
   "outputs": [
    {
     "data": {
      "text/plain": [
       "<matplotlib.axes._subplots.AxesSubplot at 0x1a261bdb70>"
      ]
     },
     "execution_count": 66,
     "metadata": {},
     "output_type": "execute_result"
    },
    {
     "data": {
      "image/png": "[encoded data removed]",
      "text/plain": [
       "<Figure size 432x288 with 1 Axes>"
      ]
     },
     "metadata": {
      "needs_background": "light"
     },
     "output_type": "display_data"
    }
   ],
   "source": [
    "plot_learning_curve(clf, X, y, n_jobs=-1)"
   ]
  },
  {
   "cell_type": "markdown",
   "metadata": {},
   "source": [
    "#### Grid search with logistic regression"
   ]
  },
  {
   "cell_type": "markdown",
   "metadata": {},
   "source": [
    "We are using the grid search to find the optimal parameters which are C that is used for the regularization  and penalty to control the parameters using L1 or L2 both are used to make sure that the model generalises properly."
   ]
  },
  {
   "cell_type": "code",
   "execution_count": 67,
   "metadata": {
    "ExecuteTime": {
     "end_time": "2019-05-01T12:35:04.318855Z",
     "start_time": "2019-05-01T12:35:04.315601Z"
    }
   },
   "outputs": [],
   "source": [
    "from sklearn.model_selection import GridSearchCV\n",
    "\n",
    "grid = {\n",
    "    \"C\":np.logspace(-3,1,5), \n",
    "    \"penalty\":[\"l1\",\"l2\"]\n",
    "}"
   ]
  },
  {
   "cell_type": "code",
   "execution_count": 68,
   "metadata": {
    "ExecuteTime": {
     "end_time": "2019-05-01T12:51:02.707922Z",
     "start_time": "2019-05-01T12:35:04.321024Z"
    }
   },
   "outputs": [
    {
     "data": {
      "text/plain": [
       "GridSearchCV(cv=10, error_score='raise-deprecating',\n",
       "       estimator=LogisticRegression(C=1.0, class_weight=None, dual=False, fit_intercept=True,\n",
       "          intercept_scaling=1, max_iter=100, multi_class='warn',\n",
       "          n_jobs=None, penalty='l2', random_state=None, solver='warn',\n",
       "          tol=0.0001, verbose=0, warm_start=False),\n",
       "       fit_params=None, iid='warn', n_jobs=-1,\n",
       "       param_grid={'C': array([1.e-03, 1.e-02, 1.e-01, 1.e+00, 1.e+01]), 'penalty': ['l1', 'l2']},\n",
       "       pre_dispatch='2*n_jobs', refit=True, return_train_score='warn',\n",
       "       scoring=None, verbose=0)"
      ]
     },
     "execution_count": 68,
     "metadata": {},
     "output_type": "execute_result"
    }
   ],
   "source": [
    "logreg = LogisticRegression()\n",
    "logreg_cv = GridSearchCV(logreg,grid, cv=10, n_jobs = -1)\n",
    "logreg_cv.fit(X_train, y_train)"
   ]
  },
  {
   "cell_type": "code",
   "execution_count": 69,
   "metadata": {
    "ExecuteTime": {
     "end_time": "2019-05-01T12:51:02.742574Z",
     "start_time": "2019-05-01T12:51:02.723178Z"
    }
   },
   "outputs": [
    {
     "name": "stdout",
     "output_type": "stream",
     "text": [
      "tuned hpyerparameters :(best parameters)  {'C': 0.01, 'penalty': 'l2'}\n",
      "accuracy : 0.6772773856855234\n"
     ]
    }
   ],
   "source": [
    "print(\"tuned hpyerparameters :(best parameters) \", logreg_cv.best_params_)\n",
    "print(\"accuracy :\",logreg_cv.best_score_)"
   ]
  },
  {
   "cell_type": "markdown",
   "metadata": {
    "ExecuteTime": {
     "end_time": "2019-04-10T16:45:17.595649Z",
     "start_time": "2019-04-10T16:45:17.593611Z"
    }
   },
   "source": [
    "### ExtraTreeClassifier"
   ]
  },
  {
   "cell_type": "markdown",
   "metadata": {},
   "source": [
    "We used RandomOverSampler generate new samples in the classes which are under-represented."
   ]
  },
  {
   "cell_type": "code",
   "execution_count": 70,
   "metadata": {
    "ExecuteTime": {
     "end_time": "2019-05-01T12:51:06.507412Z",
     "start_time": "2019-05-01T12:51:02.746297Z"
    }
   },
   "outputs": [],
   "source": [
    "X_train, X_test, y_train, y_test = train_test_split(X, y, test_size=0.33, random_state=42, stratify=y)\n",
    "X_train, y_train = RandomOverSampler(0.90).fit_resample(X_train, y_train)"
   ]
  },
  {
   "cell_type": "code",
   "execution_count": 71,
   "metadata": {
    "ExecuteTime": {
     "end_time": "2019-05-01T12:51:16.946764Z",
     "start_time": "2019-05-01T12:51:06.510612Z"
    }
   },
   "outputs": [
    {
     "data": {
      "text/plain": [
       "PCA(copy=True, iterated_power='auto', n_components=0.99, random_state=None,\n",
       "  svd_solver='auto', tol=0.0, whiten=False)"
      ]
     },
     "execution_count": 71,
     "metadata": {},
     "output_type": "execute_result"
    }
   ],
   "source": [
    "pca = PCA(n_components= 0.99)\n",
    "pca.fit(X_train)"
   ]
  },
  {
   "cell_type": "code",
   "execution_count": 72,
   "metadata": {
    "ExecuteTime": {
     "end_time": "2019-05-01T12:51:19.301846Z",
     "start_time": "2019-05-01T12:51:16.948417Z"
    }
   },
   "outputs": [],
   "source": [
    "X_train = pca.transform(X_train)\n",
    "X_test = pca.transform(X_test)"
   ]
  },
  {
   "cell_type": "markdown",
   "metadata": {},
   "source": [
    "#### Train the model"
   ]
  },
  {
   "cell_type": "markdown",
   "metadata": {},
   "source": [
    "We specified those two parameters because without them the model was overfitting (min_samples_split=200 which is the minimum number of samples required to split an internal node , max_depth=30 which is the maximum depth of the tree)."
   ]
  },
  {
   "cell_type": "code",
   "execution_count": 73,
   "metadata": {
    "ExecuteTime": {
     "end_time": "2019-05-01T12:51:27.469041Z",
     "start_time": "2019-05-01T12:51:19.303511Z"
    }
   },
   "outputs": [
    {
     "data": {
      "text/plain": [
       "ExtraTreesClassifier(bootstrap=False, class_weight=None, criterion='gini',\n",
       "           max_depth=30, max_features='auto', max_leaf_nodes=None,\n",
       "           min_impurity_decrease=0.0, min_impurity_split=None,\n",
       "           min_samples_leaf=1, min_samples_split=200,\n",
       "           min_weight_fraction_leaf=0.0, n_estimators=10, n_jobs=-1,\n",
       "           oob_score=False, random_state=None, verbose=0, warm_start=False)"
      ]
     },
     "execution_count": 73,
     "metadata": {},
     "output_type": "execute_result"
    }
   ],
   "source": [
    "clf = ExtraTreesClassifier(min_samples_split=200, max_depth=30,  n_jobs=-1)\n",
    "clf.fit(X_train, y_train)"
   ]
  },
  {
   "cell_type": "code",
   "execution_count": 74,
   "metadata": {
    "ExecuteTime": {
     "end_time": "2019-05-01T12:51:27.688926Z",
     "start_time": "2019-05-01T12:51:27.471137Z"
    }
   },
   "outputs": [],
   "source": [
    "y_pred = clf.predict(X_test)"
   ]
  },
  {
   "cell_type": "code",
   "execution_count": 75,
   "metadata": {
    "ExecuteTime": {
     "end_time": "2019-05-01T12:52:11.571047Z",
     "start_time": "2019-05-01T12:51:27.691878Z"
    }
   },
   "outputs": [
    {
     "name": "stdout",
     "output_type": "stream",
     "text": [
      "Accuracy: 0.68 (+/- 0.02)\n"
     ]
    }
   ],
   "source": [
    "scores = cross_val_score(clf, X_train, y_train, cv=5)\n",
    "print(\"Accuracy: %0.2f (+/- %0.2f)\" % (scores.mean(), scores.std() * 2))"
   ]
  },
  {
   "cell_type": "code",
   "execution_count": 76,
   "metadata": {
    "ExecuteTime": {
     "end_time": "2019-05-01T12:52:11.589656Z",
     "start_time": "2019-05-01T12:52:11.573271Z"
    }
   },
   "outputs": [
    {
     "data": {
      "text/plain": [
       "0.681825809699614"
      ]
     },
     "execution_count": 76,
     "metadata": {},
     "output_type": "execute_result"
    }
   ],
   "source": [
    "accuracy_score(y_test, y_pred)"
   ]
  },
  {
   "cell_type": "markdown",
   "metadata": {},
   "source": [
    "The prcision of -1 is 0.75 which means that 75% of the predicted -1(failed projects) are correct and the precision for 1(successful projects) is 0.56 which means that 56% of the predicted values are correct.\n",
    "\n",
    "The recall for -1 is 0.75 which means that we predicted 75% of the -1 and the recall for 1 is 0.56 which means that we identified 56% of the 1."
   ]
  },
  {
   "cell_type": "code",
   "execution_count": 77,
   "metadata": {
    "ExecuteTime": {
     "end_time": "2019-05-01T12:52:11.689667Z",
     "start_time": "2019-05-01T12:52:11.592213Z"
    }
   },
   "outputs": [
    {
     "name": "stdout",
     "output_type": "stream",
     "text": [
      "              precision    recall  f1-score   support\n",
      "\n",
      "          -1       0.75      0.75      0.75     76354\n",
      "           1       0.56      0.56      0.56     42826\n",
      "\n",
      "   micro avg       0.68      0.68      0.68    119180\n",
      "   macro avg       0.66      0.66      0.66    119180\n",
      "weighted avg       0.68      0.68      0.68    119180\n",
      "\n"
     ]
    }
   ],
   "source": [
    "print(classification_report(y_test, y_pred))"
   ]
  },
  {
   "cell_type": "markdown",
   "metadata": {},
   "source": [
    "The diagonal of the matrix is darker than the rest which means that the true positives are more than the false positives and the true negatives are more than the false negatives and that explains that our model is performing good in both cases."
   ]
  },
  {
   "cell_type": "code",
   "execution_count": 78,
   "metadata": {
    "ExecuteTime": {
     "end_time": "2019-05-01T12:52:12.007150Z",
     "start_time": "2019-05-01T12:52:11.693158Z"
    },
    "scrolled": true
   },
   "outputs": [
    {
     "data": {
      "text/plain": [
       "<matplotlib.axes._subplots.AxesSubplot at 0x1a262ba048>"
      ]
     },
     "execution_count": 78,
     "metadata": {},
     "output_type": "execute_result"
    },
    {
     "data": {
      "image/png": "[encoded data removed]",
      "text/plain": [
       "<Figure size 432x288 with 2 Axes>"
      ]
     },
     "metadata": {
      "needs_background": "light"
     },
     "output_type": "display_data"
    }
   ],
   "source": [
    "plot_confusion_matrix(y_test, y_pred)"
   ]
  },
  {
   "cell_type": "markdown",
   "metadata": {},
   "source": [
    "We can see the learning curve at the beginning is over fitting but at the end it's converging which means that the model doesn't overfit anymore and generalises properly."
   ]
  },
  {
   "cell_type": "code",
   "execution_count": 80,
   "metadata": {
    "ExecuteTime": {
     "end_time": "2019-05-01T12:52:51.428939Z",
     "start_time": "2019-05-01T12:52:12.425995Z"
    }
   },
   "outputs": [
    {
     "data": {
      "text/plain": [
       "<matplotlib.axes._subplots.AxesSubplot at 0x1a2fbfd978>"
      ]
     },
     "execution_count": 80,
     "metadata": {},
     "output_type": "execute_result"
    },
    {
     "data": {
      "image/png": "[encoded data removed]",
      "text/plain": [
       "<Figure size 432x288 with 1 Axes>"
      ]
     },
     "metadata": {
      "needs_background": "light"
     },
     "output_type": "display_data"
    }
   ],
   "source": [
    "plot_learning_curve(clf, X, y, n_jobs=-1)"
   ]
  },
  {
   "cell_type": "markdown",
   "metadata": {},
   "source": [
    "### SGDClassifier"
   ]
  },
  {
   "cell_type": "code",
   "execution_count": 81,
   "metadata": {
    "ExecuteTime": {
     "end_time": "2019-05-01T12:52:55.073706Z",
     "start_time": "2019-05-01T12:52:51.430661Z"
    }
   },
   "outputs": [],
   "source": [
    "X_train, X_test, y_train, y_test = train_test_split(X, y, test_size=0.33, random_state=42, stratify=y)\n",
    "X_train, y_train = RandomOverSampler(0.778).fit_resample(X_train, y_train)"
   ]
  },
  {
   "cell_type": "code",
   "execution_count": 82,
   "metadata": {
    "ExecuteTime": {
     "end_time": "2019-05-01T12:53:05.730740Z",
     "start_time": "2019-05-01T12:52:55.075365Z"
    }
   },
   "outputs": [
    {
     "data": {
      "text/plain": [
       "PCA(copy=True, iterated_power='auto', n_components=0.99, random_state=None,\n",
       "  svd_solver='auto', tol=0.0, whiten=False)"
      ]
     },
     "execution_count": 82,
     "metadata": {},
     "output_type": "execute_result"
    }
   ],
   "source": [
    "pca = PCA(n_components= 0.99)\n",
    "pca.fit(X_train)"
   ]
  },
  {
   "cell_type": "code",
   "execution_count": 83,
   "metadata": {
    "ExecuteTime": {
     "end_time": "2019-05-01T12:53:08.045325Z",
     "start_time": "2019-05-01T12:53:05.733677Z"
    }
   },
   "outputs": [],
   "source": [
    "X_train = pca.transform(X_train)\n",
    "X_test = pca.transform(X_test)"
   ]
  },
  {
   "cell_type": "markdown",
   "metadata": {},
   "source": [
    "#### Train the model"
   ]
  },
  {
   "cell_type": "code",
   "execution_count": 84,
   "metadata": {
    "ExecuteTime": {
     "end_time": "2019-05-01T12:53:08.049382Z",
     "start_time": "2019-05-01T12:53:08.046793Z"
    }
   },
   "outputs": [],
   "source": [
    "from sklearn.linear_model import SGDClassifier"
   ]
  },
  {
   "cell_type": "markdown",
   "metadata": {},
   "source": [
    "We kept the default parameters (alpha,loss,penalty) because after running the grid search they were the best parameters to use."
   ]
  },
  {
   "cell_type": "code",
   "execution_count": 85,
   "metadata": {
    "ExecuteTime": {
     "end_time": "2019-05-01T12:53:08.055417Z",
     "start_time": "2019-05-01T12:53:08.052362Z"
    }
   },
   "outputs": [],
   "source": [
    "clf = SGDClassifier(n_jobs=-1)"
   ]
  },
  {
   "cell_type": "code",
   "execution_count": 86,
   "metadata": {
    "ExecuteTime": {
     "end_time": "2019-05-01T12:53:09.542782Z",
     "start_time": "2019-05-01T12:53:08.057201Z"
    },
    "scrolled": true
   },
   "outputs": [
    {
     "data": {
      "text/plain": [
       "SGDClassifier(alpha=0.0001, average=False, class_weight=None,\n",
       "       early_stopping=False, epsilon=0.1, eta0=0.0, fit_intercept=True,\n",
       "       l1_ratio=0.15, learning_rate='optimal', loss='hinge', max_iter=None,\n",
       "       n_iter=None, n_iter_no_change=5, n_jobs=-1, penalty='l2',\n",
       "       power_t=0.5, random_state=None, shuffle=True, tol=None,\n",
       "       validation_fraction=0.1, verbose=0, warm_start=False)"
      ]
     },
     "execution_count": 86,
     "metadata": {},
     "output_type": "execute_result"
    }
   ],
   "source": [
    "clf.fit(X_train, y_train)"
   ]
  },
  {
   "cell_type": "code",
   "execution_count": 87,
   "metadata": {
    "ExecuteTime": {
     "end_time": "2019-05-01T12:53:17.076240Z",
     "start_time": "2019-05-01T12:53:09.544406Z"
    }
   },
   "outputs": [
    {
     "name": "stdout",
     "output_type": "stream",
     "text": [
      "Accuracy: 0.67 (+/- 0.00)\n"
     ]
    }
   ],
   "source": [
    "scores = cross_val_score(clf, X_train, y_train, cv=5)\n",
    "print(\"Accuracy: %0.2f (+/- %0.2f)\" % (scores.mean(), scores.std() * 2))"
   ]
  },
  {
   "cell_type": "code",
   "execution_count": 88,
   "metadata": {
    "ExecuteTime": {
     "end_time": "2019-05-01T12:53:17.147857Z",
     "start_time": "2019-05-01T12:53:17.109886Z"
    }
   },
   "outputs": [],
   "source": [
    "y_pred = clf.predict(X_test)"
   ]
  },
  {
   "cell_type": "code",
   "execution_count": null,
   "metadata": {
    "ExecuteTime": {
     "start_time": "2019-05-01T12:32:41.729Z"
    }
   },
   "outputs": [
    {
     "data": {
      "text/plain": [
       "0.6878419197851988"
      ]
     },
     "execution_count": 89,
     "metadata": {},
     "output_type": "execute_result"
    }
   ],
   "source": [
    "accuracy_score(y_test, y_pred)"
   ]
  },
  {
   "cell_type": "markdown",
   "metadata": {},
   "source": [
    "The prcision of -1 is 0.74 which means that 74% of the predicted -1(failed projects) are correct and the precision for 1(successful projects) is 0.57 which means that 57% of the predicted values are correct.\n",
    "\n",
    "The recall for -1 is 0.78 which means that we predicted 78% of the -1 and the recall for 1 is 0.52 which means that we identified 52% of the 1."
   ]
  },
  {
   "cell_type": "code",
   "execution_count": null,
   "metadata": {
    "ExecuteTime": {
     "start_time": "2019-05-01T12:32:41.731Z"
    }
   },
   "outputs": [
    {
     "name": "stdout",
     "output_type": "stream",
     "text": [
      "              precision    recall  f1-score   support\n",
      "\n",
      "          -1       0.74      0.78      0.76     76354\n",
      "           1       0.57      0.52      0.54     42826\n",
      "\n",
      "   micro avg       0.69      0.69      0.69    119180\n",
      "   macro avg       0.66      0.65      0.65    119180\n",
      "weighted avg       0.68      0.69      0.68    119180\n",
      "\n"
     ]
    }
   ],
   "source": [
    "print(classification_report(y_test, y_pred))"
   ]
  },
  {
   "cell_type": "markdown",
   "metadata": {},
   "source": [
    "The true negatives are more than the false negatives but the true positives and the false positives are almost the same and that explains that our model is performing good for the negative values but not that good for the positive ones."
   ]
  },
  {
   "cell_type": "code",
   "execution_count": null,
   "metadata": {
    "ExecuteTime": {
     "start_time": "2019-05-01T12:32:41.733Z"
    }
   },
   "outputs": [
    {
     "data": {
      "text/plain": [
       "<matplotlib.axes._subplots.AxesSubplot at 0x1a2b89b198>"
      ]
     },
     "execution_count": 91,
     "metadata": {},
     "output_type": "execute_result"
    },
    {
     "data": {
      "image/png": "[encoded data removed]",
      "text/plain": [
       "<Figure size 432x288 with 2 Axes>"
      ]
     },
     "metadata": {
      "needs_background": "light"
     },
     "output_type": "display_data"
    }
   ],
   "source": [
    "plot_confusion_matrix(y_test, y_pred)"
   ]
  },
  {
   "cell_type": "markdown",
   "metadata": {},
   "source": [
    "We can see the learning curve of our model and what we can say is that the training score and the cross validation score are converging and both are reaching a maximum score which means that we have enough examples to train the model."
   ]
  },
  {
   "cell_type": "code",
   "execution_count": null,
   "metadata": {
    "ExecuteTime": {
     "start_time": "2019-05-01T12:32:41.735Z"
    },
    "scrolled": false
   },
   "outputs": [
    {
     "data": {
      "text/plain": [
       "<matplotlib.axes._subplots.AxesSubplot at 0x1a2f18a0f0>"
      ]
     },
     "execution_count": 92,
     "metadata": {},
     "output_type": "execute_result"
    },
    {
     "data": {
      "image/png": "[encoded data removed]",
      "text/plain": [
       "<Figure size 432x288 with 1 Axes>"
      ]
     },
     "metadata": {
      "needs_background": "light"
     },
     "output_type": "display_data"
    }
   ],
   "source": [
    "plot_learning_curve(clf, X, y, n_jobs=-1)"
   ]
  },
  {
   "cell_type": "code",
   "execution_count": null,
   "metadata": {
    "ExecuteTime": {
     "start_time": "2019-05-01T12:32:41.737Z"
    }
   },
   "outputs": [
    {
     "data": {
      "text/plain": [
       "GridSearchCV(cv=3, error_score='raise-deprecating',\n",
       "       estimator=SGDClassifier(alpha=0.0001, average=False, class_weight=None,\n",
       "       early_stopping=False, epsilon=0.1, eta0=0.0, fit_intercept=True,\n",
       "       l1_ratio=0.15, learning_rate='optimal', loss='hinge', max_iter=None,\n",
       "       n_iter=None, n_iter_no_change=5, n_jobs=-1, penalty='l2',\n",
       "       power_t=0.5, random_state=None, shuffle=True, tol=None,\n",
       "       validation_fraction=0.1, verbose=0, warm_start=False),\n",
       "       fit_params=None, iid='warn', n_jobs=-1,\n",
       "       param_grid={'loss': ['hinge'], 'penalty': ['l2'], 'alpha': array([1.00000e-06, 3.16228e-06, 1.00000e-05, 3.16228e-05, 1.00000e-04,\n",
       "       3.16228e-04, 1.00000e-03])},\n",
       "       pre_dispatch='2*n_jobs', refit=True, return_train_score='warn',\n",
       "       scoring=None, verbose=0)"
      ]
     },
     "execution_count": 93,
     "metadata": {},
     "output_type": "execute_result"
    }
   ],
   "source": [
    "grid = {\n",
    "    \"loss\":['hinge'], \n",
    "    \"penalty\":[\"l2\"],\n",
    "    'alpha': np.logspace(-6,-3,7)\n",
    "}\n",
    "\n",
    "clf = SGDClassifier(n_jobs=-1)\n",
    "logreg_cv = GridSearchCV(clf,grid, cv=3, n_jobs = -1)\n",
    "logreg_cv.fit(X_train, y_train)"
   ]
  },
  {
   "cell_type": "code",
   "execution_count": null,
   "metadata": {
    "ExecuteTime": {
     "start_time": "2019-05-01T12:32:41.740Z"
    }
   },
   "outputs": [
    {
     "name": "stdout",
     "output_type": "stream",
     "text": [
      "tuned hpyerparameters :(best parameters)  {'alpha': 0.001, 'loss': 'hinge', 'penalty': 'l2'}\n",
      "accuracy : 0.6728586096427418\n"
     ]
    }
   ],
   "source": [
    "print(\"tuned hpyerparameters :(best parameters) \", logreg_cv.best_params_)\n",
    "print(\"accuracy :\",logreg_cv.best_score_)"
   ]
  },
  {
   "cell_type": "markdown",
   "metadata": {},
   "source": [
    "### RBFSampler"
   ]
  },
  {
   "cell_type": "code",
   "execution_count": null,
   "metadata": {
    "ExecuteTime": {
     "start_time": "2019-05-01T12:32:41.742Z"
    }
   },
   "outputs": [],
   "source": [
    "X_train, X_test, y_train, y_test = train_test_split(X, y, test_size=0.33, random_state=42, stratify=y)\n",
    "X_train, y_train = RandomOverSampler(0.81).fit_resample(X_train, y_train)"
   ]
  },
  {
   "cell_type": "code",
   "execution_count": null,
   "metadata": {
    "ExecuteTime": {
     "start_time": "2019-05-01T12:32:41.744Z"
    }
   },
   "outputs": [
    {
     "data": {
      "text/plain": [
       "PCA(copy=True, iterated_power='auto', n_components=0.99, random_state=None,\n",
       "  svd_solver='auto', tol=0.0, whiten=False)"
      ]
     },
     "execution_count": 96,
     "metadata": {},
     "output_type": "execute_result"
    }
   ],
   "source": [
    "pca = PCA(n_components= 0.99)\n",
    "pca.fit(X_train)"
   ]
  },
  {
   "cell_type": "code",
   "execution_count": null,
   "metadata": {
    "ExecuteTime": {
     "start_time": "2019-05-01T12:32:41.746Z"
    }
   },
   "outputs": [],
   "source": [
    "X_train = pca.transform(X_train)\n",
    "X_test = pca.transform(X_test)"
   ]
  },
  {
   "cell_type": "code",
   "execution_count": null,
   "metadata": {
    "ExecuteTime": {
     "start_time": "2019-05-01T12:32:41.748Z"
    }
   },
   "outputs": [],
   "source": [
    "from sklearn.kernel_approximation import RBFSampler\n",
    "from sklearn.linear_model import SGDClassifier"
   ]
  },
  {
   "cell_type": "code",
   "execution_count": null,
   "metadata": {
    "ExecuteTime": {
     "start_time": "2019-05-01T12:32:41.750Z"
    }
   },
   "outputs": [
    {
     "data": {
      "text/plain": [
       "SGDClassifier(alpha=0.0001, average=False, class_weight=None,\n",
       "       early_stopping=False, epsilon=0.1, eta0=0.0, fit_intercept=True,\n",
       "       l1_ratio=0.15, learning_rate='optimal', loss='hinge', max_iter=None,\n",
       "       n_iter=None, n_iter_no_change=5, n_jobs=None, penalty='l2',\n",
       "       power_t=0.5, random_state=None, shuffle=True, tol=None,\n",
       "       validation_fraction=0.1, verbose=0, warm_start=False)"
      ]
     },
     "execution_count": 99,
     "metadata": {},
     "output_type": "execute_result"
    }
   ],
   "source": [
    "rbf_feature = RBFSampler(gamma=0.001, n_components=1000, random_state=1)\n",
    "X_features = rbf_feature.fit_transform(X_train)\n",
    "clf = SGDClassifier()\n",
    "clf.fit(X_features, y_train)   "
   ]
  },
  {
   "cell_type": "code",
   "execution_count": null,
   "metadata": {
    "ExecuteTime": {
     "start_time": "2019-05-01T12:32:41.752Z"
    }
   },
   "outputs": [
    {
     "name": "stdout",
     "output_type": "stream",
     "text": [
      "Accuracy: 0.67 (+/- 0.00)\n"
     ]
    }
   ],
   "source": [
    "scores = cross_val_score(clf, X_train, y_train, cv=5)\n",
    "print(\"Accuracy: %0.2f (+/- %0.2f)\" % (scores.mean(), scores.std() * 2))"
   ]
  },
  {
   "cell_type": "code",
   "execution_count": null,
   "metadata": {
    "ExecuteTime": {
     "start_time": "2019-05-01T12:32:41.754Z"
    }
   },
   "outputs": [],
   "source": [
    "X_features_t = rbf_feature.fit_transform(X_test)\n",
    "y_pred = clf.predict(X_features_t)"
   ]
  },
  {
   "cell_type": "code",
   "execution_count": null,
   "metadata": {
    "ExecuteTime": {
     "start_time": "2019-05-01T12:32:41.757Z"
    }
   },
   "outputs": [
    {
     "data": {
      "text/plain": [
       "0.6659506628628965"
      ]
     },
     "execution_count": 102,
     "metadata": {},
     "output_type": "execute_result"
    }
   ],
   "source": [
    "accuracy_score(y_test, y_pred)"
   ]
  },
  {
   "cell_type": "markdown",
   "metadata": {},
   "source": [
    "The diagonal of the matrix is darker than the rest which means that the true positives are more than the false positives and the true negatives are more than the false negatives and that explains that our model is performing good in both cases."
   ]
  },
  {
   "cell_type": "code",
   "execution_count": null,
   "metadata": {
    "ExecuteTime": {
     "start_time": "2019-05-01T12:32:41.759Z"
    }
   },
   "outputs": [
    {
     "data": {
      "text/plain": [
       "<matplotlib.axes._subplots.AxesSubplot at 0x1a356df4a8>"
      ]
     },
     "execution_count": 103,
     "metadata": {},
     "output_type": "execute_result"
    },
    {
     "data": {
      "image/png": "[encoded data removed]",
      "text/plain": [
       "<Figure size 432x288 with 2 Axes>"
      ]
     },
     "metadata": {
      "needs_background": "light"
     },
     "output_type": "display_data"
    }
   ],
   "source": [
    "plot_confusion_matrix(y_test, y_pred)"
   ]
  },
  {
   "cell_type": "markdown",
   "metadata": {},
   "source": [
    "We can see the learning curve of our model and what we can say is that the training score and the cross validation score are converging and both are reaching a maximum score which means that we have enough examples to train the model."
   ]
  },
  {
   "cell_type": "code",
   "execution_count": null,
   "metadata": {
    "ExecuteTime": {
     "start_time": "2019-05-01T12:32:41.761Z"
    }
   },
   "outputs": [
    {
     "data": {
      "text/plain": [
       "<matplotlib.axes._subplots.AxesSubplot at 0x1a2f18a588>"
      ]
     },
     "execution_count": 104,
     "metadata": {},
     "output_type": "execute_result"
    },
    {
     "data": {
      "image/png": "[encoded data removed]",
      "text/plain": [
       "<Figure size 432x288 with 1 Axes>"
      ]
     },
     "metadata": {
      "needs_background": "light"
     },
     "output_type": "display_data"
    }
   ],
   "source": [
    "plot_learning_curve(clf, X, y, n_jobs=-1)"
   ]
  },
  {
   "cell_type": "markdown",
   "metadata": {},
   "source": [
    "#### RBFSampler gridsearch"
   ]
  },
  {
   "cell_type": "code",
   "execution_count": null,
   "metadata": {
    "ExecuteTime": {
     "start_time": "2019-05-01T12:32:41.764Z"
    }
   },
   "outputs": [],
   "source": [
    "from sklearn.pipeline import Pipeline"
   ]
  },
  {
   "cell_type": "code",
   "execution_count": null,
   "metadata": {
    "ExecuteTime": {
     "start_time": "2019-05-01T12:32:41.766Z"
    }
   },
   "outputs": [],
   "source": [
    "grid = {\n",
    "    \"rbfsampler__n_components\": np.linspace(188,1000,5, dtype=int),\n",
    "    'rbfsampler__gamma': np.logspace(-3,3,5)\n",
    "}"
   ]
  },
  {
   "cell_type": "code",
   "execution_count": null,
   "metadata": {
    "ExecuteTime": {
     "start_time": "2019-05-01T12:32:41.769Z"
    }
   },
   "outputs": [
    {
     "data": {
      "text/plain": [
       "GridSearchCV(cv=3, error_score='raise-deprecating',\n",
       "       estimator=Pipeline(memory=None,\n",
       "     steps=[('rbfsampler', RBFSampler(gamma=1.0, n_components=100, random_state=1)), ('sgd', SGDClassifier(alpha=0.001, average=False, class_weight=None,\n",
       "       early_stopping=False, epsilon=0.1, eta0=0.0, fit_intercept=True,\n",
       "       l1_ratio=0.15, learning_rate='optim..._state=None, shuffle=True, tol=None,\n",
       "       validation_fraction=0.1, verbose=0, warm_start=False))]),\n",
       "       fit_params=None, iid='warn', n_jobs=-1,\n",
       "       param_grid={'rbfsampler__n_components': array([ 188,  391,  594,  797, 1000]), 'rbfsampler__gamma': array([1.00000e-03, 3.16228e-02, 1.00000e+00, 3.16228e+01, 1.00000e+03])},\n",
       "       pre_dispatch='2*n_jobs', refit=True, return_train_score='warn',\n",
       "       scoring=None, verbose=0)"
      ]
     },
     "execution_count": 107,
     "metadata": {},
     "output_type": "execute_result"
    }
   ],
   "source": [
    "rbf_feature = RBFSampler(random_state=1)\n",
    "clf = SGDClassifier(alpha = 0.001, loss = 'hinge', penalty = 'l2')\n",
    "\n",
    "rbf_clf = Pipeline(steps=[('rbfsampler', rbf_feature), ('sgd', clf)])  \n",
    "\n",
    "logreg_cv = GridSearchCV(rbf_clf, grid, cv=3, n_jobs = -1)\n",
    "logreg_cv.fit(X_train, y_train)"
   ]
  },
  {
   "cell_type": "code",
   "execution_count": null,
   "metadata": {
    "ExecuteTime": {
     "start_time": "2019-05-01T12:32:41.771Z"
    }
   },
   "outputs": [
    {
     "name": "stdout",
     "output_type": "stream",
     "text": [
      "tuned hpyerparameters :(best parameters)  {'rbfsampler__gamma': 0.03162277660168379, 'rbfsampler__n_components': 797}\n",
      "accuracy : 0.651656521305259\n"
     ]
    }
   ],
   "source": [
    "print(\"tuned hpyerparameters :(best parameters) \", logreg_cv.best_params_)\n",
    "print(\"accuracy :\",logreg_cv.best_score_)"
   ]
  },
  {
   "cell_type": "markdown",
   "metadata": {},
   "source": [
    "### Neural Network"
   ]
  },
  {
   "cell_type": "code",
   "execution_count": null,
   "metadata": {
    "ExecuteTime": {
     "start_time": "2019-05-01T12:32:41.774Z"
    }
   },
   "outputs": [],
   "source": [
    "clf = MLPClassifier(hidden_layer_sizes=(189,2), learning_rate='adaptive', warm_start=True)"
   ]
  },
  {
   "cell_type": "code",
   "execution_count": null,
   "metadata": {
    "ExecuteTime": {
     "start_time": "2019-05-01T12:32:41.776Z"
    },
    "scrolled": true
   },
   "outputs": [
    {
     "data": {
      "text/plain": [
       "MLPClassifier(activation='relu', alpha=0.0001, batch_size='auto', beta_1=0.9,\n",
       "       beta_2=0.999, early_stopping=False, epsilon=1e-08,\n",
       "       hidden_layer_sizes=(189, 2), learning_rate='adaptive',\n",
       "       learning_rate_init=0.001, max_iter=200, momentum=0.9,\n",
       "       n_iter_no_change=10, nesterovs_momentum=True, power_t=0.5,\n",
       "       random_state=None, shuffle=True, solver='adam', tol=0.0001,\n",
       "       validation_fraction=0.1, verbose=False, warm_start=True)"
      ]
     },
     "execution_count": 110,
     "metadata": {},
     "output_type": "execute_result"
    }
   ],
   "source": [
    "clf.fit(X_train, y_train)"
   ]
  },
  {
   "cell_type": "code",
   "execution_count": null,
   "metadata": {
    "ExecuteTime": {
     "start_time": "2019-05-01T12:32:41.780Z"
    }
   },
   "outputs": [],
   "source": [
    "y_pred = clf.predict(X_test)"
   ]
  },
  {
   "cell_type": "code",
   "execution_count": null,
   "metadata": {
    "ExecuteTime": {
     "start_time": "2019-05-01T12:32:41.783Z"
    }
   },
   "outputs": [
    {
     "data": {
      "text/plain": [
       "0.6448984728981373"
      ]
     },
     "execution_count": 113,
     "metadata": {},
     "output_type": "execute_result"
    }
   ],
   "source": [
    "accuracy_score(y_test, y_pred)"
   ]
  },
  {
   "cell_type": "markdown",
   "metadata": {},
   "source": [
    "The true negatives are more than the false negatives but the true positives are less than false positives and that explains that our model is performing good for the negative values but badly for the positive ones."
   ]
  },
  {
   "cell_type": "code",
   "execution_count": null,
   "metadata": {
    "ExecuteTime": {
     "start_time": "2019-05-01T12:32:41.785Z"
    }
   },
   "outputs": [
    {
     "data": {
      "text/plain": [
       "<matplotlib.axes._subplots.AxesSubplot at 0x1a24c8f7f0>"
      ]
     },
     "execution_count": 114,
     "metadata": {},
     "output_type": "execute_result"
    },
    {
     "data": {
      "image/png": "[encoded data removed]",
      "text/plain": [
       "<Figure size 432x288 with 2 Axes>"
      ]
     },
     "metadata": {
      "needs_background": "light"
     },
     "output_type": "display_data"
    }
   ],
   "source": [
    "plot_confusion_matrix(y_test, y_pred)"
   ]
  },
  {
   "cell_type": "markdown",
   "metadata": {},
   "source": [
    "### GradientBoostingClassifier"
   ]
  },
  {
   "cell_type": "code",
   "execution_count": 58,
   "metadata": {
    "ExecuteTime": {
     "end_time": "2019-05-01T14:04:32.078791Z",
     "start_time": "2019-05-01T14:04:32.075851Z"
    }
   },
   "outputs": [],
   "source": [
    "from sklearn.ensemble import GradientBoostingClassifier"
   ]
  },
  {
   "cell_type": "code",
   "execution_count": 59,
   "metadata": {
    "ExecuteTime": {
     "end_time": "2019-05-01T14:04:32.308851Z",
     "start_time": "2019-05-01T14:04:32.306331Z"
    }
   },
   "outputs": [],
   "source": [
    "clf = GradientBoostingClassifier()"
   ]
  },
  {
   "cell_type": "code",
   "execution_count": 60,
   "metadata": {
    "ExecuteTime": {
     "end_time": "2019-05-01T14:29:34.203181Z",
     "start_time": "2019-05-01T14:04:32.513133Z"
    },
    "scrolled": true
   },
   "outputs": [
    {
     "data": {
      "text/plain": [
       "GradientBoostingClassifier(criterion='friedman_mse', init=None,\n",
       "              learning_rate=0.1, loss='deviance', max_depth=3,\n",
       "              max_features=None, max_leaf_nodes=None,\n",
       "              min_impurity_decrease=0.0, min_impurity_split=None,\n",
       "              min_samples_leaf=1, min_samples_split=2,\n",
       "              min_weight_fraction_leaf=0.0, n_estimators=100,\n",
       "              n_iter_no_change=None, presort='auto', random_state=None,\n",
       "              subsample=1.0, tol=0.0001, validation_fraction=0.1,\n",
       "              verbose=0, warm_start=False)"
      ]
     },
     "execution_count": 60,
     "metadata": {},
     "output_type": "execute_result"
    }
   ],
   "source": [
    "clf.fit(X_train, y_train)"
   ]
  },
  {
   "cell_type": "code",
   "execution_count": 61,
   "metadata": {
    "ExecuteTime": {
     "end_time": "2019-05-01T14:29:34.870354Z",
     "start_time": "2019-05-01T14:29:34.205379Z"
    }
   },
   "outputs": [],
   "source": [
    "y_pred = clf.predict(X_test)"
   ]
  },
  {
   "cell_type": "code",
   "execution_count": 62,
   "metadata": {
    "ExecuteTime": {
     "end_time": "2019-05-01T14:29:34.885447Z",
     "start_time": "2019-05-01T14:29:34.872313Z"
    }
   },
   "outputs": [
    {
     "data": {
      "text/plain": [
       "0.690854170162779"
      ]
     },
     "execution_count": 62,
     "metadata": {},
     "output_type": "execute_result"
    }
   ],
   "source": [
    "accuracy_score(y_test, y_pred)"
   ]
  },
  {
   "cell_type": "markdown",
   "metadata": {},
   "source": [
    "The diagonal of the matrix is darker than the rest which means that the true positives are more than the false positives and the true negatives are more than the false negatives and that explains that our model is performing good in both cases."
   ]
  },
  {
   "cell_type": "code",
   "execution_count": 63,
   "metadata": {
    "ExecuteTime": {
     "end_time": "2019-05-01T14:29:35.117086Z",
     "start_time": "2019-05-01T14:29:34.888019Z"
    }
   },
   "outputs": [
    {
     "data": {
      "image/png": "[encoded data removed]",
      "text/plain": [
       "<Figure size 432x288 with 2 Axes>"
      ]
     },
     "metadata": {
      "needs_background": "light"
     },
     "output_type": "display_data"
    }
   ],
   "source": [
    "plot_confusion_matrix(y_test, y_pred);"
   ]
  },
  {
   "cell_type": "markdown",
   "metadata": {},
   "source": [
    "### XGBoost"
   ]
  },
  {
   "cell_type": "code",
   "execution_count": 77,
   "metadata": {
    "ExecuteTime": {
     "end_time": "2019-05-01T15:16:40.378616Z",
     "start_time": "2019-05-01T15:16:36.337363Z"
    }
   },
   "outputs": [],
   "source": [
    "X_train, X_test, y_train, y_test = train_test_split(X, y, test_size=0.33, random_state=42, stratify=y)\n",
    "X_train, y_train = RandomOverSampler().fit_resample(X_train, y_train)"
   ]
  },
  {
   "cell_type": "code",
   "execution_count": 78,
   "metadata": {
    "ExecuteTime": {
     "end_time": "2019-05-01T15:16:52.541597Z",
     "start_time": "2019-05-01T15:16:40.381081Z"
    }
   },
   "outputs": [
    {
     "data": {
      "text/plain": [
       "PCA(copy=True, iterated_power='auto', n_components=0.99, random_state=None,\n",
       "  svd_solver='auto', tol=0.0, whiten=False)"
      ]
     },
     "execution_count": 78,
     "metadata": {},
     "output_type": "execute_result"
    }
   ],
   "source": [
    "pca = PCA(n_components= 0.99)\n",
    "pca.fit(X_train)"
   ]
  },
  {
   "cell_type": "code",
   "execution_count": 79,
   "metadata": {
    "ExecuteTime": {
     "end_time": "2019-05-01T15:16:55.198594Z",
     "start_time": "2019-05-01T15:16:52.543183Z"
    }
   },
   "outputs": [],
   "source": [
    "X_train = pca.transform(X_train)\n",
    "X_test = pca.transform(X_test)"
   ]
  },
  {
   "cell_type": "code",
   "execution_count": 80,
   "metadata": {
    "ExecuteTime": {
     "end_time": "2019-05-01T15:16:55.204447Z",
     "start_time": "2019-05-01T15:16:55.201336Z"
    }
   },
   "outputs": [],
   "source": [
    "import xgboost as xgb"
   ]
  },
  {
   "cell_type": "code",
   "execution_count": 81,
   "metadata": {
    "ExecuteTime": {
     "end_time": "2019-05-01T15:24:38.430080Z",
     "start_time": "2019-05-01T15:16:55.206775Z"
    }
   },
   "outputs": [
    {
     "data": {
      "text/plain": [
       "XGBClassifier(base_score=0.5, booster='gbtree', colsample_bylevel=1,\n",
       "       colsample_bytree=1, gamma=0, learning_rate=0.1, max_delta_step=0,\n",
       "       max_depth=3, min_child_weight=1, missing=None, n_estimators=100,\n",
       "       n_jobs=1, nthread=None, objective='binary:logistic',\n",
       "       random_state=42, reg_alpha=0, reg_lambda=1, scale_pos_weight=1,\n",
       "       seed=None, silent=True, subsample=1)"
      ]
     },
     "execution_count": 81,
     "metadata": {},
     "output_type": "execute_result"
    }
   ],
   "source": [
    "xgb_model = xgb.XGBClassifier(objective=\"binary:logistic\", random_state=42)\n",
    "xgb_model.fit(X_train, y_train)"
   ]
  },
  {
   "cell_type": "code",
   "execution_count": 82,
   "metadata": {
    "ExecuteTime": {
     "end_time": "2019-05-01T15:24:39.056080Z",
     "start_time": "2019-05-01T15:24:38.432320Z"
    }
   },
   "outputs": [],
   "source": [
    "y_pred = xgb_model.predict(X_test)"
   ]
  },
  {
   "cell_type": "code",
   "execution_count": 83,
   "metadata": {
    "ExecuteTime": {
     "end_time": "2019-05-01T15:24:39.075085Z",
     "start_time": "2019-05-01T15:24:39.057646Z"
    }
   },
   "outputs": [
    {
     "data": {
      "text/plain": [
       "0.6611679812049002"
      ]
     },
     "execution_count": 83,
     "metadata": {},
     "output_type": "execute_result"
    }
   ],
   "source": [
    "accuracy_score(y_test, y_pred)"
   ]
  },
  {
   "cell_type": "markdown",
   "metadata": {},
   "source": [
    "The diagonal of the matrix is darker than the rest but the false negatives are quite high compared to the true negatives and the true positives are more than the false positives and that explains that our model is performing \n",
    "good but not as good as logistic regression."
   ]
  },
  {
   "cell_type": "code",
   "execution_count": 84,
   "metadata": {
    "ExecuteTime": {
     "end_time": "2019-05-01T15:24:39.312707Z",
     "start_time": "2019-05-01T15:24:39.076615Z"
    }
   },
   "outputs": [
    {
     "data": {
      "image/png": "[encoded data removed]",
      "text/plain": [
       "<Figure size 432x288 with 2 Axes>"
      ]
     },
     "metadata": {
      "needs_background": "light"
     },
     "output_type": "display_data"
    }
   ],
   "source": [
    "plot_confusion_matrix(y_test, y_pred);"
   ]
  }
 ],
 "metadata": {
  "kernelspec": {
   "display_name": "Python 3",
   "language": "python",
   "name": "python3"
  },
  "language_info": {
   "codemirror_mode": {
    "name": "ipython",
    "version": 3
   },
   "file_extension": ".py",
   "mimetype": "text/x-python",
   "name": "python",
   "nbconvert_exporter": "python",
   "pygments_lexer": "ipython3",
   "version": "3.7.1"
  }
 },
 "nbformat": 4,
 "nbformat_minor": 2
}
