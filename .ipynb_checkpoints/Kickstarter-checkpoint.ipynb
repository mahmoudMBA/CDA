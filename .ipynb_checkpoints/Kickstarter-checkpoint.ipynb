{
 "cells": [
  {
   "cell_type": "markdown",
   "metadata": {},
   "source": [
    "# Kickstarter: Exploration & Prediction\n",
    "By:\n",
    "* Cen Liang\n",
    "* Mahmoud Belhaj\n",
    "* Jonas Cristens"
   ]
  },
  {
   "cell_type": "markdown",
   "metadata": {},
   "source": [
    "### Description:"
   ]
  },
  {
   "cell_type": "markdown",
   "metadata": {},
   "source": [
    "\n",
    "\n",
    "Kickstarter Is an American public-benefit corporation based in Brooklyn, New York, that maintains a global crowdfunding platform focused on creativity The company's stated mission is to \"help bring creative projects to life\". Kickstarter has reportedly received more than $1.9 billion in pledges from 9.4 million backers to fund 257,000 creative projects, such as films, music, stage shows, comics, journalism, video games, technology and food-related projects.\n",
    "\n",
    "People who back Kickstarter projects are offered tangible rewards or experiences in exchange for their pledges. This model traces its roots to subscription model of arts patronage, where artists would go directly to their audiences to fund their work.\n"
   ]
  },
  {
   "cell_type": "markdown",
   "metadata": {},
   "source": [
    "### Columns:"
   ]
  },
  {
   "cell_type": "markdown",
   "metadata": {},
   "source": [
    "ID\n",
    "internal kickstarter id\n",
    "\n",
    "name\n",
    "name of project - A project is a finite work with a clear goal that you’d like to bring to life. Think albums, books, or films.\n",
    "\n",
    "category\n",
    "category\n",
    "\n",
    "main_category\n",
    "category of campaign\n",
    "\n",
    "currency\n",
    "currency used to support\n",
    "\n",
    "deadline\n",
    "deadline for crowdfunding\n",
    "\n",
    "goal\n",
    "fundraising goal - The funding goal is the amount of money that a creator needs to complete their project.\n",
    "\n",
    "launched\n",
    "date launched\n",
    "\n",
    "pledged\n",
    "amount pledged by \"crowd\"\n",
    "\n",
    "state\n",
    "Current condition the project is in\n",
    "\n",
    "backers\n",
    "number of backers\n",
    "\n",
    "country\n",
    "country pledged from\n",
    "\n",
    "usd pledged\n",
    "amount of money pledged\n",
    "\n",
    "Goal\n",
    "amount in USD "
   ]
  },
  {
   "cell_type": "markdown",
   "metadata": {},
   "source": [
    "### Load the required packages"
   ]
  },
  {
   "cell_type": "code",
   "execution_count": 1,
   "metadata": {
    "ExecuteTime": {
     "end_time": "2019-04-24T15:56:16.931486Z",
     "start_time": "2019-04-24T15:56:15.060027Z"
    }
   },
   "outputs": [],
   "source": [
    "import pandas as pd\n",
    "import numpy as np\n",
    "import matplotlib.pyplot as plt\n",
    "import seaborn as sns\n",
    "from sklearn.model_selection import train_test_split\n",
    "from sklearn.linear_model import LogisticRegression\n",
    "from sklearn.preprocessing import normalize\n",
    "from sklearn.metrics import accuracy_score\n",
    "from sklearn.ensemble import ExtraTreesClassifier\n",
    "from sklearn.metrics import silhouette_score\n",
    "from sklearn.svm import SVC\n",
    "from sklearn.decomposition import PCA\n",
    "\n",
    "from scikitplot.metrics import plot_confusion_matrix\n",
    "from scikitplot.estimators import plot_feature_importances\n",
    "from scikitplot.estimators import plot_learning_curve\n",
    "from scikitplot.cluster import plot_elbow_curve\n",
    "from scikitplot.metrics import plot_silhouette\n",
    "from scikitplot.decomposition import plot_pca_component_variance\n",
    "from imblearn.over_sampling import SMOTE, RandomOverSampler\n",
    "\n",
    "from scipy import stats\n",
    "\n",
    "from sklearn.cluster import KMeans"
   ]
  },
  {
   "cell_type": "markdown",
   "metadata": {},
   "source": [
    "### Read the Kickstarter projects file 201801 csv and parse the dates and change the categorical columns to categories"
   ]
  },
  {
   "cell_type": "code",
   "execution_count": 2,
   "metadata": {
    "ExecuteTime": {
     "end_time": "2019-04-24T15:56:18.535135Z",
     "start_time": "2019-04-24T15:56:16.935365Z"
    }
   },
   "outputs": [
    {
     "data": {
      "text/html": [
       "<div>\n",
       "<style scoped>\n",
       "    .dataframe tbody tr th:only-of-type {\n",
       "        vertical-align: middle;\n",
       "    }\n",
       "\n",
       "    .dataframe tbody tr th {\n",
       "        vertical-align: top;\n",
       "    }\n",
       "\n",
       "    .dataframe thead th {\n",
       "        text-align: right;\n",
       "    }\n",
       "</style>\n",
       "<table border=\"1\" class=\"dataframe\">\n",
       "  <thead>\n",
       "    <tr style=\"text-align: right;\">\n",
       "      <th></th>\n",
       "      <th>name</th>\n",
       "      <th>category</th>\n",
       "      <th>main_category</th>\n",
       "      <th>currency</th>\n",
       "      <th>deadline</th>\n",
       "      <th>goal</th>\n",
       "      <th>launched</th>\n",
       "      <th>pledged</th>\n",
       "      <th>state</th>\n",
       "      <th>backers</th>\n",
       "      <th>country</th>\n",
       "      <th>usd pledged</th>\n",
       "      <th>usd_pledged_real</th>\n",
       "      <th>usd_goal_real</th>\n",
       "    </tr>\n",
       "    <tr>\n",
       "      <th>ID</th>\n",
       "      <th></th>\n",
       "      <th></th>\n",
       "      <th></th>\n",
       "      <th></th>\n",
       "      <th></th>\n",
       "      <th></th>\n",
       "      <th></th>\n",
       "      <th></th>\n",
       "      <th></th>\n",
       "      <th></th>\n",
       "      <th></th>\n",
       "      <th></th>\n",
       "      <th></th>\n",
       "      <th></th>\n",
       "    </tr>\n",
       "  </thead>\n",
       "  <tbody>\n",
       "    <tr>\n",
       "      <th>1000002330</th>\n",
       "      <td>The Songs of Adelaide &amp; Abullah</td>\n",
       "      <td>Poetry</td>\n",
       "      <td>Publishing</td>\n",
       "      <td>GBP</td>\n",
       "      <td>2015-10-09</td>\n",
       "      <td>1000.0</td>\n",
       "      <td>2015-08-11 12:12:28</td>\n",
       "      <td>0.0</td>\n",
       "      <td>failed</td>\n",
       "      <td>0</td>\n",
       "      <td>GB</td>\n",
       "      <td>0.0</td>\n",
       "      <td>0.0</td>\n",
       "      <td>1533.95</td>\n",
       "    </tr>\n",
       "    <tr>\n",
       "      <th>1000003930</th>\n",
       "      <td>Greeting From Earth: ZGAC Arts Capsule For ET</td>\n",
       "      <td>Narrative Film</td>\n",
       "      <td>Film &amp; Video</td>\n",
       "      <td>USD</td>\n",
       "      <td>2017-11-01</td>\n",
       "      <td>30000.0</td>\n",
       "      <td>2017-09-02 04:43:57</td>\n",
       "      <td>2421.0</td>\n",
       "      <td>failed</td>\n",
       "      <td>15</td>\n",
       "      <td>US</td>\n",
       "      <td>100.0</td>\n",
       "      <td>2421.0</td>\n",
       "      <td>30000.00</td>\n",
       "    </tr>\n",
       "    <tr>\n",
       "      <th>1000004038</th>\n",
       "      <td>Where is Hank?</td>\n",
       "      <td>Narrative Film</td>\n",
       "      <td>Film &amp; Video</td>\n",
       "      <td>USD</td>\n",
       "      <td>2013-02-26</td>\n",
       "      <td>45000.0</td>\n",
       "      <td>2013-01-12 00:20:50</td>\n",
       "      <td>220.0</td>\n",
       "      <td>failed</td>\n",
       "      <td>3</td>\n",
       "      <td>US</td>\n",
       "      <td>220.0</td>\n",
       "      <td>220.0</td>\n",
       "      <td>45000.00</td>\n",
       "    </tr>\n",
       "    <tr>\n",
       "      <th>1000007540</th>\n",
       "      <td>ToshiCapital Rekordz Needs Help to Complete Album</td>\n",
       "      <td>Music</td>\n",
       "      <td>Music</td>\n",
       "      <td>USD</td>\n",
       "      <td>2012-04-16</td>\n",
       "      <td>5000.0</td>\n",
       "      <td>2012-03-17 03:24:11</td>\n",
       "      <td>1.0</td>\n",
       "      <td>failed</td>\n",
       "      <td>1</td>\n",
       "      <td>US</td>\n",
       "      <td>1.0</td>\n",
       "      <td>1.0</td>\n",
       "      <td>5000.00</td>\n",
       "    </tr>\n",
       "    <tr>\n",
       "      <th>1000011046</th>\n",
       "      <td>Community Film Project: The Art of Neighborhoo...</td>\n",
       "      <td>Film &amp; Video</td>\n",
       "      <td>Film &amp; Video</td>\n",
       "      <td>USD</td>\n",
       "      <td>2015-08-29</td>\n",
       "      <td>19500.0</td>\n",
       "      <td>2015-07-04 08:35:03</td>\n",
       "      <td>1283.0</td>\n",
       "      <td>canceled</td>\n",
       "      <td>14</td>\n",
       "      <td>US</td>\n",
       "      <td>1283.0</td>\n",
       "      <td>1283.0</td>\n",
       "      <td>19500.00</td>\n",
       "    </tr>\n",
       "  </tbody>\n",
       "</table>\n",
       "</div>"
      ],
      "text/plain": [
       "                                                         name        category  \\\n",
       "ID                                                                              \n",
       "1000002330                    The Songs of Adelaide & Abullah          Poetry   \n",
       "1000003930      Greeting From Earth: ZGAC Arts Capsule For ET  Narrative Film   \n",
       "1000004038                                     Where is Hank?  Narrative Film   \n",
       "1000007540  ToshiCapital Rekordz Needs Help to Complete Album           Music   \n",
       "1000011046  Community Film Project: The Art of Neighborhoo...    Film & Video   \n",
       "\n",
       "           main_category currency   deadline     goal            launched  \\\n",
       "ID                                                                          \n",
       "1000002330    Publishing      GBP 2015-10-09   1000.0 2015-08-11 12:12:28   \n",
       "1000003930  Film & Video      USD 2017-11-01  30000.0 2017-09-02 04:43:57   \n",
       "1000004038  Film & Video      USD 2013-02-26  45000.0 2013-01-12 00:20:50   \n",
       "1000007540         Music      USD 2012-04-16   5000.0 2012-03-17 03:24:11   \n",
       "1000011046  Film & Video      USD 2015-08-29  19500.0 2015-07-04 08:35:03   \n",
       "\n",
       "            pledged     state  backers country  usd pledged  usd_pledged_real  \\\n",
       "ID                                                                              \n",
       "1000002330      0.0    failed        0      GB          0.0               0.0   \n",
       "1000003930   2421.0    failed       15      US        100.0            2421.0   \n",
       "1000004038    220.0    failed        3      US        220.0             220.0   \n",
       "1000007540      1.0    failed        1      US          1.0               1.0   \n",
       "1000011046   1283.0  canceled       14      US       1283.0            1283.0   \n",
       "\n",
       "            usd_goal_real  \n",
       "ID                         \n",
       "1000002330        1533.95  \n",
       "1000003930       30000.00  \n",
       "1000004038       45000.00  \n",
       "1000007540        5000.00  \n",
       "1000011046       19500.00  "
      ]
     },
     "execution_count": 2,
     "metadata": {},
     "output_type": "execute_result"
    }
   ],
   "source": [
    "df = pd.read_csv('ks-projects-201801.csv', parse_dates = ['launched', 'deadline'], index_col = 'ID')\n",
    "df = df.astype({\"category\": 'category',\n",
    "                \"main_category\": 'category', \n",
    "                \"currency\": 'category', \n",
    "                'state' : 'category', \n",
    "                'country' : 'category',\n",
    "               })\n",
    "df.head()"
   ]
  },
  {
   "cell_type": "markdown",
   "metadata": {},
   "source": [
    "### Check if there is data missing"
   ]
  },
  {
   "cell_type": "code",
   "execution_count": 3,
   "metadata": {
    "ExecuteTime": {
     "end_time": "2019-04-24T15:56:18.644640Z",
     "start_time": "2019-04-24T15:56:18.538353Z"
    }
   },
   "outputs": [
    {
     "name": "stdout",
     "output_type": "stream",
     "text": [
      "<class 'pandas.core.frame.DataFrame'>\n",
      "Int64Index: 378661 entries, 1000002330 to 999988282\n",
      "Data columns (total 14 columns):\n",
      "name                378657 non-null object\n",
      "category            378661 non-null category\n",
      "main_category       378661 non-null category\n",
      "currency            378661 non-null category\n",
      "deadline            378661 non-null datetime64[ns]\n",
      "goal                378661 non-null float64\n",
      "launched            378661 non-null datetime64[ns]\n",
      "pledged             378661 non-null float64\n",
      "state               378661 non-null category\n",
      "backers             378661 non-null int64\n",
      "country             378661 non-null category\n",
      "usd pledged         374864 non-null float64\n",
      "usd_pledged_real    378661 non-null float64\n",
      "usd_goal_real       378661 non-null float64\n",
      "dtypes: category(5), datetime64[ns](2), float64(5), int64(1), object(1)\n",
      "memory usage: 31.1+ MB\n"
     ]
    }
   ],
   "source": [
    "df.info()"
   ]
  },
  {
   "cell_type": "markdown",
   "metadata": {},
   "source": [
    "There are 3797 missing values for the column `usd_plegded` and 4 missing for the column `name`, there in total 378661 rows and 16 columns. \n",
    "\n",
    "`usd_plegded` is a conversion made by KS which sometime is the `usd_pledged_real` or sometimes a calculation which we don't understand."
   ]
  },
  {
   "cell_type": "code",
   "execution_count": 4,
   "metadata": {
    "ExecuteTime": {
     "end_time": "2019-04-24T15:56:18.798703Z",
     "start_time": "2019-04-24T15:56:18.646831Z"
    }
   },
   "outputs": [
    {
     "data": {
      "text/html": [
       "<div>\n",
       "<style scoped>\n",
       "    .dataframe tbody tr th:only-of-type {\n",
       "        vertical-align: middle;\n",
       "    }\n",
       "\n",
       "    .dataframe tbody tr th {\n",
       "        vertical-align: top;\n",
       "    }\n",
       "\n",
       "    .dataframe thead th {\n",
       "        text-align: right;\n",
       "    }\n",
       "</style>\n",
       "<table border=\"1\" class=\"dataframe\">\n",
       "  <thead>\n",
       "    <tr style=\"text-align: right;\">\n",
       "      <th></th>\n",
       "      <th>goal</th>\n",
       "      <th>pledged</th>\n",
       "      <th>backers</th>\n",
       "      <th>usd pledged</th>\n",
       "      <th>usd_pledged_real</th>\n",
       "      <th>usd_goal_real</th>\n",
       "    </tr>\n",
       "  </thead>\n",
       "  <tbody>\n",
       "    <tr>\n",
       "      <th>count</th>\n",
       "      <td>3.786610e+05</td>\n",
       "      <td>3.786610e+05</td>\n",
       "      <td>378661.000000</td>\n",
       "      <td>3.748640e+05</td>\n",
       "      <td>3.786610e+05</td>\n",
       "      <td>3.786610e+05</td>\n",
       "    </tr>\n",
       "    <tr>\n",
       "      <th>mean</th>\n",
       "      <td>4.908079e+04</td>\n",
       "      <td>9.682979e+03</td>\n",
       "      <td>105.617476</td>\n",
       "      <td>7.036729e+03</td>\n",
       "      <td>9.058924e+03</td>\n",
       "      <td>4.545440e+04</td>\n",
       "    </tr>\n",
       "    <tr>\n",
       "      <th>std</th>\n",
       "      <td>1.183391e+06</td>\n",
       "      <td>9.563601e+04</td>\n",
       "      <td>907.185035</td>\n",
       "      <td>7.863975e+04</td>\n",
       "      <td>9.097334e+04</td>\n",
       "      <td>1.152950e+06</td>\n",
       "    </tr>\n",
       "    <tr>\n",
       "      <th>min</th>\n",
       "      <td>1.000000e-02</td>\n",
       "      <td>0.000000e+00</td>\n",
       "      <td>0.000000</td>\n",
       "      <td>0.000000e+00</td>\n",
       "      <td>0.000000e+00</td>\n",
       "      <td>1.000000e-02</td>\n",
       "    </tr>\n",
       "    <tr>\n",
       "      <th>25%</th>\n",
       "      <td>2.000000e+03</td>\n",
       "      <td>3.000000e+01</td>\n",
       "      <td>2.000000</td>\n",
       "      <td>1.698000e+01</td>\n",
       "      <td>3.100000e+01</td>\n",
       "      <td>2.000000e+03</td>\n",
       "    </tr>\n",
       "    <tr>\n",
       "      <th>50%</th>\n",
       "      <td>5.200000e+03</td>\n",
       "      <td>6.200000e+02</td>\n",
       "      <td>12.000000</td>\n",
       "      <td>3.947200e+02</td>\n",
       "      <td>6.243300e+02</td>\n",
       "      <td>5.500000e+03</td>\n",
       "    </tr>\n",
       "    <tr>\n",
       "      <th>75%</th>\n",
       "      <td>1.600000e+04</td>\n",
       "      <td>4.076000e+03</td>\n",
       "      <td>56.000000</td>\n",
       "      <td>3.034090e+03</td>\n",
       "      <td>4.050000e+03</td>\n",
       "      <td>1.550000e+04</td>\n",
       "    </tr>\n",
       "    <tr>\n",
       "      <th>max</th>\n",
       "      <td>1.000000e+08</td>\n",
       "      <td>2.033899e+07</td>\n",
       "      <td>219382.000000</td>\n",
       "      <td>2.033899e+07</td>\n",
       "      <td>2.033899e+07</td>\n",
       "      <td>1.663614e+08</td>\n",
       "    </tr>\n",
       "  </tbody>\n",
       "</table>\n",
       "</div>"
      ],
      "text/plain": [
       "               goal       pledged        backers   usd pledged  \\\n",
       "count  3.786610e+05  3.786610e+05  378661.000000  3.748640e+05   \n",
       "mean   4.908079e+04  9.682979e+03     105.617476  7.036729e+03   \n",
       "std    1.183391e+06  9.563601e+04     907.185035  7.863975e+04   \n",
       "min    1.000000e-02  0.000000e+00       0.000000  0.000000e+00   \n",
       "25%    2.000000e+03  3.000000e+01       2.000000  1.698000e+01   \n",
       "50%    5.200000e+03  6.200000e+02      12.000000  3.947200e+02   \n",
       "75%    1.600000e+04  4.076000e+03      56.000000  3.034090e+03   \n",
       "max    1.000000e+08  2.033899e+07  219382.000000  2.033899e+07   \n",
       "\n",
       "       usd_pledged_real  usd_goal_real  \n",
       "count      3.786610e+05   3.786610e+05  \n",
       "mean       9.058924e+03   4.545440e+04  \n",
       "std        9.097334e+04   1.152950e+06  \n",
       "min        0.000000e+00   1.000000e-02  \n",
       "25%        3.100000e+01   2.000000e+03  \n",
       "50%        6.243300e+02   5.500000e+03  \n",
       "75%        4.050000e+03   1.550000e+04  \n",
       "max        2.033899e+07   1.663614e+08  "
      ]
     },
     "execution_count": 4,
     "metadata": {},
     "output_type": "execute_result"
    }
   ],
   "source": [
    "df.describe()"
   ]
  },
  {
   "cell_type": "markdown",
   "metadata": {},
   "source": [
    "### Check the data types"
   ]
  },
  {
   "cell_type": "code",
   "execution_count": 5,
   "metadata": {
    "ExecuteTime": {
     "end_time": "2019-04-24T15:56:18.805019Z",
     "start_time": "2019-04-24T15:56:18.800594Z"
    }
   },
   "outputs": [
    {
     "data": {
      "text/plain": [
       "name                        object\n",
       "category                  category\n",
       "main_category             category\n",
       "currency                  category\n",
       "deadline            datetime64[ns]\n",
       "goal                       float64\n",
       "launched            datetime64[ns]\n",
       "pledged                    float64\n",
       "state                     category\n",
       "backers                      int64\n",
       "country                   category\n",
       "usd pledged                float64\n",
       "usd_pledged_real           float64\n",
       "usd_goal_real              float64\n",
       "dtype: object"
      ]
     },
     "execution_count": 5,
     "metadata": {},
     "output_type": "execute_result"
    }
   ],
   "source": [
    "df.dtypes"
   ]
  },
  {
   "cell_type": "markdown",
   "metadata": {},
   "source": [
    "The dtypes are correct now we can calculate the difference in days between `launced` and `deadline`."
   ]
  },
  {
   "cell_type": "markdown",
   "metadata": {},
   "source": [
    "### Number of words and characters in name"
   ]
  },
  {
   "cell_type": "code",
   "execution_count": 6,
   "metadata": {
    "ExecuteTime": {
     "end_time": "2019-04-24T15:56:18.909789Z",
     "start_time": "2019-04-24T15:56:18.807031Z"
    }
   },
   "outputs": [],
   "source": [
    "df['number_of_chars'] = df['name'].str.len()"
   ]
  },
  {
   "cell_type": "code",
   "execution_count": 7,
   "metadata": {
    "ExecuteTime": {
     "end_time": "2019-04-24T15:56:19.247133Z",
     "start_time": "2019-04-24T15:56:18.911635Z"
    }
   },
   "outputs": [],
   "source": [
    "df['number_of_words'] = df['name'].apply(lambda x: len(str(x).split()))"
   ]
  },
  {
   "cell_type": "markdown",
   "metadata": {},
   "source": [
    "### Launched week"
   ]
  },
  {
   "cell_type": "code",
   "execution_count": 8,
   "metadata": {
    "ExecuteTime": {
     "end_time": "2019-04-24T15:56:19.281096Z",
     "start_time": "2019-04-24T15:56:19.248696Z"
    }
   },
   "outputs": [],
   "source": [
    "df['week_launced'] = df['launched'].dt.week"
   ]
  },
  {
   "cell_type": "markdown",
   "metadata": {},
   "source": [
    "### Days to collect"
   ]
  },
  {
   "cell_type": "code",
   "execution_count": 9,
   "metadata": {
    "ExecuteTime": {
     "end_time": "2019-04-24T15:56:19.297746Z",
     "start_time": "2019-04-24T15:56:19.282807Z"
    }
   },
   "outputs": [
    {
     "data": {
      "text/plain": [
       "ID\n",
       "1000002330    58\n",
       "1000003930    59\n",
       "1000004038    44\n",
       "1000007540    29\n",
       "1000011046    55\n",
       "Name: days_to_collect, dtype: int64"
      ]
     },
     "execution_count": 9,
     "metadata": {},
     "output_type": "execute_result"
    }
   ],
   "source": [
    "df['days_to_collect'] = (df['deadline'] - df['launched']).dt.days\n",
    "df['days_to_collect'].head(5)"
   ]
  },
  {
   "cell_type": "markdown",
   "metadata": {},
   "source": [
    "### Average amount per day needed to reach the goal"
   ]
  },
  {
   "cell_type": "code",
   "execution_count": 10,
   "metadata": {
    "ExecuteTime": {
     "end_time": "2019-04-24T15:56:19.316654Z",
     "start_time": "2019-04-24T15:56:19.299272Z"
    }
   },
   "outputs": [],
   "source": [
    "# replace the inf values with 0 (0/something) = np.inf) \n",
    "df['usd_needed_per_day'] = (df['usd_goal_real'] / df['days_to_collect']).replace([np.inf, -np.inf], 0)"
   ]
  },
  {
   "cell_type": "markdown",
   "metadata": {},
   "source": [
    "### What are the different Kickstarter states?"
   ]
  },
  {
   "cell_type": "code",
   "execution_count": 11,
   "metadata": {
    "ExecuteTime": {
     "end_time": "2019-04-24T15:56:19.333143Z",
     "start_time": "2019-04-24T15:56:19.326266Z"
    }
   },
   "outputs": [
    {
     "data": {
      "text/plain": [
       "[failed, canceled, successful, live, undefined, suspended]\n",
       "Categories (6, object): [failed, canceled, successful, live, undefined, suspended]"
      ]
     },
     "execution_count": 11,
     "metadata": {},
     "output_type": "execute_result"
    }
   ],
   "source": [
    "df['state'].unique()"
   ]
  },
  {
   "cell_type": "markdown",
   "metadata": {},
   "source": [
    "We define \n",
    "* `failed`, `canceled`, `undefined` and `suspended` as failed.\n",
    "* `successful` as success.\n",
    "* `live` not relevant ==> will be deleted since our goal is to predict if it will fail or succeed"
   ]
  },
  {
   "cell_type": "code",
   "execution_count": 12,
   "metadata": {
    "ExecuteTime": {
     "end_time": "2019-04-24T15:56:19.558237Z",
     "start_time": "2019-04-24T15:56:19.542408Z"
    }
   },
   "outputs": [],
   "source": [
    "conditions = [df['state'].isin(['failed', 'canceled', 'undefined', 'suspended']),\n",
    "             df['state'].isin(['successful'])]\n",
    "df['cln_state'] = np.select(conditions, [-1, 1])"
   ]
  },
  {
   "cell_type": "markdown",
   "metadata": {},
   "source": [
    "### Calculate the average contribution per backer"
   ]
  },
  {
   "cell_type": "code",
   "execution_count": 13,
   "metadata": {
    "ExecuteTime": {
     "end_time": "2019-04-24T15:56:20.057061Z",
     "start_time": "2019-04-24T15:56:20.045560Z"
    }
   },
   "outputs": [],
   "source": [
    "# replace the inf values with 0 (0/something) = np.inf) \n",
    "df['usd_per_backer'] = (df['usd_goal_real'] / df['backers']).replace([np.inf, -np.inf], 0)"
   ]
  },
  {
   "cell_type": "markdown",
   "metadata": {},
   "source": [
    "### Average `usd_needed_per_day` per state"
   ]
  },
  {
   "cell_type": "code",
   "execution_count": 14,
   "metadata": {
    "ExecuteTime": {
     "end_time": "2019-04-24T15:56:20.513354Z",
     "start_time": "2019-04-24T15:56:20.481185Z"
    }
   },
   "outputs": [],
   "source": [
    "usd_pd = df.groupby('state')['usd_needed_per_day'].mean()"
   ]
  },
  {
   "cell_type": "code",
   "execution_count": 15,
   "metadata": {
    "ExecuteTime": {
     "end_time": "2019-04-24T15:56:20.817866Z",
     "start_time": "2019-04-24T15:56:20.692670Z"
    }
   },
   "outputs": [
    {
     "data": {
      "text/plain": [
       "Text(0.5, 0, 'USD needed per day to succeed')"
      ]
     },
     "execution_count": 15,
     "metadata": {},
     "output_type": "execute_result"
    },
    {
     "data": {
      "image/png": "[encoded data removed]",
      "text/plain": [
       "<Figure size 432x288 with 1 Axes>"
      ]
     },
     "metadata": {
      "needs_background": "light"
     },
     "output_type": "display_data"
    }
   ],
   "source": [
    "ax = usd_pd.sort_values().plot.barh(color='green', title='Average usd needed per day to succeed')\n",
    "ax.set_xlabel('USD needed per day to succeed')"
   ]
  },
  {
   "cell_type": "code",
   "execution_count": 16,
   "metadata": {
    "ExecuteTime": {
     "end_time": "2019-04-24T15:56:20.903242Z",
     "start_time": "2019-04-24T15:56:20.886306Z"
    }
   },
   "outputs": [
    {
     "data": {
      "text/plain": [
       "Ttest_indResult(statistic=-15.249079028640972, pvalue=1.8067227497003203e-52)"
      ]
     },
     "execution_count": 16,
     "metadata": {},
     "output_type": "execute_result"
    }
   ],
   "source": [
    "stats.ttest_ind(df.loc[df['state']=='successful' ,'usd_needed_per_day'].values,\n",
    "                df.loc[df['state']=='canceled' ,'usd_needed_per_day'].values)"
   ]
  },
  {
   "cell_type": "markdown",
   "metadata": {},
   "source": [
    "The difference between `canceled` and `successful` is significantly different for the column `usd_needed_per_day`. So the `usd_needed_per_day` really makes a different."
   ]
  },
  {
   "cell_type": "markdown",
   "metadata": {},
   "source": [
    "### Does the length of the project make a difference (0 - 30 days and 31 - 60 days)"
   ]
  },
  {
   "cell_type": "code",
   "execution_count": 17,
   "metadata": {
    "ExecuteTime": {
     "end_time": "2019-04-24T15:56:21.408571Z",
     "start_time": "2019-04-24T15:56:21.380427Z"
    }
   },
   "outputs": [],
   "source": [
    "# add 2 bins ranging from 0 - 30 (short) and 31 - 60 (long)\n",
    "df['days_bins'] = pd.cut(df['days_to_collect'], \n",
    "                         bins = [0,30,60], \n",
    "                         labels=['short', 'long'])\n",
    "\n",
    "# add 4 bins ranging from 0 - 100 (small), 101 - 500 (medium), 501 - 1000 (big), 1001 - 10000 (huge)\n",
    "df['usd_bins_per_day'] = pd.cut(df['usd_needed_per_day'], \n",
    "                                bins = [0,100, 500, 1000, 10_000], \n",
    "                                labels = ['small', 'medium', 'big', 'huge'])"
   ]
  },
  {
   "cell_type": "code",
   "execution_count": 18,
   "metadata": {
    "ExecuteTime": {
     "end_time": "2019-04-24T15:56:21.534637Z",
     "start_time": "2019-04-24T15:56:21.516343Z"
    }
   },
   "outputs": [],
   "source": [
    "# caculate the number of occurences by 'state', 'days_bins', 'usd_bins_per_day'\n",
    "length_diff = df.groupby(['state', 'days_bins', 'usd_bins_per_day'])['goal'].count()"
   ]
  },
  {
   "cell_type": "code",
   "execution_count": 19,
   "metadata": {
    "ExecuteTime": {
     "end_time": "2019-04-24T15:56:21.761051Z",
     "start_time": "2019-04-24T15:56:21.742116Z"
    }
   },
   "outputs": [],
   "source": [
    "# caculate the sum of occurences grouped by usd_bins_per_day for the period short\n",
    "sum_count_short = length_diff[['failed', 'successful']]\\\n",
    "    .xs('short', level=1)\\\n",
    "    .reset_index()\\\n",
    "    .groupby('usd_bins_per_day')\\\n",
    "    .sum()\n",
    "\n",
    "# caculate the sum of occurences grouped by usd_bins_per_day for the period long\n",
    "sum_count_long = length_diff[['failed', 'successful']]\\\n",
    "    .xs('long', level=1).reset_index()\\\n",
    "    .groupby('usd_bins_per_day')\\\n",
    "    .sum()"
   ]
  },
  {
   "cell_type": "code",
   "execution_count": 20,
   "metadata": {
    "ExecuteTime": {
     "end_time": "2019-04-24T15:56:21.948607Z",
     "start_time": "2019-04-24T15:56:21.928447Z"
    }
   },
   "outputs": [],
   "source": [
    "# caculate the sum of successful occurences grouped by usd_bins_per_day for the period short\n",
    "sum_count_short_succ = length_diff[['successful']]\\\n",
    "    .xs('short', level=1)\\\n",
    "    .reset_index()\\\n",
    "    .groupby('usd_bins_per_day')\\\n",
    "    .sum()\n",
    "\n",
    "# caculate the sum of successful occurences grouped by usd_bins_per_day for the period long\n",
    "sum_count_long_succ = length_diff[['successful']]\\\n",
    "    .xs('long', level=1)\\\n",
    "    .reset_index()\\\n",
    "    .groupby('usd_bins_per_day')\\\n",
    "    .sum()"
   ]
  },
  {
   "cell_type": "code",
   "execution_count": 21,
   "metadata": {
    "ExecuteTime": {
     "end_time": "2019-04-24T15:56:22.095104Z",
     "start_time": "2019-04-24T15:56:22.090465Z"
    }
   },
   "outputs": [],
   "source": [
    "# calculate the probability of being successful short term\n",
    "succ_short_prob = sum_count_short_succ / sum_count_short\n",
    "# calculate the probability of being successful long term\n",
    "succ_long_prob = sum_count_long_succ / sum_count_long"
   ]
  },
  {
   "cell_type": "code",
   "execution_count": 22,
   "metadata": {
    "ExecuteTime": {
     "end_time": "2019-04-24T15:56:22.279031Z",
     "start_time": "2019-04-24T15:56:22.274479Z"
    }
   },
   "outputs": [],
   "source": [
    "# rename the columns to short and long\n",
    "succ_short_prob = succ_short_prob.rename(columns = {'goal':'short'})\n",
    "succ_long_prob = succ_long_prob.rename(columns = {'goal':'long'})"
   ]
  },
  {
   "cell_type": "code",
   "execution_count": 23,
   "metadata": {
    "ExecuteTime": {
     "end_time": "2019-04-24T15:56:22.596619Z",
     "start_time": "2019-04-24T15:56:22.449577Z"
    }
   },
   "outputs": [
    {
     "data": {
      "image/png": "[encoded data removed]",
      "text/plain": [
       "<Figure size 432x288 with 1 Axes>"
      ]
     },
     "metadata": {
      "needs_background": "light"
     },
     "output_type": "display_data"
    }
   ],
   "source": [
    "# plot the probability of being successful for short and long term per usd_bins_per_day\n",
    "ax = pd.concat([succ_long_prob, succ_short_prob], axis=1)\\\n",
    "    .sort_values(by='short')\\\n",
    "    .plot\\\n",
    "    .barh(title = 'Probabilty of success by lenght')\n",
    "\n",
    "ax.set_xlabel('probability of success');"
   ]
  },
  {
   "cell_type": "markdown",
   "metadata": {},
   "source": [
    "### Check the probability of success per `main_category`"
   ]
  },
  {
   "cell_type": "code",
   "execution_count": 24,
   "metadata": {
    "ExecuteTime": {
     "end_time": "2019-04-24T15:56:22.812415Z",
     "start_time": "2019-04-24T15:56:22.795782Z"
    }
   },
   "outputs": [],
   "source": [
    "# caculate the probability of being successful per main_category\n",
    "proba_state_main = df.groupby(['main_category', 'state'])['launched'].count()\\\n",
    "    / \\\n",
    "    df.groupby('main_category')['launched'].count()"
   ]
  },
  {
   "cell_type": "code",
   "execution_count": 25,
   "metadata": {
    "ExecuteTime": {
     "end_time": "2019-04-24T15:56:23.144838Z",
     "start_time": "2019-04-24T15:56:22.973877Z"
    }
   },
   "outputs": [
    {
     "data": {
      "image/png": "[encoded data removed]",
      "text/plain": [
       "<Figure size 432x288 with 1 Axes>"
      ]
     },
     "metadata": {
      "needs_background": "light"
     },
     "output_type": "display_data"
    }
   ],
   "source": [
    "proba_state_main.xs('successful', level=1)\\\n",
    "    .sort_values(ascending=True)\\\n",
    "    .plot\\\n",
    "    .barh(color='green', title='Probability of succes per main_category');"
   ]
  },
  {
   "cell_type": "markdown",
   "metadata": {},
   "source": [
    "### Top 5 most successful projects (the onces with most USD money pledged)"
   ]
  },
  {
   "cell_type": "code",
   "execution_count": 26,
   "metadata": {
    "ExecuteTime": {
     "end_time": "2019-04-24T15:56:23.438702Z",
     "start_time": "2019-04-24T15:56:23.349604Z"
    }
   },
   "outputs": [
    {
     "data": {
      "text/html": [
       "<div>\n",
       "<style scoped>\n",
       "    .dataframe tbody tr th:only-of-type {\n",
       "        vertical-align: middle;\n",
       "    }\n",
       "\n",
       "    .dataframe tbody tr th {\n",
       "        vertical-align: top;\n",
       "    }\n",
       "\n",
       "    .dataframe thead th {\n",
       "        text-align: right;\n",
       "    }\n",
       "</style>\n",
       "<table border=\"1\" class=\"dataframe\">\n",
       "  <thead>\n",
       "    <tr style=\"text-align: right;\">\n",
       "      <th></th>\n",
       "      <th>name</th>\n",
       "      <th>category</th>\n",
       "      <th>main_category</th>\n",
       "      <th>currency</th>\n",
       "      <th>deadline</th>\n",
       "      <th>goal</th>\n",
       "      <th>launched</th>\n",
       "      <th>pledged</th>\n",
       "      <th>state</th>\n",
       "      <th>backers</th>\n",
       "      <th>...</th>\n",
       "      <th>usd_goal_real</th>\n",
       "      <th>number_of_chars</th>\n",
       "      <th>number_of_words</th>\n",
       "      <th>week_launced</th>\n",
       "      <th>days_to_collect</th>\n",
       "      <th>usd_needed_per_day</th>\n",
       "      <th>cln_state</th>\n",
       "      <th>usd_per_backer</th>\n",
       "      <th>days_bins</th>\n",
       "      <th>usd_bins_per_day</th>\n",
       "    </tr>\n",
       "    <tr>\n",
       "      <th>ID</th>\n",
       "      <th></th>\n",
       "      <th></th>\n",
       "      <th></th>\n",
       "      <th></th>\n",
       "      <th></th>\n",
       "      <th></th>\n",
       "      <th></th>\n",
       "      <th></th>\n",
       "      <th></th>\n",
       "      <th></th>\n",
       "      <th></th>\n",
       "      <th></th>\n",
       "      <th></th>\n",
       "      <th></th>\n",
       "      <th></th>\n",
       "      <th></th>\n",
       "      <th></th>\n",
       "      <th></th>\n",
       "      <th></th>\n",
       "      <th></th>\n",
       "      <th></th>\n",
       "    </tr>\n",
       "  </thead>\n",
       "  <tbody>\n",
       "    <tr>\n",
       "      <th>1799979574</th>\n",
       "      <td>Pebble Time - Awesome Smartwatch, No Compromises</td>\n",
       "      <td>Product Design</td>\n",
       "      <td>Design</td>\n",
       "      <td>USD</td>\n",
       "      <td>2015-03-28</td>\n",
       "      <td>500000.0</td>\n",
       "      <td>2015-02-24 15:44:42</td>\n",
       "      <td>20338986.27</td>\n",
       "      <td>successful</td>\n",
       "      <td>78471</td>\n",
       "      <td>...</td>\n",
       "      <td>500000.0</td>\n",
       "      <td>48.0</td>\n",
       "      <td>7</td>\n",
       "      <td>9</td>\n",
       "      <td>31</td>\n",
       "      <td>16129.032258</td>\n",
       "      <td>1</td>\n",
       "      <td>6.371781</td>\n",
       "      <td>long</td>\n",
       "      <td>NaN</td>\n",
       "    </tr>\n",
       "    <tr>\n",
       "      <th>342886736</th>\n",
       "      <td>COOLEST COOLER: 21st Century Cooler that's Act...</td>\n",
       "      <td>Product Design</td>\n",
       "      <td>Design</td>\n",
       "      <td>USD</td>\n",
       "      <td>2014-08-30</td>\n",
       "      <td>50000.0</td>\n",
       "      <td>2014-07-08 10:14:37</td>\n",
       "      <td>13285226.36</td>\n",
       "      <td>successful</td>\n",
       "      <td>62642</td>\n",
       "      <td>...</td>\n",
       "      <td>50000.0</td>\n",
       "      <td>58.0</td>\n",
       "      <td>8</td>\n",
       "      <td>28</td>\n",
       "      <td>52</td>\n",
       "      <td>961.538462</td>\n",
       "      <td>1</td>\n",
       "      <td>0.798187</td>\n",
       "      <td>long</td>\n",
       "      <td>big</td>\n",
       "    </tr>\n",
       "    <tr>\n",
       "      <th>2103598555</th>\n",
       "      <td>Pebble 2, Time 2 + All-New Pebble Core</td>\n",
       "      <td>Product Design</td>\n",
       "      <td>Design</td>\n",
       "      <td>USD</td>\n",
       "      <td>2016-06-30</td>\n",
       "      <td>1000000.0</td>\n",
       "      <td>2016-05-24 15:49:52</td>\n",
       "      <td>12779843.49</td>\n",
       "      <td>successful</td>\n",
       "      <td>66673</td>\n",
       "      <td>...</td>\n",
       "      <td>1000000.0</td>\n",
       "      <td>38.0</td>\n",
       "      <td>8</td>\n",
       "      <td>21</td>\n",
       "      <td>36</td>\n",
       "      <td>27777.777778</td>\n",
       "      <td>1</td>\n",
       "      <td>14.998575</td>\n",
       "      <td>long</td>\n",
       "      <td>NaN</td>\n",
       "    </tr>\n",
       "    <tr>\n",
       "      <th>545070200</th>\n",
       "      <td>Kingdom Death: Monster 1.5</td>\n",
       "      <td>Tabletop Games</td>\n",
       "      <td>Games</td>\n",
       "      <td>USD</td>\n",
       "      <td>2017-01-08</td>\n",
       "      <td>100000.0</td>\n",
       "      <td>2016-11-25 06:01:41</td>\n",
       "      <td>12393139.69</td>\n",
       "      <td>successful</td>\n",
       "      <td>19264</td>\n",
       "      <td>...</td>\n",
       "      <td>100000.0</td>\n",
       "      <td>26.0</td>\n",
       "      <td>4</td>\n",
       "      <td>47</td>\n",
       "      <td>43</td>\n",
       "      <td>2325.581395</td>\n",
       "      <td>1</td>\n",
       "      <td>5.191030</td>\n",
       "      <td>long</td>\n",
       "      <td>huge</td>\n",
       "    </tr>\n",
       "    <tr>\n",
       "      <th>506924864</th>\n",
       "      <td>Pebble: E-Paper Watch for iPhone and Android</td>\n",
       "      <td>Product Design</td>\n",
       "      <td>Design</td>\n",
       "      <td>USD</td>\n",
       "      <td>2012-05-19</td>\n",
       "      <td>100000.0</td>\n",
       "      <td>2012-04-11 06:59:04</td>\n",
       "      <td>10266845.74</td>\n",
       "      <td>successful</td>\n",
       "      <td>68929</td>\n",
       "      <td>...</td>\n",
       "      <td>100000.0</td>\n",
       "      <td>44.0</td>\n",
       "      <td>7</td>\n",
       "      <td>15</td>\n",
       "      <td>37</td>\n",
       "      <td>2702.702703</td>\n",
       "      <td>1</td>\n",
       "      <td>1.450768</td>\n",
       "      <td>long</td>\n",
       "      <td>huge</td>\n",
       "    </tr>\n",
       "  </tbody>\n",
       "</table>\n",
       "<p>5 rows × 23 columns</p>\n",
       "</div>"
      ],
      "text/plain": [
       "                                                         name        category  \\\n",
       "ID                                                                              \n",
       "1799979574   Pebble Time - Awesome Smartwatch, No Compromises  Product Design   \n",
       "342886736   COOLEST COOLER: 21st Century Cooler that's Act...  Product Design   \n",
       "2103598555             Pebble 2, Time 2 + All-New Pebble Core  Product Design   \n",
       "545070200                          Kingdom Death: Monster 1.5  Tabletop Games   \n",
       "506924864        Pebble: E-Paper Watch for iPhone and Android  Product Design   \n",
       "\n",
       "           main_category currency   deadline       goal            launched  \\\n",
       "ID                                                                            \n",
       "1799979574        Design      USD 2015-03-28   500000.0 2015-02-24 15:44:42   \n",
       "342886736         Design      USD 2014-08-30    50000.0 2014-07-08 10:14:37   \n",
       "2103598555        Design      USD 2016-06-30  1000000.0 2016-05-24 15:49:52   \n",
       "545070200          Games      USD 2017-01-08   100000.0 2016-11-25 06:01:41   \n",
       "506924864         Design      USD 2012-05-19   100000.0 2012-04-11 06:59:04   \n",
       "\n",
       "                pledged       state  backers  ... usd_goal_real  \\\n",
       "ID                                            ...                 \n",
       "1799979574  20338986.27  successful    78471  ...      500000.0   \n",
       "342886736   13285226.36  successful    62642  ...       50000.0   \n",
       "2103598555  12779843.49  successful    66673  ...     1000000.0   \n",
       "545070200   12393139.69  successful    19264  ...      100000.0   \n",
       "506924864   10266845.74  successful    68929  ...      100000.0   \n",
       "\n",
       "            number_of_chars  number_of_words  week_launced  days_to_collect  \\\n",
       "ID                                                                            \n",
       "1799979574             48.0                7             9               31   \n",
       "342886736              58.0                8            28               52   \n",
       "2103598555             38.0                8            21               36   \n",
       "545070200              26.0                4            47               43   \n",
       "506924864              44.0                7            15               37   \n",
       "\n",
       "            usd_needed_per_day  cln_state  usd_per_backer  days_bins  \\\n",
       "ID                                                                     \n",
       "1799979574        16129.032258          1        6.371781       long   \n",
       "342886736           961.538462          1        0.798187       long   \n",
       "2103598555        27777.777778          1       14.998575       long   \n",
       "545070200          2325.581395          1        5.191030       long   \n",
       "506924864          2702.702703          1        1.450768       long   \n",
       "\n",
       "            usd_bins_per_day  \n",
       "ID                            \n",
       "1799979574               NaN  \n",
       "342886736                big  \n",
       "2103598555               NaN  \n",
       "545070200               huge  \n",
       "506924864               huge  \n",
       "\n",
       "[5 rows x 23 columns]"
      ]
     },
     "execution_count": 26,
     "metadata": {},
     "output_type": "execute_result"
    }
   ],
   "source": [
    "df.loc[df['state'] == 'successful'].sort_values(by='usd_pledged_real', ascending=False).iloc[:5]"
   ]
  },
  {
   "cell_type": "markdown",
   "metadata": {},
   "source": [
    "### Top 5 most successful where `goal > 100` projects (the onces with the highest ratio `usd_pledged_real` / `goal`)"
   ]
  },
  {
   "cell_type": "code",
   "execution_count": 27,
   "metadata": {
    "ExecuteTime": {
     "end_time": "2019-04-24T15:56:23.683456Z",
     "start_time": "2019-04-24T15:56:23.677228Z"
    }
   },
   "outputs": [],
   "source": [
    "df['goal_ratio'] = df['usd_pledged_real'] / df['goal']"
   ]
  },
  {
   "cell_type": "code",
   "execution_count": 28,
   "metadata": {
    "ExecuteTime": {
     "end_time": "2019-04-24T15:56:23.963717Z",
     "start_time": "2019-04-24T15:56:23.846794Z"
    }
   },
   "outputs": [
    {
     "data": {
      "text/html": [
       "<div>\n",
       "<style scoped>\n",
       "    .dataframe tbody tr th:only-of-type {\n",
       "        vertical-align: middle;\n",
       "    }\n",
       "\n",
       "    .dataframe tbody tr th {\n",
       "        vertical-align: top;\n",
       "    }\n",
       "\n",
       "    .dataframe thead th {\n",
       "        text-align: right;\n",
       "    }\n",
       "</style>\n",
       "<table border=\"1\" class=\"dataframe\">\n",
       "  <thead>\n",
       "    <tr style=\"text-align: right;\">\n",
       "      <th></th>\n",
       "      <th>name</th>\n",
       "      <th>category</th>\n",
       "      <th>main_category</th>\n",
       "      <th>currency</th>\n",
       "      <th>deadline</th>\n",
       "      <th>goal</th>\n",
       "      <th>launched</th>\n",
       "      <th>pledged</th>\n",
       "      <th>state</th>\n",
       "      <th>backers</th>\n",
       "      <th>...</th>\n",
       "      <th>number_of_chars</th>\n",
       "      <th>number_of_words</th>\n",
       "      <th>week_launced</th>\n",
       "      <th>days_to_collect</th>\n",
       "      <th>usd_needed_per_day</th>\n",
       "      <th>cln_state</th>\n",
       "      <th>usd_per_backer</th>\n",
       "      <th>days_bins</th>\n",
       "      <th>usd_bins_per_day</th>\n",
       "      <th>goal_ratio</th>\n",
       "    </tr>\n",
       "    <tr>\n",
       "      <th>ID</th>\n",
       "      <th></th>\n",
       "      <th></th>\n",
       "      <th></th>\n",
       "      <th></th>\n",
       "      <th></th>\n",
       "      <th></th>\n",
       "      <th></th>\n",
       "      <th></th>\n",
       "      <th></th>\n",
       "      <th></th>\n",
       "      <th></th>\n",
       "      <th></th>\n",
       "      <th></th>\n",
       "      <th></th>\n",
       "      <th></th>\n",
       "      <th></th>\n",
       "      <th></th>\n",
       "      <th></th>\n",
       "      <th></th>\n",
       "      <th></th>\n",
       "      <th></th>\n",
       "    </tr>\n",
       "  </thead>\n",
       "  <tbody>\n",
       "    <tr>\n",
       "      <th>1176482851</th>\n",
       "      <td>TREVOR HALL presents... The Fruitful Darkness</td>\n",
       "      <td>Music</td>\n",
       "      <td>Music</td>\n",
       "      <td>USD</td>\n",
       "      <td>2017-09-06</td>\n",
       "      <td>108.0</td>\n",
       "      <td>2017-08-07 20:17:39</td>\n",
       "      <td>137570.93</td>\n",
       "      <td>successful</td>\n",
       "      <td>2254</td>\n",
       "      <td>...</td>\n",
       "      <td>45.0</td>\n",
       "      <td>6</td>\n",
       "      <td>32</td>\n",
       "      <td>29</td>\n",
       "      <td>3.724138</td>\n",
       "      <td>1</td>\n",
       "      <td>0.047915</td>\n",
       "      <td>short</td>\n",
       "      <td>small</td>\n",
       "      <td>1273.804907</td>\n",
       "    </tr>\n",
       "    <tr>\n",
       "      <th>1955357092</th>\n",
       "      <td>Exploding Kittens</td>\n",
       "      <td>Tabletop Games</td>\n",
       "      <td>Games</td>\n",
       "      <td>USD</td>\n",
       "      <td>2015-02-20</td>\n",
       "      <td>10000.0</td>\n",
       "      <td>2015-01-20 19:00:19</td>\n",
       "      <td>8782571.99</td>\n",
       "      <td>successful</td>\n",
       "      <td>219382</td>\n",
       "      <td>...</td>\n",
       "      <td>17.0</td>\n",
       "      <td>2</td>\n",
       "      <td>4</td>\n",
       "      <td>30</td>\n",
       "      <td>333.333333</td>\n",
       "      <td>1</td>\n",
       "      <td>0.045583</td>\n",
       "      <td>short</td>\n",
       "      <td>medium</td>\n",
       "      <td>878.257199</td>\n",
       "    </tr>\n",
       "    <tr>\n",
       "      <th>902047561</th>\n",
       "      <td>YOGA : TIME  |  The best way to practice yoga</td>\n",
       "      <td>Apps</td>\n",
       "      <td>Technology</td>\n",
       "      <td>USD</td>\n",
       "      <td>2015-03-11</td>\n",
       "      <td>108.0</td>\n",
       "      <td>2015-01-16 13:10:17</td>\n",
       "      <td>86944.00</td>\n",
       "      <td>successful</td>\n",
       "      <td>1620</td>\n",
       "      <td>...</td>\n",
       "      <td>45.0</td>\n",
       "      <td>10</td>\n",
       "      <td>3</td>\n",
       "      <td>53</td>\n",
       "      <td>2.037736</td>\n",
       "      <td>1</td>\n",
       "      <td>0.066667</td>\n",
       "      <td>long</td>\n",
       "      <td>small</td>\n",
       "      <td>805.037037</td>\n",
       "    </tr>\n",
       "    <tr>\n",
       "      <th>1538025770</th>\n",
       "      <td>MC YOGI: ONLY LOVE IS REAL</td>\n",
       "      <td>Hip-Hop</td>\n",
       "      <td>Music</td>\n",
       "      <td>USD</td>\n",
       "      <td>2014-12-20</td>\n",
       "      <td>108.0</td>\n",
       "      <td>2014-11-05 01:46:40</td>\n",
       "      <td>86506.00</td>\n",
       "      <td>successful</td>\n",
       "      <td>1440</td>\n",
       "      <td>...</td>\n",
       "      <td>26.0</td>\n",
       "      <td>6</td>\n",
       "      <td>45</td>\n",
       "      <td>44</td>\n",
       "      <td>2.454545</td>\n",
       "      <td>1</td>\n",
       "      <td>0.075000</td>\n",
       "      <td>long</td>\n",
       "      <td>small</td>\n",
       "      <td>800.981481</td>\n",
       "    </tr>\n",
       "    <tr>\n",
       "      <th>968166384</th>\n",
       "      <td>Modern Map Art Prints</td>\n",
       "      <td>Graphic Design</td>\n",
       "      <td>Design</td>\n",
       "      <td>GBP</td>\n",
       "      <td>2017-09-23</td>\n",
       "      <td>250.0</td>\n",
       "      <td>2017-08-24 01:17:10</td>\n",
       "      <td>94711.00</td>\n",
       "      <td>successful</td>\n",
       "      <td>1942</td>\n",
       "      <td>...</td>\n",
       "      <td>21.0</td>\n",
       "      <td>4</td>\n",
       "      <td>34</td>\n",
       "      <td>29</td>\n",
       "      <td>11.542069</td>\n",
       "      <td>1</td>\n",
       "      <td>0.172358</td>\n",
       "      <td>short</td>\n",
       "      <td>small</td>\n",
       "      <td>507.228640</td>\n",
       "    </tr>\n",
       "  </tbody>\n",
       "</table>\n",
       "<p>5 rows × 24 columns</p>\n",
       "</div>"
      ],
      "text/plain": [
       "                                                     name        category  \\\n",
       "ID                                                                          \n",
       "1176482851  TREVOR HALL presents... The Fruitful Darkness           Music   \n",
       "1955357092                              Exploding Kittens  Tabletop Games   \n",
       "902047561   YOGA : TIME  |  The best way to practice yoga            Apps   \n",
       "1538025770                     MC YOGI: ONLY LOVE IS REAL         Hip-Hop   \n",
       "968166384                           Modern Map Art Prints  Graphic Design   \n",
       "\n",
       "           main_category currency   deadline     goal            launched  \\\n",
       "ID                                                                          \n",
       "1176482851         Music      USD 2017-09-06    108.0 2017-08-07 20:17:39   \n",
       "1955357092         Games      USD 2015-02-20  10000.0 2015-01-20 19:00:19   \n",
       "902047561     Technology      USD 2015-03-11    108.0 2015-01-16 13:10:17   \n",
       "1538025770         Music      USD 2014-12-20    108.0 2014-11-05 01:46:40   \n",
       "968166384         Design      GBP 2017-09-23    250.0 2017-08-24 01:17:10   \n",
       "\n",
       "               pledged       state  backers  ... number_of_chars  \\\n",
       "ID                                           ...                   \n",
       "1176482851   137570.93  successful     2254  ...            45.0   \n",
       "1955357092  8782571.99  successful   219382  ...            17.0   \n",
       "902047561     86944.00  successful     1620  ...            45.0   \n",
       "1538025770    86506.00  successful     1440  ...            26.0   \n",
       "968166384     94711.00  successful     1942  ...            21.0   \n",
       "\n",
       "            number_of_words  week_launced  days_to_collect  \\\n",
       "ID                                                           \n",
       "1176482851                6            32               29   \n",
       "1955357092                2             4               30   \n",
       "902047561                10             3               53   \n",
       "1538025770                6            45               44   \n",
       "968166384                 4            34               29   \n",
       "\n",
       "            usd_needed_per_day  cln_state  usd_per_backer  days_bins  \\\n",
       "ID                                                                     \n",
       "1176482851            3.724138          1        0.047915      short   \n",
       "1955357092          333.333333          1        0.045583      short   \n",
       "902047561             2.037736          1        0.066667       long   \n",
       "1538025770            2.454545          1        0.075000       long   \n",
       "968166384            11.542069          1        0.172358      short   \n",
       "\n",
       "            usd_bins_per_day   goal_ratio  \n",
       "ID                                         \n",
       "1176482851             small  1273.804907  \n",
       "1955357092            medium   878.257199  \n",
       "902047561              small   805.037037  \n",
       "1538025770             small   800.981481  \n",
       "968166384              small   507.228640  \n",
       "\n",
       "[5 rows x 24 columns]"
      ]
     },
     "execution_count": 28,
     "metadata": {},
     "output_type": "execute_result"
    }
   ],
   "source": [
    "df.loc[(df['state'] == 'successful') & (df['goal']>100)]\\\n",
    "    .sort_values(\n",
    "        by='goal_ratio', \n",
    "        ascending=False)\\\n",
    "    .iloc[:5]"
   ]
  },
  {
   "cell_type": "markdown",
   "metadata": {},
   "source": [
    "### Most successful projects over 100 dollar goal  by main_category"
   ]
  },
  {
   "cell_type": "code",
   "execution_count": 29,
   "metadata": {
    "ExecuteTime": {
     "end_time": "2019-04-24T15:56:24.386131Z",
     "start_time": "2019-04-24T15:56:24.198985Z"
    }
   },
   "outputs": [
    {
     "data": {
      "text/plain": [
       "<matplotlib.axes._subplots.AxesSubplot at 0x7f351b979b38>"
      ]
     },
     "execution_count": 29,
     "metadata": {},
     "output_type": "execute_result"
    },
    {
     "data": {
      "image/png": "[encoded data removed]",
      "text/plain": [
       "<Figure size 432x288 with 1 Axes>"
      ]
     },
     "metadata": {
      "needs_background": "light"
     },
     "output_type": "display_data"
    }
   ],
   "source": [
    "df[(df['state'] == 'successful') & (df['goal']>100)]\\\n",
    "    .groupby('main_category')['goal_ratio']\\\n",
    "    .mean()\\\n",
    "    .sort_values()\\\n",
    "    .plot.barh(color='green')"
   ]
  },
  {
   "cell_type": "markdown",
   "metadata": {},
   "source": [
    "### Evolution of succes ratio over time"
   ]
  },
  {
   "cell_type": "code",
   "execution_count": 30,
   "metadata": {
    "ExecuteTime": {
     "end_time": "2019-04-24T15:56:25.100432Z",
     "start_time": "2019-04-24T15:56:24.560314Z"
    }
   },
   "outputs": [
    {
     "data": {
      "image/png": "[encoded data removed]",
      "text/plain": [
       "<Figure size 1080x720 with 1 Axes>"
      ]
     },
     "metadata": {
      "needs_background": "light"
     },
     "output_type": "display_data"
    }
   ],
   "source": [
    "# caculate the number of launches per day\n",
    "total_time = df.groupby([df['launched'].dt.date])['name'].count()\n",
    "# caculate the number of launches per day and per state\n",
    "over_time = df.groupby([df['launched'].dt.date, df['state']])['name'].count()\n",
    "# caculate the probability of being successful over time\n",
    "per_suc_over_time = (over_time/total_time).xs('successful', level=1)\n",
    "# plot the rolling 30 day mean of the success rate\n",
    "ax = per_suc_over_time.rolling(30).mean().plot(figsize = (15,10))\n",
    "ax.set_ylabel('success probability')\n",
    "plt.title('Probability of being successful over time (30 day moving average)');"
   ]
  },
  {
   "cell_type": "markdown",
   "metadata": {},
   "source": [
    "### Plot the distribution of the numerical variables"
   ]
  },
  {
   "cell_type": "code",
   "execution_count": 31,
   "metadata": {
    "ExecuteTime": {
     "end_time": "2019-04-24T15:56:26.741896Z",
     "start_time": "2019-04-24T15:56:25.102769Z"
    }
   },
   "outputs": [
    {
     "data": {
      "image/png": "[encoded data removed]",
      "text/plain": [
       "<Figure size 1080x720 with 16 Axes>"
      ]
     },
     "metadata": {
      "needs_background": "light"
     },
     "output_type": "display_data"
    }
   ],
   "source": [
    "df.hist(figsize=(15,10));"
   ]
  },
  {
   "cell_type": "markdown",
   "metadata": {},
   "source": [
    "The difference between the average and max value is huge. This means that there are serious outliers which we decided to delete (this will be done in the next step). The outliers will be removed by removing the data which is 3 or more standard deviations away from the mean."
   ]
  },
  {
   "cell_type": "code",
   "execution_count": 32,
   "metadata": {
    "ExecuteTime": {
     "end_time": "2019-04-24T15:56:26.775463Z",
     "start_time": "2019-04-24T15:56:26.744724Z"
    }
   },
   "outputs": [],
   "source": [
    "cols = df.select_dtypes([np.number]).columns"
   ]
  },
  {
   "cell_type": "code",
   "execution_count": 33,
   "metadata": {
    "ExecuteTime": {
     "end_time": "2019-04-24T15:56:27.274979Z",
     "start_time": "2019-04-24T15:56:26.777856Z"
    }
   },
   "outputs": [],
   "source": [
    "df[cols] = df[cols].mask((df[cols] - df[cols].mean()).abs() > 3 * df[cols].std())\n",
    "df = df.dropna()"
   ]
  },
  {
   "cell_type": "code",
   "execution_count": 34,
   "metadata": {
    "ExecuteTime": {
     "end_time": "2019-04-24T15:56:27.309722Z",
     "start_time": "2019-04-24T15:56:27.276630Z"
    }
   },
   "outputs": [],
   "source": [
    "# remove where cln_state = 0\n",
    "df = df[df['cln_state'] !=0 ]"
   ]
  },
  {
   "cell_type": "markdown",
   "metadata": {},
   "source": [
    "Now all the data which is more than 3 standard devations away from the mean is removed."
   ]
  },
  {
   "cell_type": "code",
   "execution_count": 35,
   "metadata": {
    "ExecuteTime": {
     "end_time": "2019-04-24T15:56:28.921279Z",
     "start_time": "2019-04-24T15:56:27.311417Z"
    }
   },
   "outputs": [
    {
     "data": {
      "image/png": "[encoded data removed]",
      "text/plain": [
       "<Figure size 1080x720 with 16 Axes>"
      ]
     },
     "metadata": {
      "needs_background": "light"
     },
     "output_type": "display_data"
    }
   ],
   "source": [
    "df.hist(figsize=(15,10));"
   ]
  },
  {
   "cell_type": "code",
   "execution_count": 36,
   "metadata": {
    "ExecuteTime": {
     "end_time": "2019-04-24T15:56:28.930009Z",
     "start_time": "2019-04-24T15:56:28.923632Z"
    }
   },
   "outputs": [
    {
     "data": {
      "text/plain": [
       "array([-1,  1])"
      ]
     },
     "execution_count": 36,
     "metadata": {},
     "output_type": "execute_result"
    }
   ],
   "source": [
    "df['cln_state'].unique()"
   ]
  },
  {
   "cell_type": "code",
   "execution_count": 37,
   "metadata": {
    "ExecuteTime": {
     "end_time": "2019-04-24T15:56:28.954213Z",
     "start_time": "2019-04-24T15:56:28.932051Z"
    }
   },
   "outputs": [],
   "source": [
    "df = df.drop(columns=['name', \n",
    "                      'deadline', \n",
    "                      'launched', \n",
    "                      'state', \n",
    "                      'pledged',\n",
    "                      'usd pledged', \n",
    "                      'usd_pledged_real', \n",
    "                      'usd_per_backer',\n",
    "                      'backers',\n",
    "                      'goal_ratio'\n",
    "                     ])"
   ]
  },
  {
   "cell_type": "markdown",
   "metadata": {},
   "source": [
    "### Normalize the data"
   ]
  },
  {
   "cell_type": "code",
   "execution_count": 38,
   "metadata": {
    "ExecuteTime": {
     "end_time": "2019-04-24T15:56:28.959698Z",
     "start_time": "2019-04-24T15:56:28.957109Z"
    }
   },
   "outputs": [],
   "source": [
    "from sklearn.preprocessing import RobustScaler\n",
    "from sklearn.preprocessing import PowerTransformer"
   ]
  },
  {
   "cell_type": "code",
   "execution_count": 39,
   "metadata": {
    "ExecuteTime": {
     "end_time": "2019-04-24T15:56:28.991353Z",
     "start_time": "2019-04-24T15:56:28.961918Z"
    }
   },
   "outputs": [],
   "source": [
    "cols = df.select_dtypes([np.number]).drop(columns = 'cln_state').columns"
   ]
  },
  {
   "cell_type": "code",
   "execution_count": 40,
   "metadata": {
    "ExecuteTime": {
     "end_time": "2019-04-24T15:56:29.548459Z",
     "start_time": "2019-04-24T15:56:28.993409Z"
    }
   },
   "outputs": [],
   "source": [
    "trans = PowerTransformer().fit_transform(X = df[['goal', 'usd_needed_per_day']])"
   ]
  },
  {
   "cell_type": "code",
   "execution_count": 41,
   "metadata": {
    "ExecuteTime": {
     "end_time": "2019-04-24T15:56:29.553307Z",
     "start_time": "2019-04-24T15:56:29.549917Z"
    }
   },
   "outputs": [],
   "source": [
    "trans_df = pd.DataFrame(trans, columns=['goal', 'usd_needed_per_day'], index=df.index)"
   ]
  },
  {
   "cell_type": "markdown",
   "metadata": {},
   "source": [
    "### Dummies & PCA"
   ]
  },
  {
   "cell_type": "code",
   "execution_count": 42,
   "metadata": {
    "ExecuteTime": {
     "end_time": "2019-04-24T15:56:29.699586Z",
     "start_time": "2019-04-24T15:56:29.555124Z"
    }
   },
   "outputs": [],
   "source": [
    "weeks = pd.get_dummies(df['week_launced'], drop_first=True)\n",
    "chars = pd.get_dummies(df['number_of_chars'], drop_first=True)\n",
    "words = pd.get_dummies(df['number_of_words'], drop_first=True)\n",
    "days_to_col = pd.get_dummies(df['days_to_collect'], drop_first=True)\n",
    "currency = pd.get_dummies(df['currency'], drop_first=True)\n",
    "main_cat = pd.get_dummies(df['main_category'], drop_first=True)\n",
    "cat = pd.get_dummies(df['category'], drop_first=True)\n",
    "days_bins = pd.get_dummies(df['days_bins'], drop_first=True)\n",
    "usd_bins_per_day = pd.get_dummies(df['usd_bins_per_day'], drop_first=True)"
   ]
  },
  {
   "cell_type": "code",
   "execution_count": 43,
   "metadata": {
    "ExecuteTime": {
     "end_time": "2019-04-24T15:56:30.479219Z",
     "start_time": "2019-04-24T15:56:29.702413Z"
    }
   },
   "outputs": [],
   "source": [
    "df_dums = pd.concat([weeks, chars, words, days_to_col, currency, main_cat, cat, trans_df \\\n",
    "          , usd_bins_per_day, days_bins], axis=1)"
   ]
  },
  {
   "cell_type": "code",
   "execution_count": 44,
   "metadata": {
    "ExecuteTime": {
     "end_time": "2019-04-24T15:56:30.485788Z",
     "start_time": "2019-04-24T15:56:30.482410Z"
    }
   },
   "outputs": [],
   "source": [
    "X = df_dums\n",
    "y = df['cln_state']"
   ]
  },
  {
   "cell_type": "markdown",
   "metadata": {
    "ExecuteTime": {
     "end_time": "2019-04-10T15:33:20.021223Z",
     "start_time": "2019-04-10T15:33:20.017179Z"
    }
   },
   "source": [
    "Apply oversampling because the dataset is imbalanced."
   ]
  },
  {
   "cell_type": "code",
   "execution_count": 45,
   "metadata": {
    "ExecuteTime": {
     "end_time": "2019-04-24T15:56:30.682592Z",
     "start_time": "2019-04-24T15:56:30.488595Z"
    }
   },
   "outputs": [
    {
     "data": {
      "text/plain": [
       "<matplotlib.axes._subplots.AxesSubplot at 0x7f3518c6d6a0>"
      ]
     },
     "execution_count": 45,
     "metadata": {},
     "output_type": "execute_result"
    },
    {
     "data": {
      "image/png": "[encoded data removed]",
      "text/plain": [
       "<Figure size 432x288 with 1 Axes>"
      ]
     },
     "metadata": {
      "needs_background": "light"
     },
     "output_type": "display_data"
    }
   ],
   "source": [
    "df['cln_state'].plot.hist()"
   ]
  },
  {
   "cell_type": "code",
   "execution_count": 46,
   "metadata": {
    "ExecuteTime": {
     "end_time": "2019-04-24T15:58:59.260960Z",
     "start_time": "2019-04-24T15:58:56.495156Z"
    }
   },
   "outputs": [],
   "source": [
    "X_train, X_test, y_train, y_test = train_test_split(X, y, test_size=0.33, random_state=42)\n",
    "X_train, y_train = RandomOverSampler().fit_resample(X_train, y_train)"
   ]
  },
  {
   "cell_type": "code",
   "execution_count": 47,
   "metadata": {
    "ExecuteTime": {
     "end_time": "2019-04-24T15:59:08.618978Z",
     "start_time": "2019-04-24T15:58:59.263371Z"
    }
   },
   "outputs": [
    {
     "data": {
      "text/plain": [
       "PCA(copy=True, iterated_power='auto', n_components=None, random_state=None,\n",
       "  svd_solver='auto', tol=0.0, whiten=False)"
      ]
     },
     "execution_count": 47,
     "metadata": {},
     "output_type": "execute_result"
    }
   ],
   "source": [
    "pca = PCA()\n",
    "pca.fit(X_train)"
   ]
  },
  {
   "cell_type": "code",
   "execution_count": 48,
   "metadata": {
    "ExecuteTime": {
     "end_time": "2019-04-24T15:59:08.828863Z",
     "start_time": "2019-04-24T15:59:08.620475Z"
    }
   },
   "outputs": [
    {
     "data": {
      "text/plain": [
       "<matplotlib.axes._subplots.AxesSubplot at 0x7f3518b0c828>"
      ]
     },
     "execution_count": 48,
     "metadata": {},
     "output_type": "execute_result"
    },
    {
     "data": {
      "image/png": "[encoded data removed]",
      "text/plain": [
       "<Figure size 432x288 with 1 Axes>"
      ]
     },
     "metadata": {
      "needs_background": "light"
     },
     "output_type": "display_data"
    }
   ],
   "source": [
    "plot_pca_component_variance(pca, target_explained_variance=0.95)"
   ]
  },
  {
   "cell_type": "code",
   "execution_count": 49,
   "metadata": {
    "ExecuteTime": {
     "end_time": "2019-04-24T15:59:17.801269Z",
     "start_time": "2019-04-24T15:59:08.831065Z"
    }
   },
   "outputs": [
    {
     "data": {
      "text/plain": [
       "PCA(copy=True, iterated_power='auto', n_components=0.95, random_state=None,\n",
       "  svd_solver='auto', tol=0.0, whiten=False)"
      ]
     },
     "execution_count": 49,
     "metadata": {},
     "output_type": "execute_result"
    }
   ],
   "source": [
    "pca = PCA(n_components= 0.95)\n",
    "pca.fit(X_train)"
   ]
  },
  {
   "cell_type": "code",
   "execution_count": 50,
   "metadata": {
    "ExecuteTime": {
     "end_time": "2019-04-24T15:59:19.791448Z",
     "start_time": "2019-04-24T15:59:17.803666Z"
    }
   },
   "outputs": [],
   "source": [
    "X_train = pca.transform(X_train)\n",
    "X_test = pca.transform(X_test)"
   ]
  },
  {
   "cell_type": "markdown",
   "metadata": {},
   "source": [
    "### LogisticRegression"
   ]
  },
  {
   "cell_type": "code",
   "execution_count": 51,
   "metadata": {
    "ExecuteTime": {
     "end_time": "2019-04-24T15:56:53.698233Z",
     "start_time": "2019-04-24T15:56:53.695857Z"
    }
   },
   "outputs": [],
   "source": [
    "from sklearn.model_selection import cross_val_score"
   ]
  },
  {
   "cell_type": "code",
   "execution_count": 52,
   "metadata": {
    "ExecuteTime": {
     "end_time": "2019-04-24T15:56:53.703165Z",
     "start_time": "2019-04-24T15:56:53.700522Z"
    }
   },
   "outputs": [],
   "source": [
    "clf = LogisticRegression(n_jobs=-1)"
   ]
  },
  {
   "cell_type": "code",
   "execution_count": 53,
   "metadata": {
    "ExecuteTime": {
     "end_time": "2019-04-24T15:57:02.621248Z",
     "start_time": "2019-04-24T15:56:53.704792Z"
    },
    "scrolled": true
   },
   "outputs": [
    {
     "name": "stderr",
     "output_type": "stream",
     "text": [
      "/home/mahmoud/anaconda3/lib/python3.6/site-packages/sklearn/linear_model/logistic.py:433: FutureWarning: Default solver will be changed to 'lbfgs' in 0.22. Specify a solver to silence this warning.\n",
      "  FutureWarning)\n",
      "/home/mahmoud/anaconda3/lib/python3.6/site-packages/sklearn/linear_model/logistic.py:1300: UserWarning: 'n_jobs' > 1 does not have any effect when 'solver' is set to 'liblinear'. Got 'n_jobs' = 8.\n",
      "  \" = {}.\".format(effective_n_jobs(self.n_jobs)))\n"
     ]
    },
    {
     "data": {
      "text/plain": [
       "LogisticRegression(C=1.0, class_weight=None, dual=False, fit_intercept=True,\n",
       "          intercept_scaling=1, max_iter=100, multi_class='warn', n_jobs=-1,\n",
       "          penalty='l2', random_state=None, solver='warn', tol=0.0001,\n",
       "          verbose=0, warm_start=False)"
      ]
     },
     "execution_count": 53,
     "metadata": {},
     "output_type": "execute_result"
    }
   ],
   "source": [
    "clf.fit(X_train, y_train)"
   ]
  },
  {
   "cell_type": "code",
   "execution_count": 54,
   "metadata": {
    "ExecuteTime": {
     "end_time": "2019-04-24T15:57:38.329838Z",
     "start_time": "2019-04-24T15:57:02.623607Z"
    }
   },
   "outputs": [
    {
     "name": "stderr",
     "output_type": "stream",
     "text": [
      "/home/mahmoud/anaconda3/lib/python3.6/site-packages/sklearn/linear_model/logistic.py:433: FutureWarning: Default solver will be changed to 'lbfgs' in 0.22. Specify a solver to silence this warning.\n",
      "  FutureWarning)\n",
      "/home/mahmoud/anaconda3/lib/python3.6/site-packages/sklearn/linear_model/logistic.py:1300: UserWarning: 'n_jobs' > 1 does not have any effect when 'solver' is set to 'liblinear'. Got 'n_jobs' = 8.\n",
      "  \" = {}.\".format(effective_n_jobs(self.n_jobs)))\n",
      "/home/mahmoud/anaconda3/lib/python3.6/site-packages/sklearn/linear_model/logistic.py:433: FutureWarning: Default solver will be changed to 'lbfgs' in 0.22. Specify a solver to silence this warning.\n",
      "  FutureWarning)\n",
      "/home/mahmoud/anaconda3/lib/python3.6/site-packages/sklearn/linear_model/logistic.py:1300: UserWarning: 'n_jobs' > 1 does not have any effect when 'solver' is set to 'liblinear'. Got 'n_jobs' = 8.\n",
      "  \" = {}.\".format(effective_n_jobs(self.n_jobs)))\n",
      "/home/mahmoud/anaconda3/lib/python3.6/site-packages/sklearn/linear_model/logistic.py:433: FutureWarning: Default solver will be changed to 'lbfgs' in 0.22. Specify a solver to silence this warning.\n",
      "  FutureWarning)\n",
      "/home/mahmoud/anaconda3/lib/python3.6/site-packages/sklearn/linear_model/logistic.py:1300: UserWarning: 'n_jobs' > 1 does not have any effect when 'solver' is set to 'liblinear'. Got 'n_jobs' = 8.\n",
      "  \" = {}.\".format(effective_n_jobs(self.n_jobs)))\n",
      "/home/mahmoud/anaconda3/lib/python3.6/site-packages/sklearn/linear_model/logistic.py:433: FutureWarning: Default solver will be changed to 'lbfgs' in 0.22. Specify a solver to silence this warning.\n",
      "  FutureWarning)\n",
      "/home/mahmoud/anaconda3/lib/python3.6/site-packages/sklearn/linear_model/logistic.py:1300: UserWarning: 'n_jobs' > 1 does not have any effect when 'solver' is set to 'liblinear'. Got 'n_jobs' = 8.\n",
      "  \" = {}.\".format(effective_n_jobs(self.n_jobs)))\n",
      "/home/mahmoud/anaconda3/lib/python3.6/site-packages/sklearn/linear_model/logistic.py:433: FutureWarning: Default solver will be changed to 'lbfgs' in 0.22. Specify a solver to silence this warning.\n",
      "  FutureWarning)\n",
      "/home/mahmoud/anaconda3/lib/python3.6/site-packages/sklearn/linear_model/logistic.py:1300: UserWarning: 'n_jobs' > 1 does not have any effect when 'solver' is set to 'liblinear'. Got 'n_jobs' = 8.\n",
      "  \" = {}.\".format(effective_n_jobs(self.n_jobs)))\n"
     ]
    },
    {
     "name": "stdout",
     "output_type": "stream",
     "text": [
      "Accuracy: 0.67 (+/- 0.00)\n"
     ]
    }
   ],
   "source": [
    "scores = cross_val_score(clf, X_train, y_train, cv=5)\n",
    "print(\"Accuracy: %0.2f (+/- %0.2f)\" % (scores.mean(), scores.std() * 2))"
   ]
  },
  {
   "cell_type": "code",
   "execution_count": 55,
   "metadata": {
    "ExecuteTime": {
     "end_time": "2019-04-24T15:57:38.355674Z",
     "start_time": "2019-04-24T15:57:38.331824Z"
    }
   },
   "outputs": [],
   "source": [
    "y_pred = clf.predict(X_test)"
   ]
  },
  {
   "cell_type": "code",
   "execution_count": 56,
   "metadata": {
    "ExecuteTime": {
     "end_time": "2019-04-24T15:57:38.371250Z",
     "start_time": "2019-04-24T15:57:38.357809Z"
    }
   },
   "outputs": [
    {
     "data": {
      "text/plain": [
       "0.6665152547505488"
      ]
     },
     "execution_count": 56,
     "metadata": {},
     "output_type": "execute_result"
    }
   ],
   "source": [
    "accuracy_score(y_test, y_pred)"
   ]
  },
  {
   "cell_type": "code",
   "execution_count": 57,
   "metadata": {
    "ExecuteTime": {
     "end_time": "2019-04-24T15:57:38.619299Z",
     "start_time": "2019-04-24T15:57:38.373166Z"
    }
   },
   "outputs": [
    {
     "data": {
      "text/plain": [
       "<matplotlib.axes._subplots.AxesSubplot at 0x7f3518a7d5f8>"
      ]
     },
     "execution_count": 57,
     "metadata": {},
     "output_type": "execute_result"
    },
    {
     "data": {
      "image/png": "[encoded data removed]",
      "text/plain": [
       "<Figure size 432x288 with 2 Axes>"
      ]
     },
     "metadata": {
      "needs_background": "light"
     },
     "output_type": "display_data"
    }
   ],
   "source": [
    "plot_confusion_matrix(y_test, y_pred)"
   ]
  },
  {
   "cell_type": "code",
   "execution_count": 58,
   "metadata": {
    "ExecuteTime": {
     "end_time": "2019-04-24T15:57:59.824461Z",
     "start_time": "2019-04-24T15:57:38.621164Z"
    }
   },
   "outputs": [
    {
     "name": "stderr",
     "output_type": "stream",
     "text": [
      "/home/mahmoud/anaconda3/lib/python3.6/site-packages/sklearn/model_selection/_split.py:2053: FutureWarning: You should specify a value for 'cv' instead of relying on the default value. The default value will change from 3 to 5 in version 0.22.\n",
      "  warnings.warn(CV_WARNING, FutureWarning)\n"
     ]
    },
    {
     "data": {
      "text/plain": [
       "<matplotlib.axes._subplots.AxesSubplot at 0x7f35195aaa58>"
      ]
     },
     "execution_count": 58,
     "metadata": {},
     "output_type": "execute_result"
    },
    {
     "data": {
      "image/png": "[encoded data removed]",
      "text/plain": [
       "<Figure size 432x288 with 1 Axes>"
      ]
     },
     "metadata": {
      "needs_background": "light"
     },
     "output_type": "display_data"
    }
   ],
   "source": [
    "plot_learning_curve(clf, X, y, n_jobs=-1)"
   ]
  },
  {
   "cell_type": "markdown",
   "metadata": {},
   "source": [
    "### KMeans"
   ]
  },
  {
   "cell_type": "code",
   "execution_count": 59,
   "metadata": {
    "ExecuteTime": {
     "end_time": "2019-04-24T15:59:19.795415Z",
     "start_time": "2019-04-24T15:59:19.792985Z"
    }
   },
   "outputs": [],
   "source": [
    "cls = KMeans(n_clusters=2)"
   ]
  },
  {
   "cell_type": "code",
   "execution_count": 60,
   "metadata": {
    "ExecuteTime": {
     "end_time": "2019-04-24T15:59:42.141970Z",
     "start_time": "2019-04-24T15:59:19.797603Z"
    }
   },
   "outputs": [],
   "source": [
    "clusters = cls.fit(X_train)"
   ]
  },
  {
   "cell_type": "code",
   "execution_count": 61,
   "metadata": {
    "ExecuteTime": {
     "end_time": "2019-04-24T15:59:48.296151Z",
     "start_time": "2019-04-24T15:59:47.646496Z"
    }
   },
   "outputs": [],
   "source": [
    "X_train = np.concatenate((X_train, np.expand_dims(cls.predict(X_train), axis =1)), axis=1)\n",
    "X_test = np.concatenate((X_test, np.expand_dims(cls.predict(X_test), axis =1)), axis=1)"
   ]
  },
  {
   "cell_type": "markdown",
   "metadata": {
    "ExecuteTime": {
     "end_time": "2019-04-10T16:45:17.595649Z",
     "start_time": "2019-04-10T16:45:17.593611Z"
    }
   },
   "source": [
    "### ExtraTreeClassifier"
   ]
  },
  {
   "cell_type": "code",
   "execution_count": 62,
   "metadata": {
    "ExecuteTime": {
     "end_time": "2019-04-24T16:21:09.471679Z",
     "start_time": "2019-04-24T16:21:04.004729Z"
    }
   },
   "outputs": [
    {
     "name": "stderr",
     "output_type": "stream",
     "text": [
      "/home/mahmoud/anaconda3/lib/python3.6/site-packages/sklearn/ensemble/forest.py:246: FutureWarning: The default value of n_estimators will change from 10 in version 0.20 to 100 in 0.22.\n",
      "  \"10 in version 0.20 to 100 in 0.22.\", FutureWarning)\n"
     ]
    },
    {
     "data": {
      "text/plain": [
       "ExtraTreesClassifier(bootstrap=False, class_weight=None, criterion='gini',\n",
       "           max_depth=20, max_features='auto', max_leaf_nodes=None,\n",
       "           min_impurity_decrease=0.0, min_impurity_split=None,\n",
       "           min_samples_leaf=1, min_samples_split=150,\n",
       "           min_weight_fraction_leaf=0.0, n_estimators=10, n_jobs=-1,\n",
       "           oob_score=False, random_state=None, verbose=0, warm_start=False)"
      ]
     },
     "execution_count": 62,
     "metadata": {},
     "output_type": "execute_result"
    }
   ],
   "source": [
    "clf = ExtraTreesClassifier(min_samples_split=150, max_depth=20, n_jobs=-1)\n",
    "clf.fit(X_train, y_train)"
   ]
  },
  {
   "cell_type": "code",
   "execution_count": null,
   "metadata": {
    "ExecuteTime": {
     "end_time": "2019-04-24T16:21:09.654029Z",
     "start_time": "2019-04-24T16:21:09.474286Z"
    }
   },
   "outputs": [],
   "source": [
    "y_pred = clf.predict(X_test)"
   ]
  },
  {
   "cell_type": "code",
   "execution_count": null,
   "metadata": {
    "ExecuteTime": {
     "end_time": "2019-04-24T16:21:36.252137Z",
     "start_time": "2019-04-24T16:21:09.655882Z"
    }
   },
   "outputs": [
    {
     "name": "stdout",
     "output_type": "stream",
     "text": [
      "Accuracy: 0.68 (+/- 0.01)\n"
     ]
    }
   ],
   "source": [
    "scores = cross_val_score(clf, X_train, y_train, cv=5)\n",
    "print(\"Accuracy: %0.2f (+/- %0.2f)\" % (scores.mean(), scores.std() * 2))"
   ]
  },
  {
   "cell_type": "code",
   "execution_count": null,
   "metadata": {
    "ExecuteTime": {
     "end_time": "2019-04-24T16:21:36.269164Z",
     "start_time": "2019-04-24T16:21:36.254937Z"
    }
   },
   "outputs": [
    {
     "data": {
      "text/plain": [
       "0.6586586586586587"
      ]
     },
     "execution_count": 65,
     "metadata": {},
     "output_type": "execute_result"
    }
   ],
   "source": [
    "accuracy_score(y_test, y_pred)"
   ]
  },
  {
   "cell_type": "code",
   "execution_count": null,
   "metadata": {
    "ExecuteTime": {
     "end_time": "2019-04-24T16:21:36.540991Z",
     "start_time": "2019-04-24T16:21:36.271000Z"
    },
    "scrolled": true
   },
   "outputs": [
    {
     "data": {
      "text/plain": [
       "<matplotlib.axes._subplots.AxesSubplot at 0x7f351887f898>"
      ]
     },
     "execution_count": 66,
     "metadata": {},
     "output_type": "execute_result"
    },
    {
     "data": {
      "image/png": "[encoded data removed]",
      "text/plain": [
       "<Figure size 432x288 with 2 Axes>"
      ]
     },
     "metadata": {
      "needs_background": "light"
     },
     "output_type": "display_data"
    }
   ],
   "source": [
    "plot_confusion_matrix(y_test, y_pred)"
   ]
  },
  {
   "cell_type": "code",
   "execution_count": null,
   "metadata": {
    "ExecuteTime": {
     "end_time": "2019-04-24T16:21:36.944096Z",
     "start_time": "2019-04-24T16:21:36.542656Z"
    }
   },
   "outputs": [
    {
     "data": {
      "text/plain": [
       "<matplotlib.axes._subplots.AxesSubplot at 0x7f3519e62160>"
      ]
     },
     "execution_count": 67,
     "metadata": {},
     "output_type": "execute_result"
    },
    {
     "data": {
      "image/png": "[encoded data removed]",
      "text/plain": [
       "<Figure size 1080x720 with 1 Axes>"
      ]
     },
     "metadata": {
      "needs_background": "light"
     },
     "output_type": "display_data"
    }
   ],
   "source": [
    "fig, ax = plt.subplots(figsize=(15,10))\n",
    "plot_feature_importances(clf, feature_names=X.columns.values, max_num_features=10, ax=ax)"
   ]
  },
  {
   "cell_type": "code",
   "execution_count": null,
   "metadata": {
    "ExecuteTime": {
     "end_time": "2019-04-24T16:22:00.475382Z",
     "start_time": "2019-04-24T16:21:36.946133Z"
    }
   },
   "outputs": [
    {
     "name": "stderr",
     "output_type": "stream",
     "text": [
      "/home/mahmoud/anaconda3/lib/python3.6/site-packages/sklearn/model_selection/_split.py:2053: FutureWarning: You should specify a value for 'cv' instead of relying on the default value. The default value will change from 3 to 5 in version 0.22.\n",
      "  warnings.warn(CV_WARNING, FutureWarning)\n",
      "/home/mahmoud/anaconda3/lib/python3.6/site-packages/sklearn/externals/joblib/externals/loky/process_executor.py:706: UserWarning: A worker stopped while some jobs were given to the executor. This can be caused by a too short worker timeout or by a memory leak.\n",
      "  \"timeout or by a memory leak.\", UserWarning\n",
      "/home/mahmoud/anaconda3/lib/python3.6/site-packages/sklearn/externals/joblib/externals/loky/process_executor.py:706: UserWarning: A worker stopped while some jobs were given to the executor. This can be caused by a too short worker timeout or by a memory leak.\n",
      "  \"timeout or by a memory leak.\", UserWarning\n"
     ]
    },
    {
     "data": {
      "text/plain": [
       "<matplotlib.axes._subplots.AxesSubplot at 0x7f3518af3da0>"
      ]
     },
     "execution_count": 68,
     "metadata": {},
     "output_type": "execute_result"
    },
    {
     "data": {
      "image/png": "[encoded data removed]",
      "text/plain": [
       "<Figure size 432x288 with 1 Axes>"
      ]
     },
     "metadata": {
      "needs_background": "light"
     },
     "output_type": "display_data"
    }
   ],
   "source": [
    "plot_learning_curve(clf, X, y, n_jobs=-1)"
   ]
  },
  {
   "cell_type": "markdown",
   "metadata": {},
   "source": [
    "### GradientBoostingClassifier"
   ]
  },
  {
   "cell_type": "code",
   "execution_count": null,
   "metadata": {
    "ExecuteTime": {
     "end_time": "2019-04-24T15:25:41.375784Z",
     "start_time": "2019-04-24T15:25:41.372295Z"
    }
   },
   "outputs": [],
   "source": [
    "from sklearn.ensemble import GradientBoostingClassifier"
   ]
  },
  {
   "cell_type": "code",
   "execution_count": null,
   "metadata": {
    "ExecuteTime": {
     "end_time": "2019-04-24T15:25:41.380855Z",
     "start_time": "2019-04-24T15:25:41.377732Z"
    }
   },
   "outputs": [],
   "source": [
    "clf = GradientBoostingClassifier()"
   ]
  },
  {
   "cell_type": "code",
   "execution_count": null,
   "metadata": {
    "ExecuteTime": {
     "end_time": "2019-04-24T15:52:38.685911Z",
     "start_time": "2019-04-24T15:25:41.384210Z"
    },
    "scrolled": true
   },
   "outputs": [
    {
     "data": {
      "text/plain": [
       "GradientBoostingClassifier(criterion='friedman_mse', init=None,\n",
       "              learning_rate=0.1, loss='deviance', max_depth=3,\n",
       "              max_features=None, max_leaf_nodes=None,\n",
       "              min_impurity_decrease=0.0, min_impurity_split=None,\n",
       "              min_samples_leaf=1, min_samples_split=2,\n",
       "              min_weight_fraction_leaf=0.0, n_estimators=100,\n",
       "              n_iter_no_change=None, presort='auto', random_state=None,\n",
       "              subsample=1.0, tol=0.0001, validation_fraction=0.1,\n",
       "              verbose=0, warm_start=False)"
      ]
     },
     "execution_count": 71,
     "metadata": {},
     "output_type": "execute_result"
    }
   ],
   "source": [
    "clf.fit(X_train, y_train)"
   ]
  },
  {
   "cell_type": "code",
   "execution_count": null,
   "metadata": {
    "ExecuteTime": {
     "start_time": "2019-04-24T15:24:17.441Z"
    }
   },
   "outputs": [],
   "source": [
    "scores = cross_val_score(clf, X_train, y_train, cv=5)\n",
    "print(\"Accuracy: %0.2f (+/- %0.2f)\" % (scores.mean(), scores.std() * 2))"
   ]
  },
  {
   "cell_type": "code",
   "execution_count": null,
   "metadata": {
    "ExecuteTime": {
     "start_time": "2019-04-24T15:24:17.808Z"
    }
   },
   "outputs": [],
   "source": [
    "y_pred = clf.predict(X_test)"
   ]
  },
  {
   "cell_type": "code",
   "execution_count": null,
   "metadata": {
    "ExecuteTime": {
     "start_time": "2019-04-24T15:24:18.348Z"
    }
   },
   "outputs": [],
   "source": [
    "accuracy_score(y_test, y_pred)"
   ]
  },
  {
   "cell_type": "code",
   "execution_count": null,
   "metadata": {
    "ExecuteTime": {
     "start_time": "2019-04-24T15:24:18.902Z"
    }
   },
   "outputs": [],
   "source": [
    "plot_confusion_matrix(y_test, y_pred)"
   ]
  },
  {
   "cell_type": "code",
   "execution_count": null,
   "metadata": {
    "ExecuteTime": {
     "start_time": "2019-04-24T15:24:20.143Z"
    }
   },
   "outputs": [],
   "source": [
    "plot_learning_curve(clf, X, y, n_jobs=-1)"
   ]
  },
  {
   "cell_type": "markdown",
   "metadata": {},
   "source": [
    "## Bad results"
   ]
  },
  {
   "cell_type": "markdown",
   "metadata": {},
   "source": [
    "### SGDClassifier"
   ]
  },
  {
   "cell_type": "code",
   "execution_count": null,
   "metadata": {
    "ExecuteTime": {
     "end_time": "2019-04-24T16:02:58.258445Z",
     "start_time": "2019-04-24T16:02:58.256135Z"
    }
   },
   "outputs": [],
   "source": [
    "from sklearn.linear_model import SGDClassifier"
   ]
  },
  {
   "cell_type": "code",
   "execution_count": null,
   "metadata": {
    "ExecuteTime": {
     "end_time": "2019-04-24T16:06:05.142061Z",
     "start_time": "2019-04-24T16:06:05.139224Z"
    }
   },
   "outputs": [],
   "source": [
    "clf = SGDClassifier()"
   ]
  },
  {
   "cell_type": "code",
   "execution_count": null,
   "metadata": {
    "ExecuteTime": {
     "end_time": "2019-04-24T16:06:06.818714Z",
     "start_time": "2019-04-24T16:06:05.532431Z"
    },
    "scrolled": true
   },
   "outputs": [],
   "source": [
    "clf.fit(X_train, y_train)"
   ]
  },
  {
   "cell_type": "code",
   "execution_count": null,
   "metadata": {
    "ExecuteTime": {
     "end_time": "2019-04-24T16:06:12.894669Z",
     "start_time": "2019-04-24T16:06:06.820879Z"
    }
   },
   "outputs": [],
   "source": [
    "scores = cross_val_score(clf, X_train, y_train, cv=5)\n",
    "print(\"Accuracy: %0.2f (+/- %0.2f)\" % (scores.mean(), scores.std() * 2))"
   ]
  },
  {
   "cell_type": "code",
   "execution_count": null,
   "metadata": {
    "ExecuteTime": {
     "end_time": "2019-04-24T16:06:12.919892Z",
     "start_time": "2019-04-24T16:06:12.896136Z"
    }
   },
   "outputs": [],
   "source": [
    "y_pred = clf.predict(X_test)"
   ]
  },
  {
   "cell_type": "code",
   "execution_count": null,
   "metadata": {
    "ExecuteTime": {
     "end_time": "2019-04-24T16:06:12.934269Z",
     "start_time": "2019-04-24T16:06:12.922587Z"
    }
   },
   "outputs": [],
   "source": [
    "accuracy_score(y_test, y_pred)"
   ]
  },
  {
   "cell_type": "code",
   "execution_count": null,
   "metadata": {
    "ExecuteTime": {
     "end_time": "2019-04-24T16:06:13.197418Z",
     "start_time": "2019-04-24T16:06:12.936478Z"
    }
   },
   "outputs": [],
   "source": [
    "plot_confusion_matrix(y_test, y_pred)"
   ]
  },
  {
   "cell_type": "code",
   "execution_count": null,
   "metadata": {
    "ExecuteTime": {
     "end_time": "2019-04-24T16:06:24.450436Z",
     "start_time": "2019-04-24T16:06:13.199102Z"
    },
    "scrolled": false
   },
   "outputs": [],
   "source": [
    "plot_learning_curve(clf, X, y, n_jobs=-1)"
   ]
  },
  {
   "cell_type": "markdown",
   "metadata": {},
   "source": [
    "### RBFSampler"
   ]
  },
  {
   "cell_type": "code",
   "execution_count": null,
   "metadata": {
    "ExecuteTime": {
     "end_time": "2019-04-24T16:03:25.256763Z",
     "start_time": "2019-04-24T16:03:25.251694Z"
    }
   },
   "outputs": [],
   "source": [
    "from sklearn.kernel_approximation import RBFSampler\n",
    "from sklearn.linear_model import SGDClassifier"
   ]
  },
  {
   "cell_type": "code",
   "execution_count": null,
   "metadata": {
    "ExecuteTime": {
     "end_time": "2019-04-24T16:05:27.087358Z",
     "start_time": "2019-04-24T16:05:24.991327Z"
    }
   },
   "outputs": [],
   "source": [
    "rbf_feature = RBFSampler(gamma=0.001, n_components=188, random_state=1)\n",
    "X_features = rbf_feature.fit_transform(X_train)\n",
    "clf = SGDClassifier()\n",
    "clf.fit(X_features, y_train)   "
   ]
  },
  {
   "cell_type": "code",
   "execution_count": null,
   "metadata": {
    "ExecuteTime": {
     "end_time": "2019-04-24T16:05:33.687351Z",
     "start_time": "2019-04-24T16:05:27.089862Z"
    }
   },
   "outputs": [],
   "source": [
    "scores = cross_val_score(clf, X_train, y_train, cv=5)\n",
    "print(\"Accuracy: %0.2f (+/- %0.2f)\" % (scores.mean(), scores.std() * 2))"
   ]
  },
  {
   "cell_type": "code",
   "execution_count": null,
   "metadata": {
    "ExecuteTime": {
     "end_time": "2019-04-24T16:05:34.039740Z",
     "start_time": "2019-04-24T16:05:33.689298Z"
    }
   },
   "outputs": [],
   "source": [
    "X_features_t = rbf_feature.fit_transform(X_test)\n",
    "y_pred = clf.predict(X_features_t)"
   ]
  },
  {
   "cell_type": "code",
   "execution_count": null,
   "metadata": {
    "ExecuteTime": {
     "end_time": "2019-04-24T16:05:34.057701Z",
     "start_time": "2019-04-24T16:05:34.043069Z"
    }
   },
   "outputs": [],
   "source": [
    "accuracy_score(y_test, y_pred)"
   ]
  },
  {
   "cell_type": "code",
   "execution_count": null,
   "metadata": {
    "ExecuteTime": {
     "end_time": "2019-04-24T16:05:34.322033Z",
     "start_time": "2019-04-24T16:05:34.060378Z"
    }
   },
   "outputs": [],
   "source": [
    "plot_confusion_matrix(y_test, y_pred)"
   ]
  },
  {
   "cell_type": "code",
   "execution_count": null,
   "metadata": {
    "ExecuteTime": {
     "end_time": "2019-04-24T16:05:47.886787Z",
     "start_time": "2019-04-24T16:05:34.324342Z"
    }
   },
   "outputs": [],
   "source": [
    "plot_learning_curve(clf, X, y, n_jobs=-1)"
   ]
  },
  {
   "cell_type": "markdown",
   "metadata": {},
   "source": [
    "### SVM (DO NOT RUN, takes too long)"
   ]
  },
  {
   "cell_type": "markdown",
   "metadata": {
    "ExecuteTime": {
     "end_time": "2019-04-19T15:01:07.470238Z",
     "start_time": "2019-04-19T15:01:07.467649Z"
    }
   },
   "source": [
    "clf = SVC(gamma='auto')"
   ]
  },
  {
   "cell_type": "markdown",
   "metadata": {
    "ExecuteTime": {
     "start_time": "2019-04-19T15:01:07.982Z"
    }
   },
   "source": [
    "clf.fit(X_train, y_train)"
   ]
  },
  {
   "cell_type": "markdown",
   "metadata": {
    "ExecuteTime": {
     "start_time": "2019-04-19T15:01:10.216Z"
    }
   },
   "source": [
    "y_pred = clf.predict(X_test)"
   ]
  },
  {
   "cell_type": "markdown",
   "metadata": {
    "ExecuteTime": {
     "start_time": "2019-04-19T15:01:12.913Z"
    }
   },
   "source": [
    "accuracy_score(y_test, y_pred)"
   ]
  },
  {
   "cell_type": "markdown",
   "metadata": {
    "ExecuteTime": {
     "start_time": "2019-04-19T15:01:13.432Z"
    }
   },
   "source": [
    "plot_confusion_matrix(y_test, y_pred)"
   ]
  },
  {
   "cell_type": "markdown",
   "metadata": {
    "ExecuteTime": {
     "start_time": "2019-04-12T19:22:19.966Z"
    }
   },
   "source": [
    "plot_learning_curve(clf, X, y, n_jobs=-1)"
   ]
  },
  {
   "cell_type": "code",
   "execution_count": null,
   "metadata": {},
   "outputs": [],
   "source": []
  }
 ],
 "metadata": {
  "kernelspec": {
   "display_name": "Python 3",
   "language": "python",
   "name": "python3"
  },
  "language_info": {
   "codemirror_mode": {
    "name": "ipython",
    "version": 3
   },
   "file_extension": ".py",
   "mimetype": "text/x-python",
   "name": "python",
   "nbconvert_exporter": "python",
   "pygments_lexer": "ipython3",
   "version": "3.6.8"
  }
 },
 "nbformat": 4,
 "nbformat_minor": 2
}
